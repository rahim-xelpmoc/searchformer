{
 "cells": [
  {
   "cell_type": "code",
   "execution_count": 1,
   "id": "eeedb149",
   "metadata": {},
   "outputs": [],
   "source": [
    "import sys\n",
    "sys.path.append(\"/mnt/d/work/searchformer\")"
   ]
  },
  {
   "cell_type": "code",
   "execution_count": 2,
   "id": "e5a4acc3",
   "metadata": {},
   "outputs": [
    {
     "name": "stdout",
     "output_type": "stream",
     "text": [
      "pygame 2.6.1 (SDL 2.28.4, Python 3.10.0)\n",
      "Hello from the pygame community. https://www.pygame.org/contribute.html\n"
     ]
    }
   ],
   "source": [
    "from searchformer.sokoban import SokobanTrace,SokobanRenderer,SimpleSokobanTokenizer,sokoban_state_to_pretty_string\n",
    "import pygame\n",
    "import json"
   ]
  },
  {
   "cell_type": "code",
   "execution_count": 3,
   "id": "6a519d95",
   "metadata": {},
   "outputs": [],
   "source": [
    "with open(\"/mnt/d/work/searchformer/trace.json\") as file:\n",
    "    trace=json.load(file)"
   ]
  },
  {
   "cell_type": "code",
   "execution_count": 4,
   "id": "a72b08cc",
   "metadata": {},
   "outputs": [],
   "source": [
    "start_state=trace['sokoban_start']"
   ]
  },
  {
   "cell_type": "code",
   "execution_count": 5,
   "id": "660023b4",
   "metadata": {},
   "outputs": [],
   "source": [
    "actions=[]\n",
    "for action in trace['trace']:\n",
    "    if action['action']=='create' or action['action']=='close':\n",
    "    # if action['action']=='plan':\n",
    "        state=action['state']['state']\n",
    "        actions.append(state)"
   ]
  },
  {
   "cell_type": "code",
   "execution_count": 6,
   "id": "ca6ed73a",
   "metadata": {},
   "outputs": [
    {
     "data": {
      "text/plain": [
       "388"
      ]
     },
     "execution_count": 6,
     "metadata": {},
     "output_type": "execute_result"
    }
   ],
   "source": [
    "len(actions)"
   ]
  },
  {
   "cell_type": "code",
   "execution_count": 3,
   "id": "4534b338",
   "metadata": {},
   "outputs": [
    {
     "ename": "NameError",
     "evalue": "name 'actions' is not defined",
     "output_type": "error",
     "traceback": [
      "\u001b[31m---------------------------------------------------------------------------\u001b[39m",
      "\u001b[31mNameError\u001b[39m                                 Traceback (most recent call last)",
      "\u001b[36mCell\u001b[39m\u001b[36m \u001b[39m\u001b[32mIn[3]\u001b[39m\u001b[32m, line 11\u001b[39m\n\u001b[32m      8\u001b[39m     \u001b[38;5;28;01mif\u001b[39;00m event.type == pygame.QUIT:\n\u001b[32m      9\u001b[39m         running = \u001b[38;5;28;01mFalse\u001b[39;00m\n\u001b[32m---> \u001b[39m\u001b[32m11\u001b[39m \u001b[38;5;28;01mfor\u001b[39;00m action \u001b[38;5;129;01min\u001b[39;00m \u001b[43mactions\u001b[49m:\n\u001b[32m     12\u001b[39m     renderer.render(game_state=action)\n\u001b[32m     13\u001b[39m     pygame.display.flip()\n",
      "\u001b[31mNameError\u001b[39m: name 'actions' is not defined"
     ]
    }
   ],
   "source": [
    "renderer=SokobanRenderer(width=6,height=6,record_dir=\"D:\\\\work\\\\searchformer\\\\record_dir\",assets_dir=\"D:\\\\work\\\\searchformer\\\\sokoban\")\n",
    "pygame.init()\n",
    "clock = pygame.time.Clock()\n",
    "running = True\n",
    "\n",
    "while running:\n",
    "    for event in pygame.event.get():\n",
    "        if event.type == pygame.QUIT:\n",
    "            running = False\n",
    "\n",
    "    for action in actions:\n",
    "        renderer.render(game_state=action)\n",
    "        pygame.display.flip()\n",
    "        clock.tick(1)  # Optional: limit to 30 FPS\n",
    "    # renderer.img_to_file()\n",
    "    \n",
    "\n",
    "pygame.quit()"
   ]
  },
  {
   "cell_type": "code",
   "execution_count": 7,
   "id": "7e020342",
   "metadata": {},
   "outputs": [],
   "source": [
    "from PIL import Image\n",
    "import os\n",
    "from typing import List\n",
    "from searchformer.sokoban import CellState\n",
    "from PIL import Image, ImageDraw, ImageFont\n",
    "\n",
    "class SokobanPILRenderer:\n",
    "    def __init__(self, assets_dir: str, tile_size: int = 32):\n",
    "        self.assets_dir = os.path.join(assets_dir, \"images\")\n",
    "        self.tile_size = tile_size\n",
    "        self.tiles = {\n",
    "            CellState.wall: self.load(\"wall.png\"),\n",
    "            CellState.dock: self.load(\"dock.png\"),\n",
    "            CellState.floor: self.load(\"floor.png\"),\n",
    "            CellState.box: self.load(\"box.png\"),\n",
    "            CellState.box_on_dock: self.load(\"box_docked.png\"),\n",
    "            CellState.worker_on_floor: self.load(\"worker.png\"),\n",
    "            CellState.worker_on_dock: self.load(\"worker_dock.png\"),\n",
    "        }\n",
    "        # You can also use a TTF font for better styling\n",
    "        self.font = ImageFont.load_default()\n",
    "\n",
    "    def load(self, filename):\n",
    "        path = os.path.join(self.assets_dir, filename)\n",
    "        assert os.path.exists(path), f\"Image {path} not found.\"\n",
    "        return Image.open(path).convert(\"RGBA\").resize((self.tile_size, self.tile_size))\n",
    "\n",
    "    def render_to_image(\n",
    "        self,\n",
    "        game_state: List[List[str]],\n",
    "        action: str,\n",
    "        cost_from_start: float,\n",
    "        heuristic: float\n",
    "    ) -> Image.Image:\n",
    "        height = len(game_state)\n",
    "        width = len(game_state[0])\n",
    "        img = Image.new(\"RGBA\", (width * self.tile_size, (height + 1) * self.tile_size), (255, 226, 191, 255))\n",
    "        draw = ImageDraw.Draw(img)\n",
    "\n",
    "        for y, row in enumerate(game_state):\n",
    "            for x, cell in enumerate(row):\n",
    "                tile = self.tiles.get(cell)\n",
    "                if tile:\n",
    "                    img.paste(tile, (x * self.tile_size, y * self.tile_size), mask=tile)\n",
    "\n",
    "        # Write metadata below the board\n",
    "        info_y = height * self.tile_size + 2\n",
    "        draw.text((5, info_y), f\"Action: {action}\", font=self.font, fill=(0, 0, 0))\n",
    "        draw.text((150, info_y), f\"g: {cost_from_start}\", font=self.font, fill=(0, 0, 0))\n",
    "        draw.text((150, info_y+15), f\"h: {heuristic}\", font=self.font, fill=(0, 0, 0))\n",
    "\n",
    "        return img\n"
   ]
  },
  {
   "cell_type": "code",
   "execution_count": 8,
   "id": "4db70ae4",
   "metadata": {},
   "outputs": [],
   "source": [
    "sokoban_pil_renderer=SokobanPILRenderer(assets_dir=\"/mnt/d/work/searchformer/sokoban\")"
   ]
  },
  {
   "cell_type": "code",
   "execution_count": 9,
   "id": "b3e9a1a0",
   "metadata": {},
   "outputs": [],
   "source": [
    "start_state=[\n",
    "        [\"#\", \"#\", \"#\", \"#\", \"#\", \"#\"\n",
    "        ],\n",
    "        [\"#\", \" \", \" \", \" \", \"@\", \"#\"\n",
    "        ],\n",
    "        [\"#\", \"#\", \"$\", \"$\", \" \", \"#\"\n",
    "        ],\n",
    "        [\"#\", \".\", \" \", \".\", \" \", \"#\"\n",
    "        ],\n",
    "        [\"#\", \"#\", \" \", \" \", \" \", \"#\"\n",
    "        ],\n",
    "        [\"#\", \"#\", \"#\", \"#\", \"#\", \"#\"\n",
    "        ]\n",
    "    ]"
   ]
  },
  {
   "cell_type": "code",
   "execution_count": 10,
   "id": "f28312ec",
   "metadata": {},
   "outputs": [
    {
     "data": {
      "image/png": "[encoded data removed]",
      "text/plain": [
       "<PIL.Image.Image image mode=RGBA size=192x224>"
      ]
     },
     "execution_count": 10,
     "metadata": {},
     "output_type": "execute_result"
    }
   ],
   "source": [
    "sokoban_pil_renderer.render_to_image(game_state=start_state,action='create',cost_from_start=0,heuristic=0)"
   ]
  },
  {
   "cell_type": "code",
   "execution_count": 13,
   "id": "142f00d5",
   "metadata": {},
   "outputs": [],
   "source": [
    "import os\n",
    "record_dir=\"/mnt/d/work/searchformer/trace_dir\""
   ]
  },
  {
   "cell_type": "code",
   "execution_count": 66,
   "id": "1fce2c73",
   "metadata": {},
   "outputs": [],
   "source": [
    "# start state\n",
    "sokoban_pil_renderer.render_to_image(trace['sokoban_start'],action='start',cost_from_start=0,heuristic=0).save(os.path.join(record_dir,\"start_state.png\"))"
   ]
  },
  {
   "cell_type": "code",
   "execution_count": 14,
   "id": "36b2801a",
   "metadata": {},
   "outputs": [],
   "source": [
    "for index, act in enumerate(trace['trace']):\n",
    "    sokoban_pil_renderer.render_to_image(game_state=act['state']['state'],cost_from_start=act['cost_from_start'],heuristic=act['heuristic'],action=act['action']).save(os.path.join(record_dir,f\"trace_{index}.png\"))"
   ]
  },
  {
   "cell_type": "code",
   "execution_count": null,
   "id": "e6e318b7",
   "metadata": {},
   "outputs": [],
   "source": []
  }
 ],
 "metadata": {
  "kernelspec": {
   "display_name": "Python 3",
   "language": "python",
   "name": "python3"
  },
  "language_info": {
   "codemirror_mode": {
    "name": "ipython",
    "version": 3
   },
   "file_extension": ".py",
   "mimetype": "text/x-python",
   "name": "python",
   "nbconvert_exporter": "python",
   "pygments_lexer": "ipython3",
   "version": "3.10.0"
  }
 },
 "nbformat": 4,
 "nbformat_minor": 5
}
