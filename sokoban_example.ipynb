{
 "cells": [
  {
   "cell_type": "code",
   "execution_count": 1,
   "id": "eeedb149",
   "metadata": {},
   "outputs": [],
   "source": [
    "import sys\n",
    "sys.path.append(\"D:\\\\work\\\\searchformer\\\\searchformer\")"
   ]
  },
  {
   "cell_type": "code",
   "execution_count": 2,
   "id": "e5a4acc3",
   "metadata": {},
   "outputs": [
    {
     "name": "stdout",
     "output_type": "stream",
     "text": [
      "pygame 2.6.1 (SDL 2.28.4, Python 3.12.4)\n",
      "Hello from the pygame community. https://www.pygame.org/contribute.html\n"
     ]
    }
   ],
   "source": [
    "from searchformer.sokoban import SokobanTrace,SokobanRenderer,SimpleSokobanTokenizer,sokoban_state_to_pretty_string\n",
    "import pygame\n",
    "import json"
   ]
  },
  {
   "cell_type": "code",
   "execution_count": 3,
   "id": "6a519d95",
   "metadata": {},
   "outputs": [],
   "source": [
    "with open(\"D:\\\\work\\\\searchformer\\\\7x7_sokoban_trace.json\") as file:\n",
    "    trace=json.load(file)"
   ]
  },
  {
   "cell_type": "code",
   "execution_count": 5,
   "id": "a72b08cc",
   "metadata": {},
   "outputs": [],
   "source": [
    "start_state=trace['sokoban_start']"
   ]
  },
  {
   "cell_type": "code",
   "execution_count": 6,
   "id": "660023b4",
   "metadata": {},
   "outputs": [],
   "source": [
    "actions=[]\n",
    "for action in trace['trace']:\n",
    "    # if action['action']=='create' or action['action']=='close':\n",
    "    if action['action']=='plan':\n",
    "        state=action['state']['state']\n",
    "        actions.append(state)"
   ]
  },
  {
   "cell_type": "code",
   "execution_count": 7,
   "id": "ca6ed73a",
   "metadata": {},
   "outputs": [
    {
     "data": {
      "text/plain": [
       "15"
      ]
     },
     "execution_count": 7,
     "metadata": {},
     "output_type": "execute_result"
    }
   ],
   "source": [
    "len(actions)"
   ]
  },
  {
   "cell_type": "code",
   "execution_count": 8,
   "id": "4534b338",
   "metadata": {},
   "outputs": [
    {
     "ename": "",
     "evalue": "",
     "output_type": "error",
     "traceback": [
      "\u001b[1;31mThe Kernel crashed while executing code in the current cell or a previous cell. \n",
      "\u001b[1;31mPlease review the code in the cell(s) to identify a possible cause of the failure. \n",
      "\u001b[1;31mClick <a href='https://aka.ms/vscodeJupyterKernelCrash'>here</a> for more info. \n",
      "\u001b[1;31mView Jupyter <a href='command:jupyter.viewOutput'>log</a> for further details."
     ]
    }
   ],
   "source": [
    "renderer=SokobanRenderer(width=6,height=6,record_dir=\"D:\\\\work\\\\searchformer\\\\record_dir\",assets_dir=\"D:\\\\work\\\\searchformer\\\\sokoban\")\n",
    "pygame.init()\n",
    "clock = pygame.time.Clock()\n",
    "running = True\n",
    "\n",
    "while running:\n",
    "    for event in pygame.event.get():\n",
    "        if event.type == pygame.QUIT:\n",
    "            running = False\n",
    "\n",
    "    for action in actions:\n",
    "        renderer.render(game_state=action)\n",
    "        pygame.display.flip()\n",
    "        clock.tick(1)  # Optional: limit to 30 FPS\n",
    "    # renderer.img_to_file()\n",
    "    \n",
    "\n",
    "pygame.quit()"
   ]
  }
 ],
 "metadata": {
  "kernelspec": {
   "display_name": ".venv",
   "language": "python",
   "name": "python3"
  },
  "language_info": {
   "codemirror_mode": {
    "name": "ipython",
    "version": 3
   },
   "file_extension": ".py",
   "mimetype": "text/x-python",
   "name": "python",
   "nbconvert_exporter": "python",
   "pygments_lexer": "ipython3",
   "version": "3.12.4"
  }
 },
 "nbformat": 4,
 "nbformat_minor": 5
}
