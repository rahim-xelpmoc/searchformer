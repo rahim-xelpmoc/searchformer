{
 "cells": [
  {
   "cell_type": "code",
   "execution_count": 1,
   "metadata": {},
   "outputs": [],
   "source": [
    "import sys\n",
    "sys.path.append(\"/mnt/d/work/searchformer\")"
   ]
  },
  {
   "cell_type": "code",
   "execution_count": 2,
   "metadata": {},
   "outputs": [],
   "source": [
    "from searchformer.maze import MazeTraceDataset,SimpleMazeTokenizer,MazeTrace"
   ]
  },
  {
   "cell_type": "code",
   "execution_count": 3,
   "metadata": {},
   "outputs": [],
   "source": [
    "def print_line(data,interval=3):\n",
    "    for i in range(0, len(data), interval):\n",
    "        print(\" \".join([data[i+j] for j in range(interval)]))"
   ]
  },
  {
   "cell_type": "code",
   "execution_count": 3,
   "metadata": {},
   "outputs": [],
   "source": [
    "maze_trace_dataset=MazeTraceDataset(name=\"maze_trace_db\")"
   ]
  },
  {
   "cell_type": "code",
   "execution_count": 4,
   "metadata": {},
   "outputs": [
    {
     "name": "stdout",
     "output_type": "stream",
     "text": [
      "{'spec': {'width': 5, 'height': 5, 'start': {'x': 0, 'y': 2}, 'goal': {'x': 2, 'y': 0}, 'walls': [{'x': 0, 'y': 0}, {'x': 2, 'y': 1}, {'x': 0, 'y': 3}, {'x': 2, 'y': 3}, {'x': 3, 'y': 3}, {'x': 4, 'y': 3}, {'x': 0, 'y': 4}, {'x': 1, 'y': 4}, {'x': 4, 'y': 4}]}, 'trace': [{'action': 'create', 'state': {'x': 0, 'y': 2}, 'cost_from_start': 0.0, 'heuristic': 4.0, 'path': ''}, {'action': 'close', 'state': {'x': 0, 'y': 2}, 'cost_from_start': 0.0, 'heuristic': 4.0, 'path': ''}, {'action': 'create', 'state': {'x': 0, 'y': 1}, 'cost_from_start': 1.0, 'heuristic': 3.0, 'path': ''}, {'action': 'create', 'state': {'x': 1, 'y': 2}, 'cost_from_start': 1.0, 'heuristic': 3.0, 'path': ''}, {'action': 'close', 'state': {'x': 0, 'y': 1}, 'cost_from_start': 1.0, 'heuristic': 3.0, 'path': ''}, {'action': 'create', 'state': {'x': 1, 'y': 1}, 'cost_from_start': 2.0, 'heuristic': 2.0, 'path': ''}, {'action': 'close', 'state': {'x': 1, 'y': 1}, 'cost_from_start': 2.0, 'heuristic': 2.0, 'path': ''}, {'action': 'create', 'state': {'x': 1, 'y': 0}, 'cost_from_start': 3.0, 'heuristic': 1.0, 'path': ''}, {'action': 'close', 'state': {'x': 1, 'y': 0}, 'cost_from_start': 3.0, 'heuristic': 1.0, 'path': ''}, {'action': 'create', 'state': {'x': 2, 'y': 0}, 'cost_from_start': 4.0, 'heuristic': 0.0, 'path': ''}, {'action': 'close', 'state': {'x': 2, 'y': 0}, 'cost_from_start': 4.0, 'heuristic': 0.0, 'path': ''}, {'action': 'plan', 'state': {'x': 0, 'y': 2}, 'cost_from_start': 0.0, 'heuristic': 4.0, 'path': ''}, {'action': 'plan', 'state': {'x': 0, 'y': 1}, 'cost_from_start': 1.0, 'heuristic': 3.0, 'path': ''}, {'action': 'plan', 'state': {'x': 1, 'y': 1}, 'cost_from_start': 2.0, 'heuristic': 2.0, 'path': ''}, {'action': 'plan', 'state': {'x': 1, 'y': 0}, 'cost_from_start': 3.0, 'heuristic': 1.0, 'path': ''}, {'action': 'plan', 'state': {'x': 2, 'y': 0}, 'cost_from_start': 4.0, 'heuristic': 0.0, 'path': ''}]}\n",
      "{'spec': {'width': 5, 'height': 5, 'start': {'x': 4, 'y': 0}, 'goal': {'x': 1, 'y': 3}, 'walls': [{'x': 0, 'y': 0}, {'x': 2, 'y': 1}, {'x': 0, 'y': 3}, {'x': 2, 'y': 3}, {'x': 3, 'y': 3}, {'x': 4, 'y': 3}, {'x': 0, 'y': 4}, {'x': 1, 'y': 4}, {'x': 4, 'y': 4}]}, 'trace': [{'action': 'create', 'state': {'x': 4, 'y': 0}, 'cost_from_start': 0.0, 'heuristic': 6.0, 'path': ''}, {'action': 'close', 'state': {'x': 4, 'y': 0}, 'cost_from_start': 0.0, 'heuristic': 6.0, 'path': ''}, {'action': 'create', 'state': {'x': 4, 'y': 1}, 'cost_from_start': 1.0, 'heuristic': 5.0, 'path': ''}, {'action': 'create', 'state': {'x': 3, 'y': 0}, 'cost_from_start': 1.0, 'heuristic': 5.0, 'path': ''}, {'action': 'close', 'state': {'x': 3, 'y': 0}, 'cost_from_start': 1.0, 'heuristic': 5.0, 'path': ''}, {'action': 'create', 'state': {'x': 3, 'y': 1}, 'cost_from_start': 2.0, 'heuristic': 4.0, 'path': ''}, {'action': 'create', 'state': {'x': 2, 'y': 0}, 'cost_from_start': 2.0, 'heuristic': 4.0, 'path': ''}, {'action': 'close', 'state': {'x': 2, 'y': 0}, 'cost_from_start': 2.0, 'heuristic': 4.0, 'path': ''}, {'action': 'create', 'state': {'x': 1, 'y': 0}, 'cost_from_start': 3.0, 'heuristic': 3.0, 'path': ''}, {'action': 'close', 'state': {'x': 1, 'y': 0}, 'cost_from_start': 3.0, 'heuristic': 3.0, 'path': ''}, {'action': 'create', 'state': {'x': 1, 'y': 1}, 'cost_from_start': 4.0, 'heuristic': 2.0, 'path': ''}, {'action': 'close', 'state': {'x': 1, 'y': 1}, 'cost_from_start': 4.0, 'heuristic': 2.0, 'path': ''}, {'action': 'create', 'state': {'x': 1, 'y': 2}, 'cost_from_start': 5.0, 'heuristic': 1.0, 'path': ''}, {'action': 'create', 'state': {'x': 0, 'y': 1}, 'cost_from_start': 5.0, 'heuristic': 3.0, 'path': ''}, {'action': 'close', 'state': {'x': 3, 'y': 1}, 'cost_from_start': 2.0, 'heuristic': 4.0, 'path': ''}, {'action': 'create', 'state': {'x': 3, 'y': 2}, 'cost_from_start': 3.0, 'heuristic': 3.0, 'path': ''}, {'action': 'close', 'state': {'x': 4, 'y': 1}, 'cost_from_start': 1.0, 'heuristic': 5.0, 'path': ''}, {'action': 'create', 'state': {'x': 4, 'y': 2}, 'cost_from_start': 2.0, 'heuristic': 4.0, 'path': ''}, {'action': 'close', 'state': {'x': 1, 'y': 2}, 'cost_from_start': 5.0, 'heuristic': 1.0, 'path': ''}, {'action': 'create', 'state': {'x': 1, 'y': 3}, 'cost_from_start': 6.0, 'heuristic': 0.0, 'path': ''}, {'action': 'create', 'state': {'x': 0, 'y': 2}, 'cost_from_start': 6.0, 'heuristic': 2.0, 'path': ''}, {'action': 'create', 'state': {'x': 2, 'y': 2}, 'cost_from_start': 6.0, 'heuristic': 2.0, 'path': ''}, {'action': 'close', 'state': {'x': 3, 'y': 2}, 'cost_from_start': 3.0, 'heuristic': 3.0, 'path': ''}, {'action': 'create', 'state': {'x': 2, 'y': 2}, 'cost_from_start': 4.0, 'heuristic': 2.0, 'path': ''}, {'action': 'close', 'state': {'x': 2, 'y': 2}, 'cost_from_start': 4.0, 'heuristic': 2.0, 'path': ''}, {'action': 'close', 'state': {'x': 4, 'y': 2}, 'cost_from_start': 2.0, 'heuristic': 4.0, 'path': ''}, {'action': 'close', 'state': {'x': 1, 'y': 3}, 'cost_from_start': 6.0, 'heuristic': 0.0, 'path': ''}, {'action': 'plan', 'state': {'x': 4, 'y': 0}, 'cost_from_start': 0.0, 'heuristic': 6.0, 'path': ''}, {'action': 'plan', 'state': {'x': 3, 'y': 0}, 'cost_from_start': 1.0, 'heuristic': 5.0, 'path': ''}, {'action': 'plan', 'state': {'x': 2, 'y': 0}, 'cost_from_start': 2.0, 'heuristic': 4.0, 'path': ''}, {'action': 'plan', 'state': {'x': 1, 'y': 0}, 'cost_from_start': 3.0, 'heuristic': 3.0, 'path': ''}, {'action': 'plan', 'state': {'x': 1, 'y': 1}, 'cost_from_start': 4.0, 'heuristic': 2.0, 'path': ''}, {'action': 'plan', 'state': {'x': 1, 'y': 2}, 'cost_from_start': 5.0, 'heuristic': 1.0, 'path': ''}, {'action': 'plan', 'state': {'x': 1, 'y': 3}, 'cost_from_start': 6.0, 'heuristic': 0.0, 'path': ''}]}\n",
      "{'spec': {'width': 5, 'height': 5, 'start': {'x': 3, 'y': 0}, 'goal': {'x': 1, 'y': 2}, 'walls': [{'x': 0, 'y': 0}, {'x': 2, 'y': 1}, {'x': 0, 'y': 3}, {'x': 2, 'y': 3}, {'x': 3, 'y': 3}, {'x': 4, 'y': 3}, {'x': 0, 'y': 4}, {'x': 1, 'y': 4}, {'x': 4, 'y': 4}]}, 'trace': [{'action': 'create', 'state': {'x': 3, 'y': 0}, 'cost_from_start': 0.0, 'heuristic': 4.0, 'path': ''}, {'action': 'close', 'state': {'x': 3, 'y': 0}, 'cost_from_start': 0.0, 'heuristic': 4.0, 'path': ''}, {'action': 'create', 'state': {'x': 3, 'y': 1}, 'cost_from_start': 1.0, 'heuristic': 3.0, 'path': ''}, {'action': 'create', 'state': {'x': 2, 'y': 0}, 'cost_from_start': 1.0, 'heuristic': 3.0, 'path': ''}, {'action': 'create', 'state': {'x': 4, 'y': 0}, 'cost_from_start': 1.0, 'heuristic': 5.0, 'path': ''}, {'action': 'close', 'state': {'x': 2, 'y': 0}, 'cost_from_start': 1.0, 'heuristic': 3.0, 'path': ''}, {'action': 'create', 'state': {'x': 1, 'y': 0}, 'cost_from_start': 2.0, 'heuristic': 2.0, 'path': ''}, {'action': 'close', 'state': {'x': 1, 'y': 0}, 'cost_from_start': 2.0, 'heuristic': 2.0, 'path': ''}, {'action': 'create', 'state': {'x': 1, 'y': 1}, 'cost_from_start': 3.0, 'heuristic': 1.0, 'path': ''}, {'action': 'close', 'state': {'x': 1, 'y': 1}, 'cost_from_start': 3.0, 'heuristic': 1.0, 'path': ''}, {'action': 'create', 'state': {'x': 1, 'y': 2}, 'cost_from_start': 4.0, 'heuristic': 0.0, 'path': ''}, {'action': 'create', 'state': {'x': 0, 'y': 1}, 'cost_from_start': 4.0, 'heuristic': 2.0, 'path': ''}, {'action': 'close', 'state': {'x': 3, 'y': 1}, 'cost_from_start': 1.0, 'heuristic': 3.0, 'path': ''}, {'action': 'create', 'state': {'x': 3, 'y': 2}, 'cost_from_start': 2.0, 'heuristic': 2.0, 'path': ''}, {'action': 'create', 'state': {'x': 4, 'y': 1}, 'cost_from_start': 2.0, 'heuristic': 4.0, 'path': ''}, {'action': 'close', 'state': {'x': 1, 'y': 2}, 'cost_from_start': 4.0, 'heuristic': 0.0, 'path': ''}, {'action': 'plan', 'state': {'x': 3, 'y': 0}, 'cost_from_start': 0.0, 'heuristic': 4.0, 'path': ''}, {'action': 'plan', 'state': {'x': 2, 'y': 0}, 'cost_from_start': 1.0, 'heuristic': 3.0, 'path': ''}, {'action': 'plan', 'state': {'x': 1, 'y': 0}, 'cost_from_start': 2.0, 'heuristic': 2.0, 'path': ''}, {'action': 'plan', 'state': {'x': 1, 'y': 1}, 'cost_from_start': 3.0, 'heuristic': 1.0, 'path': ''}, {'action': 'plan', 'state': {'x': 1, 'y': 2}, 'cost_from_start': 4.0, 'heuristic': 0.0, 'path': ''}]}\n",
      "{'spec': {'width': 5, 'height': 5, 'start': {'x': 1, 'y': 3}, 'goal': {'x': 2, 'y': 0}, 'walls': [{'x': 0, 'y': 0}, {'x': 2, 'y': 1}, {'x': 0, 'y': 3}, {'x': 2, 'y': 3}, {'x': 3, 'y': 3}, {'x': 4, 'y': 3}, {'x': 0, 'y': 4}, {'x': 1, 'y': 4}, {'x': 4, 'y': 4}]}, 'trace': [{'action': 'create', 'state': {'x': 1, 'y': 3}, 'cost_from_start': 0.0, 'heuristic': 4.0, 'path': ''}, {'action': 'close', 'state': {'x': 1, 'y': 3}, 'cost_from_start': 0.0, 'heuristic': 4.0, 'path': ''}, {'action': 'create', 'state': {'x': 1, 'y': 2}, 'cost_from_start': 1.0, 'heuristic': 3.0, 'path': ''}, {'action': 'close', 'state': {'x': 1, 'y': 2}, 'cost_from_start': 1.0, 'heuristic': 3.0, 'path': ''}, {'action': 'create', 'state': {'x': 1, 'y': 1}, 'cost_from_start': 2.0, 'heuristic': 2.0, 'path': ''}, {'action': 'create', 'state': {'x': 0, 'y': 2}, 'cost_from_start': 2.0, 'heuristic': 4.0, 'path': ''}, {'action': 'create', 'state': {'x': 2, 'y': 2}, 'cost_from_start': 2.0, 'heuristic': 2.0, 'path': ''}, {'action': 'close', 'state': {'x': 1, 'y': 1}, 'cost_from_start': 2.0, 'heuristic': 2.0, 'path': ''}, {'action': 'create', 'state': {'x': 1, 'y': 0}, 'cost_from_start': 3.0, 'heuristic': 1.0, 'path': ''}, {'action': 'create', 'state': {'x': 0, 'y': 1}, 'cost_from_start': 3.0, 'heuristic': 3.0, 'path': ''}, {'action': 'close', 'state': {'x': 1, 'y': 0}, 'cost_from_start': 3.0, 'heuristic': 1.0, 'path': ''}, {'action': 'create', 'state': {'x': 2, 'y': 0}, 'cost_from_start': 4.0, 'heuristic': 0.0, 'path': ''}, {'action': 'close', 'state': {'x': 2, 'y': 0}, 'cost_from_start': 4.0, 'heuristic': 0.0, 'path': ''}, {'action': 'plan', 'state': {'x': 1, 'y': 3}, 'cost_from_start': 0.0, 'heuristic': 4.0, 'path': ''}, {'action': 'plan', 'state': {'x': 1, 'y': 2}, 'cost_from_start': 1.0, 'heuristic': 3.0, 'path': ''}, {'action': 'plan', 'state': {'x': 1, 'y': 1}, 'cost_from_start': 2.0, 'heuristic': 2.0, 'path': ''}, {'action': 'plan', 'state': {'x': 1, 'y': 0}, 'cost_from_start': 3.0, 'heuristic': 1.0, 'path': ''}, {'action': 'plan', 'state': {'x': 2, 'y': 0}, 'cost_from_start': 4.0, 'heuristic': 0.0, 'path': ''}]}\n",
      "{'spec': {'width': 5, 'height': 5, 'start': {'x': 3, 'y': 1}, 'goal': {'x': 0, 'y': 2}, 'walls': [{'x': 0, 'y': 0}, {'x': 2, 'y': 1}, {'x': 0, 'y': 3}, {'x': 2, 'y': 3}, {'x': 3, 'y': 3}, {'x': 4, 'y': 3}, {'x': 0, 'y': 4}, {'x': 1, 'y': 4}, {'x': 4, 'y': 4}]}, 'trace': [{'action': 'create', 'state': {'x': 3, 'y': 1}, 'cost_from_start': 0.0, 'heuristic': 4.0, 'path': ''}, {'action': 'close', 'state': {'x': 3, 'y': 1}, 'cost_from_start': 0.0, 'heuristic': 4.0, 'path': ''}, {'action': 'create', 'state': {'x': 3, 'y': 2}, 'cost_from_start': 1.0, 'heuristic': 3.0, 'path': ''}, {'action': 'create', 'state': {'x': 3, 'y': 0}, 'cost_from_start': 1.0, 'heuristic': 5.0, 'path': ''}, {'action': 'create', 'state': {'x': 4, 'y': 1}, 'cost_from_start': 1.0, 'heuristic': 5.0, 'path': ''}, {'action': 'close', 'state': {'x': 3, 'y': 2}, 'cost_from_start': 1.0, 'heuristic': 3.0, 'path': ''}, {'action': 'create', 'state': {'x': 2, 'y': 2}, 'cost_from_start': 2.0, 'heuristic': 2.0, 'path': ''}, {'action': 'create', 'state': {'x': 4, 'y': 2}, 'cost_from_start': 2.0, 'heuristic': 4.0, 'path': ''}, {'action': 'close', 'state': {'x': 2, 'y': 2}, 'cost_from_start': 2.0, 'heuristic': 2.0, 'path': ''}, {'action': 'create', 'state': {'x': 1, 'y': 2}, 'cost_from_start': 3.0, 'heuristic': 1.0, 'path': ''}, {'action': 'close', 'state': {'x': 1, 'y': 2}, 'cost_from_start': 3.0, 'heuristic': 1.0, 'path': ''}, {'action': 'create', 'state': {'x': 1, 'y': 3}, 'cost_from_start': 4.0, 'heuristic': 2.0, 'path': ''}, {'action': 'create', 'state': {'x': 1, 'y': 1}, 'cost_from_start': 4.0, 'heuristic': 2.0, 'path': ''}, {'action': 'create', 'state': {'x': 0, 'y': 2}, 'cost_from_start': 4.0, 'heuristic': 0.0, 'path': ''}, {'action': 'close', 'state': {'x': 0, 'y': 2}, 'cost_from_start': 4.0, 'heuristic': 0.0, 'path': ''}, {'action': 'plan', 'state': {'x': 3, 'y': 1}, 'cost_from_start': 0.0, 'heuristic': 4.0, 'path': ''}, {'action': 'plan', 'state': {'x': 3, 'y': 2}, 'cost_from_start': 1.0, 'heuristic': 3.0, 'path': ''}, {'action': 'plan', 'state': {'x': 2, 'y': 2}, 'cost_from_start': 2.0, 'heuristic': 2.0, 'path': ''}, {'action': 'plan', 'state': {'x': 1, 'y': 2}, 'cost_from_start': 3.0, 'heuristic': 1.0, 'path': ''}, {'action': 'plan', 'state': {'x': 0, 'y': 2}, 'cost_from_start': 4.0, 'heuristic': 0.0, 'path': ''}]}\n",
      "{'spec': {'width': 5, 'height': 5, 'start': {'x': 4, 'y': 0}, 'goal': {'x': 1, 'y': 1}, 'walls': [{'x': 0, 'y': 0}, {'x': 2, 'y': 1}, {'x': 0, 'y': 3}, {'x': 2, 'y': 3}, {'x': 3, 'y': 3}, {'x': 4, 'y': 3}, {'x': 0, 'y': 4}, {'x': 1, 'y': 4}, {'x': 4, 'y': 4}]}, 'trace': [{'action': 'create', 'state': {'x': 4, 'y': 0}, 'cost_from_start': 0.0, 'heuristic': 4.0, 'path': ''}, {'action': 'close', 'state': {'x': 4, 'y': 0}, 'cost_from_start': 0.0, 'heuristic': 4.0, 'path': ''}, {'action': 'create', 'state': {'x': 4, 'y': 1}, 'cost_from_start': 1.0, 'heuristic': 3.0, 'path': ''}, {'action': 'create', 'state': {'x': 3, 'y': 0}, 'cost_from_start': 1.0, 'heuristic': 3.0, 'path': ''}, {'action': 'close', 'state': {'x': 3, 'y': 0}, 'cost_from_start': 1.0, 'heuristic': 3.0, 'path': ''}, {'action': 'create', 'state': {'x': 3, 'y': 1}, 'cost_from_start': 2.0, 'heuristic': 2.0, 'path': ''}, {'action': 'create', 'state': {'x': 2, 'y': 0}, 'cost_from_start': 2.0, 'heuristic': 2.0, 'path': ''}, {'action': 'close', 'state': {'x': 2, 'y': 0}, 'cost_from_start': 2.0, 'heuristic': 2.0, 'path': ''}, {'action': 'create', 'state': {'x': 1, 'y': 0}, 'cost_from_start': 3.0, 'heuristic': 1.0, 'path': ''}, {'action': 'close', 'state': {'x': 1, 'y': 0}, 'cost_from_start': 3.0, 'heuristic': 1.0, 'path': ''}, {'action': 'create', 'state': {'x': 1, 'y': 1}, 'cost_from_start': 4.0, 'heuristic': 0.0, 'path': ''}, {'action': 'close', 'state': {'x': 1, 'y': 1}, 'cost_from_start': 4.0, 'heuristic': 0.0, 'path': ''}, {'action': 'plan', 'state': {'x': 4, 'y': 0}, 'cost_from_start': 0.0, 'heuristic': 4.0, 'path': ''}, {'action': 'plan', 'state': {'x': 3, 'y': 0}, 'cost_from_start': 1.0, 'heuristic': 3.0, 'path': ''}, {'action': 'plan', 'state': {'x': 2, 'y': 0}, 'cost_from_start': 2.0, 'heuristic': 2.0, 'path': ''}, {'action': 'plan', 'state': {'x': 1, 'y': 0}, 'cost_from_start': 3.0, 'heuristic': 1.0, 'path': ''}, {'action': 'plan', 'state': {'x': 1, 'y': 1}, 'cost_from_start': 4.0, 'heuristic': 0.0, 'path': ''}]}\n",
      "{'spec': {'width': 5, 'height': 5, 'start': {'x': 1, 'y': 1}, 'goal': {'x': 3, 'y': 1}, 'walls': [{'x': 0, 'y': 0}, {'x': 2, 'y': 1}, {'x': 0, 'y': 3}, {'x': 2, 'y': 3}, {'x': 3, 'y': 3}, {'x': 4, 'y': 3}, {'x': 0, 'y': 4}, {'x': 1, 'y': 4}, {'x': 4, 'y': 4}]}, 'trace': [{'action': 'create', 'state': {'x': 1, 'y': 1}, 'cost_from_start': 0.0, 'heuristic': 2.0, 'path': ''}, {'action': 'close', 'state': {'x': 1, 'y': 1}, 'cost_from_start': 0.0, 'heuristic': 2.0, 'path': ''}, {'action': 'create', 'state': {'x': 1, 'y': 2}, 'cost_from_start': 1.0, 'heuristic': 3.0, 'path': ''}, {'action': 'create', 'state': {'x': 1, 'y': 0}, 'cost_from_start': 1.0, 'heuristic': 3.0, 'path': ''}, {'action': 'create', 'state': {'x': 0, 'y': 1}, 'cost_from_start': 1.0, 'heuristic': 3.0, 'path': ''}, {'action': 'close', 'state': {'x': 1, 'y': 0}, 'cost_from_start': 1.0, 'heuristic': 3.0, 'path': ''}, {'action': 'create', 'state': {'x': 2, 'y': 0}, 'cost_from_start': 2.0, 'heuristic': 2.0, 'path': ''}, {'action': 'close', 'state': {'x': 2, 'y': 0}, 'cost_from_start': 2.0, 'heuristic': 2.0, 'path': ''}, {'action': 'create', 'state': {'x': 3, 'y': 0}, 'cost_from_start': 3.0, 'heuristic': 1.0, 'path': ''}, {'action': 'close', 'state': {'x': 3, 'y': 0}, 'cost_from_start': 3.0, 'heuristic': 1.0, 'path': ''}, {'action': 'create', 'state': {'x': 3, 'y': 1}, 'cost_from_start': 4.0, 'heuristic': 0.0, 'path': ''}, {'action': 'create', 'state': {'x': 4, 'y': 0}, 'cost_from_start': 4.0, 'heuristic': 2.0, 'path': ''}, {'action': 'close', 'state': {'x': 0, 'y': 1}, 'cost_from_start': 1.0, 'heuristic': 3.0, 'path': ''}, {'action': 'create', 'state': {'x': 0, 'y': 2}, 'cost_from_start': 2.0, 'heuristic': 4.0, 'path': ''}, {'action': 'close', 'state': {'x': 3, 'y': 1}, 'cost_from_start': 4.0, 'heuristic': 0.0, 'path': ''}, {'action': 'plan', 'state': {'x': 1, 'y': 1}, 'cost_from_start': 0.0, 'heuristic': 2.0, 'path': ''}, {'action': 'plan', 'state': {'x': 1, 'y': 0}, 'cost_from_start': 1.0, 'heuristic': 3.0, 'path': ''}, {'action': 'plan', 'state': {'x': 2, 'y': 0}, 'cost_from_start': 2.0, 'heuristic': 2.0, 'path': ''}, {'action': 'plan', 'state': {'x': 3, 'y': 0}, 'cost_from_start': 3.0, 'heuristic': 1.0, 'path': ''}, {'action': 'plan', 'state': {'x': 3, 'y': 1}, 'cost_from_start': 4.0, 'heuristic': 0.0, 'path': ''}]}\n",
      "{'spec': {'width': 5, 'height': 5, 'start': {'x': 2, 'y': 2}, 'goal': {'x': 4, 'y': 0}, 'walls': [{'x': 0, 'y': 0}, {'x': 2, 'y': 1}, {'x': 0, 'y': 3}, {'x': 2, 'y': 3}, {'x': 3, 'y': 3}, {'x': 4, 'y': 3}, {'x': 0, 'y': 4}, {'x': 1, 'y': 4}, {'x': 4, 'y': 4}]}, 'trace': [{'action': 'create', 'state': {'x': 2, 'y': 2}, 'cost_from_start': 0.0, 'heuristic': 4.0, 'path': ''}, {'action': 'close', 'state': {'x': 2, 'y': 2}, 'cost_from_start': 0.0, 'heuristic': 4.0, 'path': ''}, {'action': 'create', 'state': {'x': 1, 'y': 2}, 'cost_from_start': 1.0, 'heuristic': 5.0, 'path': ''}, {'action': 'create', 'state': {'x': 3, 'y': 2}, 'cost_from_start': 1.0, 'heuristic': 3.0, 'path': ''}, {'action': 'close', 'state': {'x': 3, 'y': 2}, 'cost_from_start': 1.0, 'heuristic': 3.0, 'path': ''}, {'action': 'create', 'state': {'x': 3, 'y': 1}, 'cost_from_start': 2.0, 'heuristic': 2.0, 'path': ''}, {'action': 'create', 'state': {'x': 4, 'y': 2}, 'cost_from_start': 2.0, 'heuristic': 2.0, 'path': ''}, {'action': 'close', 'state': {'x': 3, 'y': 1}, 'cost_from_start': 2.0, 'heuristic': 2.0, 'path': ''}, {'action': 'create', 'state': {'x': 3, 'y': 0}, 'cost_from_start': 3.0, 'heuristic': 1.0, 'path': ''}, {'action': 'create', 'state': {'x': 4, 'y': 1}, 'cost_from_start': 3.0, 'heuristic': 1.0, 'path': ''}, {'action': 'close', 'state': {'x': 3, 'y': 0}, 'cost_from_start': 3.0, 'heuristic': 1.0, 'path': ''}, {'action': 'create', 'state': {'x': 2, 'y': 0}, 'cost_from_start': 4.0, 'heuristic': 2.0, 'path': ''}, {'action': 'create', 'state': {'x': 4, 'y': 0}, 'cost_from_start': 4.0, 'heuristic': 0.0, 'path': ''}, {'action': 'close', 'state': {'x': 4, 'y': 0}, 'cost_from_start': 4.0, 'heuristic': 0.0, 'path': ''}, {'action': 'plan', 'state': {'x': 2, 'y': 2}, 'cost_from_start': 0.0, 'heuristic': 4.0, 'path': ''}, {'action': 'plan', 'state': {'x': 3, 'y': 2}, 'cost_from_start': 1.0, 'heuristic': 3.0, 'path': ''}, {'action': 'plan', 'state': {'x': 3, 'y': 1}, 'cost_from_start': 2.0, 'heuristic': 2.0, 'path': ''}, {'action': 'plan', 'state': {'x': 3, 'y': 0}, 'cost_from_start': 3.0, 'heuristic': 1.0, 'path': ''}, {'action': 'plan', 'state': {'x': 4, 'y': 0}, 'cost_from_start': 4.0, 'heuristic': 0.0, 'path': ''}]}\n",
      "{'spec': {'width': 5, 'height': 5, 'start': {'x': 4, 'y': 0}, 'goal': {'x': 0, 'y': 1}, 'walls': [{'x': 0, 'y': 0}, {'x': 2, 'y': 1}, {'x': 0, 'y': 3}, {'x': 2, 'y': 3}, {'x': 3, 'y': 3}, {'x': 4, 'y': 3}, {'x': 0, 'y': 4}, {'x': 1, 'y': 4}, {'x': 4, 'y': 4}]}, 'trace': [{'action': 'create', 'state': {'x': 4, 'y': 0}, 'cost_from_start': 0.0, 'heuristic': 5.0, 'path': ''}, {'action': 'close', 'state': {'x': 4, 'y': 0}, 'cost_from_start': 0.0, 'heuristic': 5.0, 'path': ''}, {'action': 'create', 'state': {'x': 4, 'y': 1}, 'cost_from_start': 1.0, 'heuristic': 4.0, 'path': ''}, {'action': 'create', 'state': {'x': 3, 'y': 0}, 'cost_from_start': 1.0, 'heuristic': 4.0, 'path': ''}, {'action': 'close', 'state': {'x': 3, 'y': 0}, 'cost_from_start': 1.0, 'heuristic': 4.0, 'path': ''}, {'action': 'create', 'state': {'x': 3, 'y': 1}, 'cost_from_start': 2.0, 'heuristic': 3.0, 'path': ''}, {'action': 'create', 'state': {'x': 2, 'y': 0}, 'cost_from_start': 2.0, 'heuristic': 3.0, 'path': ''}, {'action': 'close', 'state': {'x': 2, 'y': 0}, 'cost_from_start': 2.0, 'heuristic': 3.0, 'path': ''}, {'action': 'create', 'state': {'x': 1, 'y': 0}, 'cost_from_start': 3.0, 'heuristic': 2.0, 'path': ''}, {'action': 'close', 'state': {'x': 1, 'y': 0}, 'cost_from_start': 3.0, 'heuristic': 2.0, 'path': ''}, {'action': 'create', 'state': {'x': 1, 'y': 1}, 'cost_from_start': 4.0, 'heuristic': 1.0, 'path': ''}, {'action': 'close', 'state': {'x': 1, 'y': 1}, 'cost_from_start': 4.0, 'heuristic': 1.0, 'path': ''}, {'action': 'create', 'state': {'x': 1, 'y': 2}, 'cost_from_start': 5.0, 'heuristic': 2.0, 'path': ''}, {'action': 'create', 'state': {'x': 0, 'y': 1}, 'cost_from_start': 5.0, 'heuristic': 0.0, 'path': ''}, {'action': 'close', 'state': {'x': 0, 'y': 1}, 'cost_from_start': 5.0, 'heuristic': 0.0, 'path': ''}, {'action': 'plan', 'state': {'x': 4, 'y': 0}, 'cost_from_start': 0.0, 'heuristic': 5.0, 'path': ''}, {'action': 'plan', 'state': {'x': 3, 'y': 0}, 'cost_from_start': 1.0, 'heuristic': 4.0, 'path': ''}, {'action': 'plan', 'state': {'x': 2, 'y': 0}, 'cost_from_start': 2.0, 'heuristic': 3.0, 'path': ''}, {'action': 'plan', 'state': {'x': 1, 'y': 0}, 'cost_from_start': 3.0, 'heuristic': 2.0, 'path': ''}, {'action': 'plan', 'state': {'x': 1, 'y': 1}, 'cost_from_start': 4.0, 'heuristic': 1.0, 'path': ''}, {'action': 'plan', 'state': {'x': 0, 'y': 1}, 'cost_from_start': 5.0, 'heuristic': 0.0, 'path': ''}]}\n",
      "{'spec': {'width': 5, 'height': 5, 'start': {'x': 3, 'y': 0}, 'goal': {'x': 0, 'y': 2}, 'walls': [{'x': 0, 'y': 0}, {'x': 2, 'y': 1}, {'x': 0, 'y': 3}, {'x': 2, 'y': 3}, {'x': 3, 'y': 3}, {'x': 4, 'y': 3}, {'x': 0, 'y': 4}, {'x': 1, 'y': 4}, {'x': 4, 'y': 4}]}, 'trace': [{'action': 'create', 'state': {'x': 3, 'y': 0}, 'cost_from_start': 0.0, 'heuristic': 5.0, 'path': ''}, {'action': 'close', 'state': {'x': 3, 'y': 0}, 'cost_from_start': 0.0, 'heuristic': 5.0, 'path': ''}, {'action': 'create', 'state': {'x': 3, 'y': 1}, 'cost_from_start': 1.0, 'heuristic': 4.0, 'path': ''}, {'action': 'create', 'state': {'x': 2, 'y': 0}, 'cost_from_start': 1.0, 'heuristic': 4.0, 'path': ''}, {'action': 'create', 'state': {'x': 4, 'y': 0}, 'cost_from_start': 1.0, 'heuristic': 6.0, 'path': ''}, {'action': 'close', 'state': {'x': 2, 'y': 0}, 'cost_from_start': 1.0, 'heuristic': 4.0, 'path': ''}, {'action': 'create', 'state': {'x': 1, 'y': 0}, 'cost_from_start': 2.0, 'heuristic': 3.0, 'path': ''}, {'action': 'close', 'state': {'x': 1, 'y': 0}, 'cost_from_start': 2.0, 'heuristic': 3.0, 'path': ''}, {'action': 'create', 'state': {'x': 1, 'y': 1}, 'cost_from_start': 3.0, 'heuristic': 2.0, 'path': ''}, {'action': 'close', 'state': {'x': 1, 'y': 1}, 'cost_from_start': 3.0, 'heuristic': 2.0, 'path': ''}, {'action': 'create', 'state': {'x': 1, 'y': 2}, 'cost_from_start': 4.0, 'heuristic': 1.0, 'path': ''}, {'action': 'create', 'state': {'x': 0, 'y': 1}, 'cost_from_start': 4.0, 'heuristic': 1.0, 'path': ''}, {'action': 'close', 'state': {'x': 0, 'y': 1}, 'cost_from_start': 4.0, 'heuristic': 1.0, 'path': ''}, {'action': 'create', 'state': {'x': 0, 'y': 2}, 'cost_from_start': 5.0, 'heuristic': 0.0, 'path': ''}, {'action': 'close', 'state': {'x': 3, 'y': 1}, 'cost_from_start': 1.0, 'heuristic': 4.0, 'path': ''}, {'action': 'create', 'state': {'x': 3, 'y': 2}, 'cost_from_start': 2.0, 'heuristic': 3.0, 'path': ''}, {'action': 'create', 'state': {'x': 4, 'y': 1}, 'cost_from_start': 2.0, 'heuristic': 5.0, 'path': ''}, {'action': 'close', 'state': {'x': 0, 'y': 2}, 'cost_from_start': 5.0, 'heuristic': 0.0, 'path': ''}, {'action': 'plan', 'state': {'x': 3, 'y': 0}, 'cost_from_start': 0.0, 'heuristic': 5.0, 'path': ''}, {'action': 'plan', 'state': {'x': 2, 'y': 0}, 'cost_from_start': 1.0, 'heuristic': 4.0, 'path': ''}, {'action': 'plan', 'state': {'x': 1, 'y': 0}, 'cost_from_start': 2.0, 'heuristic': 3.0, 'path': ''}, {'action': 'plan', 'state': {'x': 1, 'y': 1}, 'cost_from_start': 3.0, 'heuristic': 2.0, 'path': ''}, {'action': 'plan', 'state': {'x': 0, 'y': 1}, 'cost_from_start': 4.0, 'heuristic': 1.0, 'path': ''}, {'action': 'plan', 'state': {'x': 0, 'y': 2}, 'cost_from_start': 5.0, 'heuristic': 0.0, 'path': ''}]}\n",
      "{'spec': {'width': 5, 'height': 5, 'start': {'x': 3, 'y': 1}, 'goal': {'x': 1, 'y': 1}, 'walls': [{'x': 0, 'y': 0}, {'x': 2, 'y': 1}, {'x': 0, 'y': 3}, {'x': 2, 'y': 3}, {'x': 3, 'y': 3}, {'x': 4, 'y': 3}, {'x': 0, 'y': 4}, {'x': 1, 'y': 4}, {'x': 4, 'y': 4}]}, 'trace': [{'action': 'create', 'state': {'x': 3, 'y': 1}, 'cost_from_start': 0.0, 'heuristic': 2.0, 'path': ''}, {'action': 'close', 'state': {'x': 3, 'y': 1}, 'cost_from_start': 0.0, 'heuristic': 2.0, 'path': ''}, {'action': 'create', 'state': {'x': 3, 'y': 2}, 'cost_from_start': 1.0, 'heuristic': 3.0, 'path': ''}, {'action': 'create', 'state': {'x': 3, 'y': 0}, 'cost_from_start': 1.0, 'heuristic': 3.0, 'path': ''}, {'action': 'create', 'state': {'x': 4, 'y': 1}, 'cost_from_start': 1.0, 'heuristic': 3.0, 'path': ''}, {'action': 'close', 'state': {'x': 3, 'y': 0}, 'cost_from_start': 1.0, 'heuristic': 3.0, 'path': ''}, {'action': 'create', 'state': {'x': 2, 'y': 0}, 'cost_from_start': 2.0, 'heuristic': 2.0, 'path': ''}, {'action': 'create', 'state': {'x': 4, 'y': 0}, 'cost_from_start': 2.0, 'heuristic': 4.0, 'path': ''}, {'action': 'close', 'state': {'x': 2, 'y': 0}, 'cost_from_start': 2.0, 'heuristic': 2.0, 'path': ''}, {'action': 'create', 'state': {'x': 1, 'y': 0}, 'cost_from_start': 3.0, 'heuristic': 1.0, 'path': ''}, {'action': 'close', 'state': {'x': 1, 'y': 0}, 'cost_from_start': 3.0, 'heuristic': 1.0, 'path': ''}, {'action': 'create', 'state': {'x': 1, 'y': 1}, 'cost_from_start': 4.0, 'heuristic': 0.0, 'path': ''}, {'action': 'close', 'state': {'x': 1, 'y': 1}, 'cost_from_start': 4.0, 'heuristic': 0.0, 'path': ''}, {'action': 'plan', 'state': {'x': 3, 'y': 1}, 'cost_from_start': 0.0, 'heuristic': 2.0, 'path': ''}, {'action': 'plan', 'state': {'x': 3, 'y': 0}, 'cost_from_start': 1.0, 'heuristic': 3.0, 'path': ''}, {'action': 'plan', 'state': {'x': 2, 'y': 0}, 'cost_from_start': 2.0, 'heuristic': 2.0, 'path': ''}, {'action': 'plan', 'state': {'x': 1, 'y': 0}, 'cost_from_start': 3.0, 'heuristic': 1.0, 'path': ''}, {'action': 'plan', 'state': {'x': 1, 'y': 1}, 'cost_from_start': 4.0, 'heuristic': 0.0, 'path': ''}]}\n",
      "{'spec': {'width': 5, 'height': 5, 'start': {'x': 4, 'y': 2}, 'goal': {'x': 1, 'y': 1}, 'walls': [{'x': 0, 'y': 0}, {'x': 2, 'y': 1}, {'x': 0, 'y': 3}, {'x': 2, 'y': 3}, {'x': 3, 'y': 3}, {'x': 4, 'y': 3}, {'x': 0, 'y': 4}, {'x': 1, 'y': 4}, {'x': 4, 'y': 4}]}, 'trace': [{'action': 'create', 'state': {'x': 4, 'y': 2}, 'cost_from_start': 0.0, 'heuristic': 4.0, 'path': ''}, {'action': 'close', 'state': {'x': 4, 'y': 2}, 'cost_from_start': 0.0, 'heuristic': 4.0, 'path': ''}, {'action': 'create', 'state': {'x': 4, 'y': 1}, 'cost_from_start': 1.0, 'heuristic': 3.0, 'path': ''}, {'action': 'create', 'state': {'x': 3, 'y': 2}, 'cost_from_start': 1.0, 'heuristic': 3.0, 'path': ''}, {'action': 'close', 'state': {'x': 4, 'y': 1}, 'cost_from_start': 1.0, 'heuristic': 3.0, 'path': ''}, {'action': 'create', 'state': {'x': 4, 'y': 0}, 'cost_from_start': 2.0, 'heuristic': 4.0, 'path': ''}, {'action': 'create', 'state': {'x': 3, 'y': 1}, 'cost_from_start': 2.0, 'heuristic': 2.0, 'path': ''}, {'action': 'close', 'state': {'x': 3, 'y': 1}, 'cost_from_start': 2.0, 'heuristic': 2.0, 'path': ''}, {'action': 'create', 'state': {'x': 3, 'y': 0}, 'cost_from_start': 3.0, 'heuristic': 3.0, 'path': ''}, {'action': 'close', 'state': {'x': 3, 'y': 2}, 'cost_from_start': 1.0, 'heuristic': 3.0, 'path': ''}, {'action': 'create', 'state': {'x': 2, 'y': 2}, 'cost_from_start': 2.0, 'heuristic': 2.0, 'path': ''}, {'action': 'close', 'state': {'x': 2, 'y': 2}, 'cost_from_start': 2.0, 'heuristic': 2.0, 'path': ''}, {'action': 'create', 'state': {'x': 1, 'y': 2}, 'cost_from_start': 3.0, 'heuristic': 1.0, 'path': ''}, {'action': 'close', 'state': {'x': 1, 'y': 2}, 'cost_from_start': 3.0, 'heuristic': 1.0, 'path': ''}, {'action': 'create', 'state': {'x': 1, 'y': 3}, 'cost_from_start': 4.0, 'heuristic': 2.0, 'path': ''}, {'action': 'create', 'state': {'x': 1, 'y': 1}, 'cost_from_start': 4.0, 'heuristic': 0.0, 'path': ''}, {'action': 'create', 'state': {'x': 0, 'y': 2}, 'cost_from_start': 4.0, 'heuristic': 2.0, 'path': ''}, {'action': 'close', 'state': {'x': 1, 'y': 1}, 'cost_from_start': 4.0, 'heuristic': 0.0, 'path': ''}, {'action': 'plan', 'state': {'x': 4, 'y': 2}, 'cost_from_start': 0.0, 'heuristic': 4.0, 'path': ''}, {'action': 'plan', 'state': {'x': 3, 'y': 2}, 'cost_from_start': 1.0, 'heuristic': 3.0, 'path': ''}, {'action': 'plan', 'state': {'x': 2, 'y': 2}, 'cost_from_start': 2.0, 'heuristic': 2.0, 'path': ''}, {'action': 'plan', 'state': {'x': 1, 'y': 2}, 'cost_from_start': 3.0, 'heuristic': 1.0, 'path': ''}, {'action': 'plan', 'state': {'x': 1, 'y': 1}, 'cost_from_start': 4.0, 'heuristic': 0.0, 'path': ''}]}\n",
      "{'spec': {'width': 5, 'height': 5, 'start': {'x': 3, 'y': 0}, 'goal': {'x': 0, 'y': 1}, 'walls': [{'x': 0, 'y': 0}, {'x': 2, 'y': 1}, {'x': 0, 'y': 3}, {'x': 2, 'y': 3}, {'x': 3, 'y': 3}, {'x': 4, 'y': 3}, {'x': 0, 'y': 4}, {'x': 1, 'y': 4}, {'x': 4, 'y': 4}]}, 'trace': [{'action': 'create', 'state': {'x': 3, 'y': 0}, 'cost_from_start': 0.0, 'heuristic': 4.0, 'path': ''}, {'action': 'close', 'state': {'x': 3, 'y': 0}, 'cost_from_start': 0.0, 'heuristic': 4.0, 'path': ''}, {'action': 'create', 'state': {'x': 3, 'y': 1}, 'cost_from_start': 1.0, 'heuristic': 3.0, 'path': ''}, {'action': 'create', 'state': {'x': 2, 'y': 0}, 'cost_from_start': 1.0, 'heuristic': 3.0, 'path': ''}, {'action': 'create', 'state': {'x': 4, 'y': 0}, 'cost_from_start': 1.0, 'heuristic': 5.0, 'path': ''}, {'action': 'close', 'state': {'x': 2, 'y': 0}, 'cost_from_start': 1.0, 'heuristic': 3.0, 'path': ''}, {'action': 'create', 'state': {'x': 1, 'y': 0}, 'cost_from_start': 2.0, 'heuristic': 2.0, 'path': ''}, {'action': 'close', 'state': {'x': 1, 'y': 0}, 'cost_from_start': 2.0, 'heuristic': 2.0, 'path': ''}, {'action': 'create', 'state': {'x': 1, 'y': 1}, 'cost_from_start': 3.0, 'heuristic': 1.0, 'path': ''}, {'action': 'close', 'state': {'x': 1, 'y': 1}, 'cost_from_start': 3.0, 'heuristic': 1.0, 'path': ''}, {'action': 'create', 'state': {'x': 1, 'y': 2}, 'cost_from_start': 4.0, 'heuristic': 2.0, 'path': ''}, {'action': 'create', 'state': {'x': 0, 'y': 1}, 'cost_from_start': 4.0, 'heuristic': 0.0, 'path': ''}, {'action': 'close', 'state': {'x': 0, 'y': 1}, 'cost_from_start': 4.0, 'heuristic': 0.0, 'path': ''}, {'action': 'plan', 'state': {'x': 3, 'y': 0}, 'cost_from_start': 0.0, 'heuristic': 4.0, 'path': ''}, {'action': 'plan', 'state': {'x': 2, 'y': 0}, 'cost_from_start': 1.0, 'heuristic': 3.0, 'path': ''}, {'action': 'plan', 'state': {'x': 1, 'y': 0}, 'cost_from_start': 2.0, 'heuristic': 2.0, 'path': ''}, {'action': 'plan', 'state': {'x': 1, 'y': 1}, 'cost_from_start': 3.0, 'heuristic': 1.0, 'path': ''}, {'action': 'plan', 'state': {'x': 0, 'y': 1}, 'cost_from_start': 4.0, 'heuristic': 0.0, 'path': ''}]}\n",
      "{'spec': {'width': 5, 'height': 5, 'start': {'x': 0, 'y': 1}, 'goal': {'x': 3, 'y': 0}, 'walls': [{'x': 0, 'y': 0}, {'x': 2, 'y': 1}, {'x': 0, 'y': 3}, {'x': 2, 'y': 3}, {'x': 3, 'y': 3}, {'x': 4, 'y': 3}, {'x': 0, 'y': 4}, {'x': 1, 'y': 4}, {'x': 4, 'y': 4}]}, 'trace': [{'action': 'create', 'state': {'x': 0, 'y': 1}, 'cost_from_start': 0.0, 'heuristic': 4.0, 'path': ''}, {'action': 'close', 'state': {'x': 0, 'y': 1}, 'cost_from_start': 0.0, 'heuristic': 4.0, 'path': ''}, {'action': 'create', 'state': {'x': 0, 'y': 2}, 'cost_from_start': 1.0, 'heuristic': 5.0, 'path': ''}, {'action': 'create', 'state': {'x': 1, 'y': 1}, 'cost_from_start': 1.0, 'heuristic': 3.0, 'path': ''}, {'action': 'close', 'state': {'x': 1, 'y': 1}, 'cost_from_start': 1.0, 'heuristic': 3.0, 'path': ''}, {'action': 'create', 'state': {'x': 1, 'y': 2}, 'cost_from_start': 2.0, 'heuristic': 4.0, 'path': ''}, {'action': 'create', 'state': {'x': 1, 'y': 0}, 'cost_from_start': 2.0, 'heuristic': 2.0, 'path': ''}, {'action': 'close', 'state': {'x': 1, 'y': 0}, 'cost_from_start': 2.0, 'heuristic': 2.0, 'path': ''}, {'action': 'create', 'state': {'x': 2, 'y': 0}, 'cost_from_start': 3.0, 'heuristic': 1.0, 'path': ''}, {'action': 'close', 'state': {'x': 2, 'y': 0}, 'cost_from_start': 3.0, 'heuristic': 1.0, 'path': ''}, {'action': 'create', 'state': {'x': 3, 'y': 0}, 'cost_from_start': 4.0, 'heuristic': 0.0, 'path': ''}, {'action': 'close', 'state': {'x': 3, 'y': 0}, 'cost_from_start': 4.0, 'heuristic': 0.0, 'path': ''}, {'action': 'plan', 'state': {'x': 0, 'y': 1}, 'cost_from_start': 0.0, 'heuristic': 4.0, 'path': ''}, {'action': 'plan', 'state': {'x': 1, 'y': 1}, 'cost_from_start': 1.0, 'heuristic': 3.0, 'path': ''}, {'action': 'plan', 'state': {'x': 1, 'y': 0}, 'cost_from_start': 2.0, 'heuristic': 2.0, 'path': ''}, {'action': 'plan', 'state': {'x': 2, 'y': 0}, 'cost_from_start': 3.0, 'heuristic': 1.0, 'path': ''}, {'action': 'plan', 'state': {'x': 3, 'y': 0}, 'cost_from_start': 4.0, 'heuristic': 0.0, 'path': ''}]}\n",
      "{'spec': {'width': 5, 'height': 5, 'start': {'x': 4, 'y': 2}, 'goal': {'x': 1, 'y': 3}, 'walls': [{'x': 0, 'y': 0}, {'x': 2, 'y': 1}, {'x': 0, 'y': 3}, {'x': 2, 'y': 3}, {'x': 3, 'y': 3}, {'x': 4, 'y': 3}, {'x': 0, 'y': 4}, {'x': 1, 'y': 4}, {'x': 4, 'y': 4}]}, 'trace': [{'action': 'create', 'state': {'x': 4, 'y': 2}, 'cost_from_start': 0.0, 'heuristic': 4.0, 'path': ''}, {'action': 'close', 'state': {'x': 4, 'y': 2}, 'cost_from_start': 0.0, 'heuristic': 4.0, 'path': ''}, {'action': 'create', 'state': {'x': 4, 'y': 1}, 'cost_from_start': 1.0, 'heuristic': 5.0, 'path': ''}, {'action': 'create', 'state': {'x': 3, 'y': 2}, 'cost_from_start': 1.0, 'heuristic': 3.0, 'path': ''}, {'action': 'close', 'state': {'x': 3, 'y': 2}, 'cost_from_start': 1.0, 'heuristic': 3.0, 'path': ''}, {'action': 'create', 'state': {'x': 3, 'y': 1}, 'cost_from_start': 2.0, 'heuristic': 4.0, 'path': ''}, {'action': 'create', 'state': {'x': 2, 'y': 2}, 'cost_from_start': 2.0, 'heuristic': 2.0, 'path': ''}, {'action': 'close', 'state': {'x': 2, 'y': 2}, 'cost_from_start': 2.0, 'heuristic': 2.0, 'path': ''}, {'action': 'create', 'state': {'x': 1, 'y': 2}, 'cost_from_start': 3.0, 'heuristic': 1.0, 'path': ''}, {'action': 'close', 'state': {'x': 1, 'y': 2}, 'cost_from_start': 3.0, 'heuristic': 1.0, 'path': ''}, {'action': 'create', 'state': {'x': 1, 'y': 3}, 'cost_from_start': 4.0, 'heuristic': 0.0, 'path': ''}, {'action': 'create', 'state': {'x': 1, 'y': 1}, 'cost_from_start': 4.0, 'heuristic': 2.0, 'path': ''}, {'action': 'create', 'state': {'x': 0, 'y': 2}, 'cost_from_start': 4.0, 'heuristic': 2.0, 'path': ''}, {'action': 'close', 'state': {'x': 1, 'y': 3}, 'cost_from_start': 4.0, 'heuristic': 0.0, 'path': ''}, {'action': 'plan', 'state': {'x': 4, 'y': 2}, 'cost_from_start': 0.0, 'heuristic': 4.0, 'path': ''}, {'action': 'plan', 'state': {'x': 3, 'y': 2}, 'cost_from_start': 1.0, 'heuristic': 3.0, 'path': ''}, {'action': 'plan', 'state': {'x': 2, 'y': 2}, 'cost_from_start': 2.0, 'heuristic': 2.0, 'path': ''}, {'action': 'plan', 'state': {'x': 1, 'y': 2}, 'cost_from_start': 3.0, 'heuristic': 1.0, 'path': ''}, {'action': 'plan', 'state': {'x': 1, 'y': 3}, 'cost_from_start': 4.0, 'heuristic': 0.0, 'path': ''}]}\n",
      "{'spec': {'width': 5, 'height': 5, 'start': {'x': 4, 'y': 1}, 'goal': {'x': 0, 'y': 1}, 'walls': [{'x': 0, 'y': 0}, {'x': 2, 'y': 1}, {'x': 0, 'y': 3}, {'x': 2, 'y': 3}, {'x': 3, 'y': 3}, {'x': 4, 'y': 3}, {'x': 0, 'y': 4}, {'x': 1, 'y': 4}, {'x': 4, 'y': 4}]}, 'trace': [{'action': 'create', 'state': {'x': 4, 'y': 1}, 'cost_from_start': 0.0, 'heuristic': 4.0, 'path': ''}, {'action': 'close', 'state': {'x': 4, 'y': 1}, 'cost_from_start': 0.0, 'heuristic': 4.0, 'path': ''}, {'action': 'create', 'state': {'x': 4, 'y': 2}, 'cost_from_start': 1.0, 'heuristic': 5.0, 'path': ''}, {'action': 'create', 'state': {'x': 4, 'y': 0}, 'cost_from_start': 1.0, 'heuristic': 5.0, 'path': ''}, {'action': 'create', 'state': {'x': 3, 'y': 1}, 'cost_from_start': 1.0, 'heuristic': 3.0, 'path': ''}, {'action': 'close', 'state': {'x': 3, 'y': 1}, 'cost_from_start': 1.0, 'heuristic': 3.0, 'path': ''}, {'action': 'create', 'state': {'x': 3, 'y': 2}, 'cost_from_start': 2.0, 'heuristic': 4.0, 'path': ''}, {'action': 'create', 'state': {'x': 3, 'y': 0}, 'cost_from_start': 2.0, 'heuristic': 4.0, 'path': ''}, {'action': 'close', 'state': {'x': 3, 'y': 0}, 'cost_from_start': 2.0, 'heuristic': 4.0, 'path': ''}, {'action': 'create', 'state': {'x': 2, 'y': 0}, 'cost_from_start': 3.0, 'heuristic': 3.0, 'path': ''}, {'action': 'close', 'state': {'x': 2, 'y': 0}, 'cost_from_start': 3.0, 'heuristic': 3.0, 'path': ''}, {'action': 'create', 'state': {'x': 1, 'y': 0}, 'cost_from_start': 4.0, 'heuristic': 2.0, 'path': ''}, {'action': 'close', 'state': {'x': 1, 'y': 0}, 'cost_from_start': 4.0, 'heuristic': 2.0, 'path': ''}, {'action': 'create', 'state': {'x': 1, 'y': 1}, 'cost_from_start': 5.0, 'heuristic': 1.0, 'path': ''}, {'action': 'close', 'state': {'x': 4, 'y': 0}, 'cost_from_start': 1.0, 'heuristic': 5.0, 'path': ''}, {'action': 'close', 'state': {'x': 1, 'y': 1}, 'cost_from_start': 5.0, 'heuristic': 1.0, 'path': ''}, {'action': 'create', 'state': {'x': 1, 'y': 2}, 'cost_from_start': 6.0, 'heuristic': 2.0, 'path': ''}, {'action': 'create', 'state': {'x': 0, 'y': 1}, 'cost_from_start': 6.0, 'heuristic': 0.0, 'path': ''}, {'action': 'close', 'state': {'x': 0, 'y': 1}, 'cost_from_start': 6.0, 'heuristic': 0.0, 'path': ''}, {'action': 'plan', 'state': {'x': 4, 'y': 1}, 'cost_from_start': 0.0, 'heuristic': 4.0, 'path': ''}, {'action': 'plan', 'state': {'x': 3, 'y': 1}, 'cost_from_start': 1.0, 'heuristic': 3.0, 'path': ''}, {'action': 'plan', 'state': {'x': 3, 'y': 0}, 'cost_from_start': 2.0, 'heuristic': 4.0, 'path': ''}, {'action': 'plan', 'state': {'x': 2, 'y': 0}, 'cost_from_start': 3.0, 'heuristic': 3.0, 'path': ''}, {'action': 'plan', 'state': {'x': 1, 'y': 0}, 'cost_from_start': 4.0, 'heuristic': 2.0, 'path': ''}, {'action': 'plan', 'state': {'x': 1, 'y': 1}, 'cost_from_start': 5.0, 'heuristic': 1.0, 'path': ''}, {'action': 'plan', 'state': {'x': 0, 'y': 1}, 'cost_from_start': 6.0, 'heuristic': 0.0, 'path': ''}]}\n",
      "{'spec': {'width': 5, 'height': 5, 'start': {'x': 4, 'y': 2}, 'goal': {'x': 0, 'y': 2}, 'walls': [{'x': 0, 'y': 0}, {'x': 2, 'y': 1}, {'x': 0, 'y': 3}, {'x': 2, 'y': 3}, {'x': 3, 'y': 3}, {'x': 4, 'y': 3}, {'x': 0, 'y': 4}, {'x': 1, 'y': 4}, {'x': 4, 'y': 4}]}, 'trace': [{'action': 'create', 'state': {'x': 4, 'y': 2}, 'cost_from_start': 0.0, 'heuristic': 4.0, 'path': ''}, {'action': 'close', 'state': {'x': 4, 'y': 2}, 'cost_from_start': 0.0, 'heuristic': 4.0, 'path': ''}, {'action': 'create', 'state': {'x': 4, 'y': 1}, 'cost_from_start': 1.0, 'heuristic': 5.0, 'path': ''}, {'action': 'create', 'state': {'x': 3, 'y': 2}, 'cost_from_start': 1.0, 'heuristic': 3.0, 'path': ''}, {'action': 'close', 'state': {'x': 3, 'y': 2}, 'cost_from_start': 1.0, 'heuristic': 3.0, 'path': ''}, {'action': 'create', 'state': {'x': 3, 'y': 1}, 'cost_from_start': 2.0, 'heuristic': 4.0, 'path': ''}, {'action': 'create', 'state': {'x': 2, 'y': 2}, 'cost_from_start': 2.0, 'heuristic': 2.0, 'path': ''}, {'action': 'close', 'state': {'x': 2, 'y': 2}, 'cost_from_start': 2.0, 'heuristic': 2.0, 'path': ''}, {'action': 'create', 'state': {'x': 1, 'y': 2}, 'cost_from_start': 3.0, 'heuristic': 1.0, 'path': ''}, {'action': 'close', 'state': {'x': 1, 'y': 2}, 'cost_from_start': 3.0, 'heuristic': 1.0, 'path': ''}, {'action': 'create', 'state': {'x': 1, 'y': 3}, 'cost_from_start': 4.0, 'heuristic': 2.0, 'path': ''}, {'action': 'create', 'state': {'x': 1, 'y': 1}, 'cost_from_start': 4.0, 'heuristic': 2.0, 'path': ''}, {'action': 'create', 'state': {'x': 0, 'y': 2}, 'cost_from_start': 4.0, 'heuristic': 0.0, 'path': ''}, {'action': 'close', 'state': {'x': 0, 'y': 2}, 'cost_from_start': 4.0, 'heuristic': 0.0, 'path': ''}, {'action': 'plan', 'state': {'x': 4, 'y': 2}, 'cost_from_start': 0.0, 'heuristic': 4.0, 'path': ''}, {'action': 'plan', 'state': {'x': 3, 'y': 2}, 'cost_from_start': 1.0, 'heuristic': 3.0, 'path': ''}, {'action': 'plan', 'state': {'x': 2, 'y': 2}, 'cost_from_start': 2.0, 'heuristic': 2.0, 'path': ''}, {'action': 'plan', 'state': {'x': 1, 'y': 2}, 'cost_from_start': 3.0, 'heuristic': 1.0, 'path': ''}, {'action': 'plan', 'state': {'x': 0, 'y': 2}, 'cost_from_start': 4.0, 'heuristic': 0.0, 'path': ''}]}\n",
      "{'spec': {'width': 5, 'height': 5, 'start': {'x': 1, 'y': 3}, 'goal': {'x': 3, 'y': 0}, 'walls': [{'x': 0, 'y': 0}, {'x': 2, 'y': 1}, {'x': 0, 'y': 3}, {'x': 2, 'y': 3}, {'x': 3, 'y': 3}, {'x': 4, 'y': 3}, {'x': 0, 'y': 4}, {'x': 1, 'y': 4}, {'x': 4, 'y': 4}]}, 'trace': [{'action': 'create', 'state': {'x': 1, 'y': 3}, 'cost_from_start': 0.0, 'heuristic': 5.0, 'path': ''}, {'action': 'close', 'state': {'x': 1, 'y': 3}, 'cost_from_start': 0.0, 'heuristic': 5.0, 'path': ''}, {'action': 'create', 'state': {'x': 1, 'y': 2}, 'cost_from_start': 1.0, 'heuristic': 4.0, 'path': ''}, {'action': 'close', 'state': {'x': 1, 'y': 2}, 'cost_from_start': 1.0, 'heuristic': 4.0, 'path': ''}, {'action': 'create', 'state': {'x': 1, 'y': 1}, 'cost_from_start': 2.0, 'heuristic': 3.0, 'path': ''}, {'action': 'create', 'state': {'x': 0, 'y': 2}, 'cost_from_start': 2.0, 'heuristic': 5.0, 'path': ''}, {'action': 'create', 'state': {'x': 2, 'y': 2}, 'cost_from_start': 2.0, 'heuristic': 3.0, 'path': ''}, {'action': 'close', 'state': {'x': 1, 'y': 1}, 'cost_from_start': 2.0, 'heuristic': 3.0, 'path': ''}, {'action': 'create', 'state': {'x': 1, 'y': 0}, 'cost_from_start': 3.0, 'heuristic': 2.0, 'path': ''}, {'action': 'create', 'state': {'x': 0, 'y': 1}, 'cost_from_start': 3.0, 'heuristic': 4.0, 'path': ''}, {'action': 'close', 'state': {'x': 1, 'y': 0}, 'cost_from_start': 3.0, 'heuristic': 2.0, 'path': ''}, {'action': 'create', 'state': {'x': 2, 'y': 0}, 'cost_from_start': 4.0, 'heuristic': 1.0, 'path': ''}, {'action': 'close', 'state': {'x': 2, 'y': 0}, 'cost_from_start': 4.0, 'heuristic': 1.0, 'path': ''}, {'action': 'create', 'state': {'x': 3, 'y': 0}, 'cost_from_start': 5.0, 'heuristic': 0.0, 'path': ''}, {'action': 'close', 'state': {'x': 3, 'y': 0}, 'cost_from_start': 5.0, 'heuristic': 0.0, 'path': ''}, {'action': 'plan', 'state': {'x': 1, 'y': 3}, 'cost_from_start': 0.0, 'heuristic': 5.0, 'path': ''}, {'action': 'plan', 'state': {'x': 1, 'y': 2}, 'cost_from_start': 1.0, 'heuristic': 4.0, 'path': ''}, {'action': 'plan', 'state': {'x': 1, 'y': 1}, 'cost_from_start': 2.0, 'heuristic': 3.0, 'path': ''}, {'action': 'plan', 'state': {'x': 1, 'y': 0}, 'cost_from_start': 3.0, 'heuristic': 2.0, 'path': ''}, {'action': 'plan', 'state': {'x': 2, 'y': 0}, 'cost_from_start': 4.0, 'heuristic': 1.0, 'path': ''}, {'action': 'plan', 'state': {'x': 3, 'y': 0}, 'cost_from_start': 5.0, 'heuristic': 0.0, 'path': ''}]}\n",
      "{'spec': {'width': 5, 'height': 5, 'start': {'x': 0, 'y': 1}, 'goal': {'x': 4, 'y': 2}, 'walls': [{'x': 0, 'y': 0}, {'x': 2, 'y': 1}, {'x': 0, 'y': 3}, {'x': 2, 'y': 3}, {'x': 3, 'y': 3}, {'x': 4, 'y': 3}, {'x': 0, 'y': 4}, {'x': 1, 'y': 4}, {'x': 4, 'y': 4}]}, 'trace': [{'action': 'create', 'state': {'x': 0, 'y': 1}, 'cost_from_start': 0.0, 'heuristic': 5.0, 'path': ''}, {'action': 'close', 'state': {'x': 0, 'y': 1}, 'cost_from_start': 0.0, 'heuristic': 5.0, 'path': ''}, {'action': 'create', 'state': {'x': 0, 'y': 2}, 'cost_from_start': 1.0, 'heuristic': 4.0, 'path': ''}, {'action': 'create', 'state': {'x': 1, 'y': 1}, 'cost_from_start': 1.0, 'heuristic': 4.0, 'path': ''}, {'action': 'close', 'state': {'x': 1, 'y': 1}, 'cost_from_start': 1.0, 'heuristic': 4.0, 'path': ''}, {'action': 'create', 'state': {'x': 1, 'y': 2}, 'cost_from_start': 2.0, 'heuristic': 3.0, 'path': ''}, {'action': 'create', 'state': {'x': 1, 'y': 0}, 'cost_from_start': 2.0, 'heuristic': 5.0, 'path': ''}, {'action': 'close', 'state': {'x': 0, 'y': 2}, 'cost_from_start': 1.0, 'heuristic': 4.0, 'path': ''}, {'action': 'close', 'state': {'x': 1, 'y': 2}, 'cost_from_start': 2.0, 'heuristic': 3.0, 'path': ''}, {'action': 'create', 'state': {'x': 1, 'y': 3}, 'cost_from_start': 3.0, 'heuristic': 4.0, 'path': ''}, {'action': 'create', 'state': {'x': 2, 'y': 2}, 'cost_from_start': 3.0, 'heuristic': 2.0, 'path': ''}, {'action': 'close', 'state': {'x': 2, 'y': 2}, 'cost_from_start': 3.0, 'heuristic': 2.0, 'path': ''}, {'action': 'create', 'state': {'x': 3, 'y': 2}, 'cost_from_start': 4.0, 'heuristic': 1.0, 'path': ''}, {'action': 'close', 'state': {'x': 3, 'y': 2}, 'cost_from_start': 4.0, 'heuristic': 1.0, 'path': ''}, {'action': 'create', 'state': {'x': 3, 'y': 1}, 'cost_from_start': 5.0, 'heuristic': 2.0, 'path': ''}, {'action': 'create', 'state': {'x': 4, 'y': 2}, 'cost_from_start': 5.0, 'heuristic': 0.0, 'path': ''}, {'action': 'close', 'state': {'x': 4, 'y': 2}, 'cost_from_start': 5.0, 'heuristic': 0.0, 'path': ''}, {'action': 'plan', 'state': {'x': 0, 'y': 1}, 'cost_from_start': 0.0, 'heuristic': 5.0, 'path': ''}, {'action': 'plan', 'state': {'x': 1, 'y': 1}, 'cost_from_start': 1.0, 'heuristic': 4.0, 'path': ''}, {'action': 'plan', 'state': {'x': 1, 'y': 2}, 'cost_from_start': 2.0, 'heuristic': 3.0, 'path': ''}, {'action': 'plan', 'state': {'x': 2, 'y': 2}, 'cost_from_start': 3.0, 'heuristic': 2.0, 'path': ''}, {'action': 'plan', 'state': {'x': 3, 'y': 2}, 'cost_from_start': 4.0, 'heuristic': 1.0, 'path': ''}, {'action': 'plan', 'state': {'x': 4, 'y': 2}, 'cost_from_start': 5.0, 'heuristic': 0.0, 'path': ''}]}\n",
      "{'spec': {'width': 5, 'height': 5, 'start': {'x': 1, 'y': 0}, 'goal': {'x': 3, 'y': 2}, 'walls': [{'x': 0, 'y': 0}, {'x': 2, 'y': 1}, {'x': 0, 'y': 3}, {'x': 2, 'y': 3}, {'x': 3, 'y': 3}, {'x': 4, 'y': 3}, {'x': 0, 'y': 4}, {'x': 1, 'y': 4}, {'x': 4, 'y': 4}]}, 'trace': [{'action': 'create', 'state': {'x': 1, 'y': 0}, 'cost_from_start': 0.0, 'heuristic': 4.0, 'path': ''}, {'action': 'close', 'state': {'x': 1, 'y': 0}, 'cost_from_start': 0.0, 'heuristic': 4.0, 'path': ''}, {'action': 'create', 'state': {'x': 1, 'y': 1}, 'cost_from_start': 1.0, 'heuristic': 3.0, 'path': ''}, {'action': 'create', 'state': {'x': 2, 'y': 0}, 'cost_from_start': 1.0, 'heuristic': 3.0, 'path': ''}, {'action': 'close', 'state': {'x': 2, 'y': 0}, 'cost_from_start': 1.0, 'heuristic': 3.0, 'path': ''}, {'action': 'create', 'state': {'x': 3, 'y': 0}, 'cost_from_start': 2.0, 'heuristic': 2.0, 'path': ''}, {'action': 'close', 'state': {'x': 3, 'y': 0}, 'cost_from_start': 2.0, 'heuristic': 2.0, 'path': ''}, {'action': 'create', 'state': {'x': 3, 'y': 1}, 'cost_from_start': 3.0, 'heuristic': 1.0, 'path': ''}, {'action': 'create', 'state': {'x': 4, 'y': 0}, 'cost_from_start': 3.0, 'heuristic': 3.0, 'path': ''}, {'action': 'close', 'state': {'x': 1, 'y': 1}, 'cost_from_start': 1.0, 'heuristic': 3.0, 'path': ''}, {'action': 'create', 'state': {'x': 1, 'y': 2}, 'cost_from_start': 2.0, 'heuristic': 2.0, 'path': ''}, {'action': 'create', 'state': {'x': 0, 'y': 1}, 'cost_from_start': 2.0, 'heuristic': 4.0, 'path': ''}, {'action': 'close', 'state': {'x': 3, 'y': 1}, 'cost_from_start': 3.0, 'heuristic': 1.0, 'path': ''}, {'action': 'create', 'state': {'x': 3, 'y': 2}, 'cost_from_start': 4.0, 'heuristic': 0.0, 'path': ''}, {'action': 'create', 'state': {'x': 4, 'y': 1}, 'cost_from_start': 4.0, 'heuristic': 2.0, 'path': ''}, {'action': 'close', 'state': {'x': 1, 'y': 2}, 'cost_from_start': 2.0, 'heuristic': 2.0, 'path': ''}, {'action': 'create', 'state': {'x': 1, 'y': 3}, 'cost_from_start': 3.0, 'heuristic': 3.0, 'path': ''}, {'action': 'create', 'state': {'x': 0, 'y': 2}, 'cost_from_start': 3.0, 'heuristic': 3.0, 'path': ''}, {'action': 'create', 'state': {'x': 2, 'y': 2}, 'cost_from_start': 3.0, 'heuristic': 1.0, 'path': ''}, {'action': 'close', 'state': {'x': 2, 'y': 2}, 'cost_from_start': 3.0, 'heuristic': 1.0, 'path': ''}, {'action': 'close', 'state': {'x': 3, 'y': 2}, 'cost_from_start': 4.0, 'heuristic': 0.0, 'path': ''}, {'action': 'plan', 'state': {'x': 1, 'y': 0}, 'cost_from_start': 0.0, 'heuristic': 4.0, 'path': ''}, {'action': 'plan', 'state': {'x': 2, 'y': 0}, 'cost_from_start': 1.0, 'heuristic': 3.0, 'path': ''}, {'action': 'plan', 'state': {'x': 3, 'y': 0}, 'cost_from_start': 2.0, 'heuristic': 2.0, 'path': ''}, {'action': 'plan', 'state': {'x': 3, 'y': 1}, 'cost_from_start': 3.0, 'heuristic': 1.0, 'path': ''}, {'action': 'plan', 'state': {'x': 3, 'y': 2}, 'cost_from_start': 4.0, 'heuristic': 0.0, 'path': ''}]}\n",
      "{'spec': {'width': 5, 'height': 5, 'start': {'x': 1, 'y': 1}, 'goal': {'x': 4, 'y': 0}, 'walls': [{'x': 0, 'y': 0}, {'x': 2, 'y': 1}, {'x': 0, 'y': 3}, {'x': 2, 'y': 3}, {'x': 3, 'y': 3}, {'x': 4, 'y': 3}, {'x': 0, 'y': 4}, {'x': 1, 'y': 4}, {'x': 4, 'y': 4}]}, 'trace': [{'action': 'create', 'state': {'x': 1, 'y': 1}, 'cost_from_start': 0.0, 'heuristic': 4.0, 'path': ''}, {'action': 'close', 'state': {'x': 1, 'y': 1}, 'cost_from_start': 0.0, 'heuristic': 4.0, 'path': ''}, {'action': 'create', 'state': {'x': 1, 'y': 2}, 'cost_from_start': 1.0, 'heuristic': 5.0, 'path': ''}, {'action': 'create', 'state': {'x': 1, 'y': 0}, 'cost_from_start': 1.0, 'heuristic': 3.0, 'path': ''}, {'action': 'create', 'state': {'x': 0, 'y': 1}, 'cost_from_start': 1.0, 'heuristic': 5.0, 'path': ''}, {'action': 'close', 'state': {'x': 1, 'y': 0}, 'cost_from_start': 1.0, 'heuristic': 3.0, 'path': ''}, {'action': 'create', 'state': {'x': 2, 'y': 0}, 'cost_from_start': 2.0, 'heuristic': 2.0, 'path': ''}, {'action': 'close', 'state': {'x': 2, 'y': 0}, 'cost_from_start': 2.0, 'heuristic': 2.0, 'path': ''}, {'action': 'create', 'state': {'x': 3, 'y': 0}, 'cost_from_start': 3.0, 'heuristic': 1.0, 'path': ''}, {'action': 'close', 'state': {'x': 3, 'y': 0}, 'cost_from_start': 3.0, 'heuristic': 1.0, 'path': ''}, {'action': 'create', 'state': {'x': 3, 'y': 1}, 'cost_from_start': 4.0, 'heuristic': 2.0, 'path': ''}, {'action': 'create', 'state': {'x': 4, 'y': 0}, 'cost_from_start': 4.0, 'heuristic': 0.0, 'path': ''}, {'action': 'close', 'state': {'x': 4, 'y': 0}, 'cost_from_start': 4.0, 'heuristic': 0.0, 'path': ''}, {'action': 'plan', 'state': {'x': 1, 'y': 1}, 'cost_from_start': 0.0, 'heuristic': 4.0, 'path': ''}, {'action': 'plan', 'state': {'x': 1, 'y': 0}, 'cost_from_start': 1.0, 'heuristic': 3.0, 'path': ''}, {'action': 'plan', 'state': {'x': 2, 'y': 0}, 'cost_from_start': 2.0, 'heuristic': 2.0, 'path': ''}, {'action': 'plan', 'state': {'x': 3, 'y': 0}, 'cost_from_start': 3.0, 'heuristic': 1.0, 'path': ''}, {'action': 'plan', 'state': {'x': 4, 'y': 0}, 'cost_from_start': 4.0, 'heuristic': 0.0, 'path': ''}]}\n",
      "{'spec': {'width': 5, 'height': 5, 'start': {'x': 4, 'y': 1}, 'goal': {'x': 0, 'y': 2}, 'walls': [{'x': 0, 'y': 0}, {'x': 2, 'y': 1}, {'x': 0, 'y': 3}, {'x': 2, 'y': 3}, {'x': 3, 'y': 3}, {'x': 4, 'y': 3}, {'x': 0, 'y': 4}, {'x': 1, 'y': 4}, {'x': 4, 'y': 4}]}, 'trace': [{'action': 'create', 'state': {'x': 4, 'y': 1}, 'cost_from_start': 0.0, 'heuristic': 5.0, 'path': ''}, {'action': 'close', 'state': {'x': 4, 'y': 1}, 'cost_from_start': 0.0, 'heuristic': 5.0, 'path': ''}, {'action': 'create', 'state': {'x': 4, 'y': 2}, 'cost_from_start': 1.0, 'heuristic': 4.0, 'path': ''}, {'action': 'create', 'state': {'x': 4, 'y': 0}, 'cost_from_start': 1.0, 'heuristic': 6.0, 'path': ''}, {'action': 'create', 'state': {'x': 3, 'y': 1}, 'cost_from_start': 1.0, 'heuristic': 4.0, 'path': ''}, {'action': 'close', 'state': {'x': 3, 'y': 1}, 'cost_from_start': 1.0, 'heuristic': 4.0, 'path': ''}, {'action': 'create', 'state': {'x': 3, 'y': 2}, 'cost_from_start': 2.0, 'heuristic': 3.0, 'path': ''}, {'action': 'create', 'state': {'x': 3, 'y': 0}, 'cost_from_start': 2.0, 'heuristic': 5.0, 'path': ''}, {'action': 'close', 'state': {'x': 3, 'y': 2}, 'cost_from_start': 2.0, 'heuristic': 3.0, 'path': ''}, {'action': 'create', 'state': {'x': 2, 'y': 2}, 'cost_from_start': 3.0, 'heuristic': 2.0, 'path': ''}, {'action': 'close', 'state': {'x': 2, 'y': 2}, 'cost_from_start': 3.0, 'heuristic': 2.0, 'path': ''}, {'action': 'create', 'state': {'x': 1, 'y': 2}, 'cost_from_start': 4.0, 'heuristic': 1.0, 'path': ''}, {'action': 'close', 'state': {'x': 1, 'y': 2}, 'cost_from_start': 4.0, 'heuristic': 1.0, 'path': ''}, {'action': 'create', 'state': {'x': 1, 'y': 3}, 'cost_from_start': 5.0, 'heuristic': 2.0, 'path': ''}, {'action': 'create', 'state': {'x': 1, 'y': 1}, 'cost_from_start': 5.0, 'heuristic': 2.0, 'path': ''}, {'action': 'create', 'state': {'x': 0, 'y': 2}, 'cost_from_start': 5.0, 'heuristic': 0.0, 'path': ''}, {'action': 'close', 'state': {'x': 0, 'y': 2}, 'cost_from_start': 5.0, 'heuristic': 0.0, 'path': ''}, {'action': 'plan', 'state': {'x': 4, 'y': 1}, 'cost_from_start': 0.0, 'heuristic': 5.0, 'path': ''}, {'action': 'plan', 'state': {'x': 3, 'y': 1}, 'cost_from_start': 1.0, 'heuristic': 4.0, 'path': ''}, {'action': 'plan', 'state': {'x': 3, 'y': 2}, 'cost_from_start': 2.0, 'heuristic': 3.0, 'path': ''}, {'action': 'plan', 'state': {'x': 2, 'y': 2}, 'cost_from_start': 3.0, 'heuristic': 2.0, 'path': ''}, {'action': 'plan', 'state': {'x': 1, 'y': 2}, 'cost_from_start': 4.0, 'heuristic': 1.0, 'path': ''}, {'action': 'plan', 'state': {'x': 0, 'y': 2}, 'cost_from_start': 5.0, 'heuristic': 0.0, 'path': ''}]}\n"
     ]
    }
   ],
   "source": [
    "maze_trace_ds=maze_trace_dataset.generate(is_test=False,width=5,height=5,deterministic=True)"
   ]
  },
  {
   "cell_type": "code",
   "execution_count": 5,
   "metadata": {},
   "outputs": [],
   "source": [
    "maze_trace_list=list(maze_trace_ds.values())"
   ]
  },
  {
   "cell_type": "code",
   "execution_count": 6,
   "metadata": {},
   "outputs": [],
   "source": [
    "maze_tokenizer=SimpleMazeTokenizer(width=5,height=5)"
   ]
  },
  {
   "cell_type": "code",
   "execution_count": 9,
   "metadata": {},
   "outputs": [
    {
     "data": {
      "text/plain": [
       "{'spec': {'width': 5,\n",
       "  'height': 5,\n",
       "  'start': {'x': 3, 'y': 3},\n",
       "  'goal': {'x': 2, 'y': 1},\n",
       "  'walls': [{'x': 1, 'y': 1},\n",
       "   {'x': 3, 'y': 1},\n",
       "   {'x': 1, 'y': 2},\n",
       "   {'x': 2, 'y': 2},\n",
       "   {'x': 4, 'y': 3},\n",
       "   {'x': 2, 'y': 4},\n",
       "   {'x': 4, 'y': 4}]},\n",
       " 'trace': [{'action': 'create',\n",
       "   'state': {'x': 3, 'y': 3},\n",
       "   'cost_from_start': 0.0,\n",
       "   'heuristic': 3.0,\n",
       "   'path': ''},\n",
       "  {'action': 'close',\n",
       "   'state': {'x': 3, 'y': 3},\n",
       "   'cost_from_start': 0.0,\n",
       "   'heuristic': 3.0,\n",
       "   'path': ''},\n",
       "  {'action': 'create',\n",
       "   'state': {'x': 3, 'y': 4},\n",
       "   'cost_from_start': 1.0,\n",
       "   'heuristic': 4.0,\n",
       "   'path': ''},\n",
       "  {'action': 'create',\n",
       "   'state': {'x': 3, 'y': 2},\n",
       "   'cost_from_start': 1.0,\n",
       "   'heuristic': 2.0,\n",
       "   'path': ''},\n",
       "  {'action': 'create',\n",
       "   'state': {'x': 2, 'y': 3},\n",
       "   'cost_from_start': 1.0,\n",
       "   'heuristic': 2.0,\n",
       "   'path': ''},\n",
       "  {'action': 'close',\n",
       "   'state': {'x': 3, 'y': 2},\n",
       "   'cost_from_start': 1.0,\n",
       "   'heuristic': 2.0,\n",
       "   'path': ''},\n",
       "  {'action': 'create',\n",
       "   'state': {'x': 4, 'y': 2},\n",
       "   'cost_from_start': 2.0,\n",
       "   'heuristic': 3.0,\n",
       "   'path': ''},\n",
       "  {'action': 'close',\n",
       "   'state': {'x': 2, 'y': 3},\n",
       "   'cost_from_start': 1.0,\n",
       "   'heuristic': 2.0,\n",
       "   'path': ''},\n",
       "  {'action': 'create',\n",
       "   'state': {'x': 1, 'y': 3},\n",
       "   'cost_from_start': 2.0,\n",
       "   'heuristic': 3.0,\n",
       "   'path': ''},\n",
       "  {'action': 'close',\n",
       "   'state': {'x': 4, 'y': 2},\n",
       "   'cost_from_start': 2.0,\n",
       "   'heuristic': 3.0,\n",
       "   'path': ''},\n",
       "  {'action': 'create',\n",
       "   'state': {'x': 4, 'y': 1},\n",
       "   'cost_from_start': 3.0,\n",
       "   'heuristic': 2.0,\n",
       "   'path': ''},\n",
       "  {'action': 'close',\n",
       "   'state': {'x': 4, 'y': 1},\n",
       "   'cost_from_start': 3.0,\n",
       "   'heuristic': 2.0,\n",
       "   'path': ''},\n",
       "  {'action': 'create',\n",
       "   'state': {'x': 4, 'y': 0},\n",
       "   'cost_from_start': 4.0,\n",
       "   'heuristic': 3.0,\n",
       "   'path': ''},\n",
       "  {'action': 'close',\n",
       "   'state': {'x': 1, 'y': 3},\n",
       "   'cost_from_start': 2.0,\n",
       "   'heuristic': 3.0,\n",
       "   'path': ''},\n",
       "  {'action': 'create',\n",
       "   'state': {'x': 1, 'y': 4},\n",
       "   'cost_from_start': 3.0,\n",
       "   'heuristic': 4.0,\n",
       "   'path': ''},\n",
       "  {'action': 'create',\n",
       "   'state': {'x': 0, 'y': 3},\n",
       "   'cost_from_start': 3.0,\n",
       "   'heuristic': 4.0,\n",
       "   'path': ''},\n",
       "  {'action': 'close',\n",
       "   'state': {'x': 3, 'y': 4},\n",
       "   'cost_from_start': 1.0,\n",
       "   'heuristic': 4.0,\n",
       "   'path': ''},\n",
       "  {'action': 'close',\n",
       "   'state': {'x': 4, 'y': 0},\n",
       "   'cost_from_start': 4.0,\n",
       "   'heuristic': 3.0,\n",
       "   'path': ''},\n",
       "  {'action': 'create',\n",
       "   'state': {'x': 3, 'y': 0},\n",
       "   'cost_from_start': 5.0,\n",
       "   'heuristic': 2.0,\n",
       "   'path': ''},\n",
       "  {'action': 'close',\n",
       "   'state': {'x': 3, 'y': 0},\n",
       "   'cost_from_start': 5.0,\n",
       "   'heuristic': 2.0,\n",
       "   'path': ''},\n",
       "  {'action': 'create',\n",
       "   'state': {'x': 2, 'y': 0},\n",
       "   'cost_from_start': 6.0,\n",
       "   'heuristic': 1.0,\n",
       "   'path': ''},\n",
       "  {'action': 'close',\n",
       "   'state': {'x': 2, 'y': 0},\n",
       "   'cost_from_start': 6.0,\n",
       "   'heuristic': 1.0,\n",
       "   'path': ''},\n",
       "  {'action': 'create',\n",
       "   'state': {'x': 2, 'y': 1},\n",
       "   'cost_from_start': 7.0,\n",
       "   'heuristic': 0.0,\n",
       "   'path': ''},\n",
       "  {'action': 'create',\n",
       "   'state': {'x': 1, 'y': 0},\n",
       "   'cost_from_start': 7.0,\n",
       "   'heuristic': 2.0,\n",
       "   'path': ''},\n",
       "  {'action': 'close',\n",
       "   'state': {'x': 2, 'y': 1},\n",
       "   'cost_from_start': 7.0,\n",
       "   'heuristic': 0.0,\n",
       "   'path': ''},\n",
       "  {'action': 'plan',\n",
       "   'state': {'x': 3, 'y': 3},\n",
       "   'cost_from_start': 0.0,\n",
       "   'heuristic': 3.0,\n",
       "   'path': ''},\n",
       "  {'action': 'plan',\n",
       "   'state': {'x': 3, 'y': 2},\n",
       "   'cost_from_start': 1.0,\n",
       "   'heuristic': 2.0,\n",
       "   'path': ''},\n",
       "  {'action': 'plan',\n",
       "   'state': {'x': 4, 'y': 2},\n",
       "   'cost_from_start': 2.0,\n",
       "   'heuristic': 3.0,\n",
       "   'path': ''},\n",
       "  {'action': 'plan',\n",
       "   'state': {'x': 4, 'y': 1},\n",
       "   'cost_from_start': 3.0,\n",
       "   'heuristic': 2.0,\n",
       "   'path': ''},\n",
       "  {'action': 'plan',\n",
       "   'state': {'x': 4, 'y': 0},\n",
       "   'cost_from_start': 4.0,\n",
       "   'heuristic': 3.0,\n",
       "   'path': ''},\n",
       "  {'action': 'plan',\n",
       "   'state': {'x': 3, 'y': 0},\n",
       "   'cost_from_start': 5.0,\n",
       "   'heuristic': 2.0,\n",
       "   'path': ''},\n",
       "  {'action': 'plan',\n",
       "   'state': {'x': 2, 'y': 0},\n",
       "   'cost_from_start': 6.0,\n",
       "   'heuristic': 1.0,\n",
       "   'path': ''},\n",
       "  {'action': 'plan',\n",
       "   'state': {'x': 2, 'y': 1},\n",
       "   'cost_from_start': 7.0,\n",
       "   'heuristic': 0.0,\n",
       "   'path': ''}]}"
      ]
     },
     "execution_count": 9,
     "metadata": {},
     "output_type": "execute_result"
    }
   ],
   "source": [
    "maze_trace_list[5]"
   ]
  },
  {
   "cell_type": "code",
   "execution_count": 16,
   "metadata": {},
   "outputs": [
    {
     "name": "stdout",
     "output_type": "stream",
     "text": [
      "tokens: TokenizedTrace(id=2660476507869248049, prompt=['start', '0', '0', 'goal', '4', '2', 'wall', '1', '1', 'wall', '3', '1', 'wall', '1', '2', 'wall', '2', '2', 'wall', '4', '3', 'wall', '2', '4', 'wall', '4', '4'], reasoning=['create', '0', '0', 'c0', 'c6', 'close', '0', '0', 'c0', 'c6', 'create', '0', '1', 'c1', 'c5', 'create', '1', '0', 'c1', 'c5', 'close', '1', '0', 'c1', 'c5', 'create', '2', '0', 'c2', 'c4', 'close', '2', '0', 'c2', 'c4', 'create', '2', '1', 'c3', 'c3', 'create', '3', '0', 'c3', 'c3', 'close', '3', '0', 'c3', 'c3', 'create', '4', '0', 'c4', 'c2', 'close', '4', '0', 'c4', 'c2', 'create', '4', '1', 'c5', 'c1', 'close', '0', '1', 'c1', 'c5', 'create', '0', '2', 'c2', 'c4', 'close', '2', '1', 'c3', 'c3', 'close', '4', '1', 'c5', 'c1', 'create', '4', '2', 'c6', 'c0', 'close', '0', '2', 'c2', 'c4', 'create', '0', '3', 'c3', 'c5', 'close', '4', '2', 'c6', 'c0'], plan=['plan', '0', '0', 'plan', '1', '0', 'plan', '2', '0', 'plan', '3', '0', 'plan', '4', '0', 'plan', '4', '1', 'plan', '4', '2'])\n"
     ]
    }
   ],
   "source": [
    "tokens=maze_tokenizer.tokenize(trace=MazeTrace.from_dict(maze_trace_list[0]))\n",
    "print(\"tokens:\",tokens)"
   ]
  },
  {
   "cell_type": "code",
   "execution_count": 19,
   "metadata": {},
   "outputs": [
    {
     "name": "stdout",
     "output_type": "stream",
     "text": [
      "['start', '0', '0', 'goal', '4', '2', 'wall', '1', '1', 'wall', '3', '1', 'wall', '1', '2', 'wall', '2', '2', 'wall', '4', '3', 'wall', '2', '4', 'wall', '4', '4']\n"
     ]
    }
   ],
   "source": [
    "print(tokens.prompt)"
   ]
  },
  {
   "cell_type": "code",
   "execution_count": 23,
   "metadata": {},
   "outputs": [],
   "source": [
    "def generate_maze_board(config, width=5, height=5):\n",
    "    # Expand dimensions to add border walls\n",
    "    new_width, new_height = width + 2, height + 2\n",
    "    grid = [[' ' for _ in range(new_width)] for _ in range(new_height)]\n",
    "\n",
    "    # Add border walls\n",
    "    for x in range(new_width):\n",
    "        grid[x][0] = '#'\n",
    "        grid[x][new_height - 1] = '#'\n",
    "    for y in range(new_height):\n",
    "        grid[0][y] = '#'\n",
    "        grid[new_width - 1][y] = '#'\n",
    "\n",
    "    # Parse maze config\n",
    "    start_pos = None\n",
    "    goal_pos = None\n",
    "    i = 0\n",
    "    while i < len(config):\n",
    "        item = config[i]\n",
    "        x, y = int(config[i+1]) + 1, int(config[i+2]) + 1  # offset by +1 for border\n",
    "        if item == 'start':\n",
    "            start_pos = (x, y)\n",
    "        elif item == 'goal':\n",
    "            goal_pos = (x, y)\n",
    "        elif item == 'wall':\n",
    "            grid[x][y] = '#'\n",
    "        i += 3\n",
    "\n",
    "    # Place start/goal\n",
    "    if start_pos == goal_pos:\n",
    "        x, y = start_pos\n",
    "        grid[x][y] = '+'\n",
    "    else:\n",
    "        if start_pos:\n",
    "            x, y = start_pos\n",
    "            grid[x][y] = '@'\n",
    "        if goal_pos:\n",
    "            x, y = goal_pos\n",
    "            grid[x][y] = '.'\n",
    "\n",
    "    # Return the board as a list of strings (from top to bottom)\n",
    "    return [''.join(row) for row in reversed(grid)]\n"
   ]
  },
  {
   "cell_type": "code",
   "execution_count": 24,
   "metadata": {},
   "outputs": [
    {
     "name": "stdout",
     "output_type": "stream",
     "text": [
      "#######\n",
      "#  .###\n",
      "# #   #\n",
      "#  # ##\n",
      "# ##  #\n",
      "#@    #\n",
      "#######\n"
     ]
    }
   ],
   "source": [
    "print(\"\\n\".join(generate_maze_board(config=tokens.prompt,width=5,height=5)))"
   ]
  },
  {
   "cell_type": "code",
   "execution_count": 30,
   "metadata": {},
   "outputs": [],
   "source": [
    "import matplotlib.pyplot as plt\n",
    "import numpy as np\n",
    "from heapq import heapify,heappop,heappush"
   ]
  },
  {
   "cell_type": "code",
   "execution_count": null,
   "metadata": {},
   "outputs": [],
   "source": [
    "def visualize_maze(maze_config,width=5,height=5):\n",
    "# Initialize 5x5 grid\n",
    "    grid = np.zeros((width, height), dtype=int)  # 0 = empty, 1 = wall, 2 = start, 3 = goal #type:ignore\n",
    "\n",
    "    # Parse config\n",
    "    i = 0\n",
    "    while i < len(maze_config):\n",
    "        item = maze_config[i]\n",
    "        x, y = int(maze_config[i+1]), int(maze_config[i+2])\n",
    "        if item == 'start':\n",
    "            grid[y][x] = 2\n",
    "        elif item == 'goal':\n",
    "            grid[y][x] = 3\n",
    "        elif item == 'wall':\n",
    "            grid[y][x] = 1\n",
    "        i += 3\n",
    "\n",
    "    # Visualization\n",
    "    colors = {\n",
    "        0: 'white',   # empty\n",
    "        1: 'black',   # wall\n",
    "        2: 'green',   # start\n",
    "        3: 'red'      # goal\n",
    "    }\n",
    "\n",
    "    fig, ax = plt.subplots()\n",
    "    for y in range(height):\n",
    "        for x in range(width):\n",
    "            color = colors[grid[y][x]]\n",
    "            rect = plt.Rectangle((x, 4-y), 1, 1, facecolor=color, edgecolor='gray') #type:ignore\n",
    "            ax.add_patch(rect)\n",
    "\n",
    "    # Grid lines and axis settings\n",
    "    ax.set_xlim(0, width)\n",
    "    ax.set_ylim(0, height)\n",
    "    ax.set_xticks(np.arange(0, width+1, 1))\n",
    "    ax.set_yticks(np.arange(0, height+1, 1))\n",
    "    ax.set_xticklabels([])\n",
    "    ax.set_yticklabels([])\n",
    "    ax.set_aspect('equal')\n",
    "    ax.grid(True)\n",
    "    plt.title(f\"{width}x{height} Maze Visualization\")\n",
    "    plt.show()\n"
   ]
  },
  {
   "cell_type": "code",
   "execution_count": 27,
   "metadata": {},
   "outputs": [
    {
     "data": {
      "image/png": "[encoded data removed]",
      "text/plain": [
       "<Figure size 640x480 with 1 Axes>"
      ]
     },
     "metadata": {},
     "output_type": "display_data"
    }
   ],
   "source": [
    "visualize_maze(maze_config=tokens.prompt,height=5,width=5)"
   ]
  },
  {
   "cell_type": "code",
   "execution_count": 29,
   "metadata": {},
   "outputs": [],
   "source": [
    "graph={0:[(1,4,2),(2,3,5)],1:[(0,4,2),(5,2,0)],2:[(0,3,5),(3,3,2)],3:[(2,3,2),(4,1,1)],4:[(3,1,1),(5,1,0)],5:[(4,1,0),(1,2,0)]}"
   ]
  },
  {
   "cell_type": "code",
   "execution_count": null,
   "metadata": {},
   "outputs": [],
   "source": [
    "def astar(graph, start, goal):\n",
    "    print(\"graph=\",graph)\n",
    "    print(\"start=\",start)\n",
    "    print(\"goal=\",goal)\n",
    "    print(\"heap=[]\")\n",
    "    print(\"visited=[]\")\n",
    "    print(\"currently heap is empty\\npushing start node in the heap\")\n",
    "    print(\"Action: push_heap(heap,(0,0,0))\")\n",
    "    pq = [(0 + heuristic(start, goal, graph), 0, start, [start])]\n",
    "    print(\"heap=\",pq)\n",
    "    visited = set()\n",
    "    print(\"initializing the search:\")\n",
    "    while pq:\n",
    "        print(\"selecting the node from the heap with lowest cost\")\n",
    "        f, g, node, path = heappop(pq)\n",
    "        print(f\"f={f},g={g},node={node}\")\n",
    "        if node == goal:\n",
    "            print(\"since node is the goal so we have achieved the target\")\n",
    "            return path, g  # Return path and actual cost\n",
    "\n",
    "        if node in visited:\n",
    "            print(\"current node is already visited so continuing\")\n",
    "            continue\n",
    "        visited.add(node)\n",
    "        print(\"adding node to visited\\nAction: add_visited(node)\")\n",
    "        print(f\"visited: {visited}\")\n",
    "        print(\"exploring the child nodes\")\n",
    "        for neighbor, cost, h in graph[node]:\n",
    "            print(f\"child node is {neighbor} cost={cost} heuristic={h}\")\n",
    "            if neighbor not in visited:\n",
    "                print(\"child node is not visited till now\")\n",
    "                g_new = g + cost\n",
    "                f_new = g_new + h \n",
    "                print(f\"g_new={g_new}# g+cost\")\n",
    "                print(f\"f_new={f_new}# g_new+h\")\n",
    "                print(f\"pushing this node into heap\\nAction: push_heap(heap,({f_new},{g_new},{neighbor}))\")\n",
    "                heappush(pq, (f_new, g_new, neighbor, path + [neighbor]))\n",
    "        print(f\"current heap : {pq}\")\n",
    "    return None, float('inf')\n",
    "\n",
    "# Helper to extract heuristic for a node towards the goal (used only at start)\n",
    "def heuristic(node, goal, graph):\n",
    "    if node == goal:\n",
    "        return 0\n",
    "    for neighbor, cost, h in graph[node]:\n",
    "        if neighbor == goal:\n",
    "            return h\n",
    "    return 0  # Default heuristic if not directly connected\n",
    "\n"
   ]
  },
  {
   "cell_type": "code",
   "execution_count": 34,
   "metadata": {},
   "outputs": [
    {
     "name": "stdout",
     "output_type": "stream",
     "text": [
      "graph= {0: [(1, 4, 2), (2, 3, 5)], 1: [(0, 4, 2), (5, 2, 0)], 2: [(0, 3, 5), (3, 3, 2)], 3: [(2, 3, 2), (4, 1, 1)], 4: [(3, 1, 1), (5, 1, 0)], 5: [(4, 1, 0), (1, 2, 0)]}\n",
      "start= 0\n",
      "goal= 5\n",
      "heap=[]\n",
      "visited=[]\n",
      "currently heap is empty\n",
      "pushing start node in the heap\n",
      "Action: push_heap(heap,(0,0,0))\n",
      "heap= [(0, 0, 0, [0])]\n",
      "initializing the search:\n",
      "selecting the node from the heap with lowest cost\n",
      "f=0,g=0,node=0\n",
      "adding node to visited\n",
      "Action: add_visited(node)\n",
      "exploring the child nodes\n",
      "child node is 1 cost=4 heuristic=2\n",
      "child node is not visited till now\n",
      "g_new=4# g+cost\n",
      "f_new=6# g_new+h\n",
      "pushing this node into heap\n",
      "Action: push_heap(heap,(6,4,1))\n",
      "child node is 2 cost=3 heuristic=5\n",
      "child node is not visited till now\n",
      "g_new=3# g+cost\n",
      "f_new=8# g_new+h\n",
      "pushing this node into heap\n",
      "Action: push_heap(heap,(8,3,2))\n",
      "current heap : [(6, 4, 1, [0, 1]), (8, 3, 2, [0, 2])]\n",
      "visited : {0}\n",
      "selecting the node from the heap with lowest cost\n",
      "f=6,g=4,node=1\n",
      "adding node to visited\n",
      "Action: add_visited(node)\n",
      "exploring the child nodes\n",
      "child node is 0 cost=4 heuristic=2\n",
      "child node is 5 cost=2 heuristic=0\n",
      "child node is not visited till now\n",
      "g_new=6# g+cost\n",
      "f_new=6# g_new+h\n",
      "pushing this node into heap\n",
      "Action: push_heap(heap,(6,6,5))\n",
      "current heap : [(6, 6, 5, [0, 1, 5]), (8, 3, 2, [0, 2])]\n",
      "visited : {0, 1}\n",
      "selecting the node from the heap with lowest cost\n",
      "f=6,g=6,node=5\n",
      "since node is the goal so we have achieved the target\n",
      "Path: [0, 1, 5]\n",
      "Total Cost: 6\n"
     ]
    }
   ],
   "source": [
    "path, cost = astar(graph, start=0, goal=5)\n",
    "print(\"Path:\", path)\n",
    "print(\"Total Cost:\", cost)\n"
   ]
  },
  {
   "cell_type": "code",
   "execution_count": null,
   "metadata": {},
   "outputs": [],
   "source": [
    "graph_2={\n",
    "    0: [(1, 2, 4), (3, 5, 3)],\n",
    "    1: [(0, 2, 5), (2, 3, 2), (4, 1, 1)],\n",
    "    2: [(1, 3, 4), (5, 6, 0)], \n",
    "    3: [(0, 5, 5), (4, 2, 1)], \n",
    "    4: [(1, 1, 4), (3, 2, 3), (5, 3, 0)],\n",
    "    5: [(2, 6, 2), (4, 3, 1)] \n",
    "}"
   ]
  },
  {
   "cell_type": "code",
   "execution_count": 37,
   "metadata": {},
   "outputs": [
    {
     "name": "stdout",
     "output_type": "stream",
     "text": [
      "graph= {0: [(1, 2, 4), (3, 5, 3)], 1: [(0, 2, 5), (2, 3, 2), (4, 1, 1)], 2: [(1, 3, 4), (5, 6, 0)], 3: [(0, 5, 5), (4, 2, 1)], 4: [(1, 1, 4), (3, 2, 3), (5, 3, 0)], 5: [(2, 6, 2), (4, 3, 1)]}\n",
      "start= 0\n",
      "goal= 5\n",
      "heap=[]\n",
      "visited=[]\n",
      "currently heap is empty\n",
      "pushing start node in the heap\n",
      "Action: push_heap(heap,(0,0,0))\n",
      "heap= [(0, 0, 0, [0])]\n",
      "initializing the search:\n",
      "selecting the node from the heap with lowest cost\n",
      "f=0,g=0,node=0\n",
      "adding node to visited\n",
      "Action: add_visited(node)\n",
      "exploring the child nodes\n",
      "child node is 1 cost=2 heuristic=4\n",
      "child node is not visited till now\n",
      "g_new=2# g+cost\n",
      "f_new=6# g_new+h\n",
      "pushing this node into heap\n",
      "Action: push_heap(heap,(6,2,1))\n",
      "child node is 3 cost=5 heuristic=3\n",
      "child node is not visited till now\n",
      "g_new=5# g+cost\n",
      "f_new=8# g_new+h\n",
      "pushing this node into heap\n",
      "Action: push_heap(heap,(8,5,3))\n",
      "current heap : [(6, 2, 1, [0, 1]), (8, 5, 3, [0, 3])]\n",
      "visited : {0}\n",
      "selecting the node from the heap with lowest cost\n",
      "f=6,g=2,node=1\n",
      "adding node to visited\n",
      "Action: add_visited(node)\n",
      "exploring the child nodes\n",
      "child node is 0 cost=2 heuristic=5\n",
      "child node is 2 cost=3 heuristic=2\n",
      "child node is not visited till now\n",
      "g_new=5# g+cost\n",
      "f_new=7# g_new+h\n",
      "pushing this node into heap\n",
      "Action: push_heap(heap,(7,5,2))\n",
      "child node is 4 cost=1 heuristic=1\n",
      "child node is not visited till now\n",
      "g_new=3# g+cost\n",
      "f_new=4# g_new+h\n",
      "pushing this node into heap\n",
      "Action: push_heap(heap,(4,3,4))\n",
      "current heap : [(4, 3, 4, [0, 1, 4]), (8, 5, 3, [0, 3]), (7, 5, 2, [0, 1, 2])]\n",
      "visited : {0, 1}\n",
      "selecting the node from the heap with lowest cost\n",
      "f=4,g=3,node=4\n",
      "adding node to visited\n",
      "Action: add_visited(node)\n",
      "exploring the child nodes\n",
      "child node is 1 cost=1 heuristic=4\n",
      "child node is 3 cost=2 heuristic=3\n",
      "child node is not visited till now\n",
      "g_new=5# g+cost\n",
      "f_new=8# g_new+h\n",
      "pushing this node into heap\n",
      "Action: push_heap(heap,(8,5,3))\n",
      "child node is 5 cost=3 heuristic=0\n",
      "child node is not visited till now\n",
      "g_new=6# g+cost\n",
      "f_new=6# g_new+h\n",
      "pushing this node into heap\n",
      "Action: push_heap(heap,(6,6,5))\n",
      "current heap : [(6, 6, 5, [0, 1, 4, 5]), (7, 5, 2, [0, 1, 2]), (8, 5, 3, [0, 1, 4, 3]), (8, 5, 3, [0, 3])]\n",
      "visited : {0, 1, 4}\n",
      "selecting the node from the heap with lowest cost\n",
      "f=6,g=6,node=5\n",
      "since node is the goal so we have achieved the target\n",
      "Path: [0, 1, 4, 5]\n",
      "Total Cost: 6\n"
     ]
    }
   ],
   "source": [
    "path, cost = astar(graph_2, start=0, goal=5)\n",
    "print(\"Path:\", path)\n",
    "print(\"Total Cost:\", cost)\n"
   ]
  },
  {
   "cell_type": "code",
   "execution_count": null,
   "metadata": {},
   "outputs": [],
   "source": []
  },
  {
   "cell_type": "code",
   "execution_count": null,
   "metadata": {},
   "outputs": [],
   "source": []
  },
  {
   "cell_type": "code",
   "execution_count": null,
   "metadata": {},
   "outputs": [],
   "source": []
  },
  {
   "cell_type": "code",
   "execution_count": null,
   "metadata": {},
   "outputs": [],
   "source": []
  },
  {
   "cell_type": "code",
   "execution_count": 4,
   "metadata": {},
   "outputs": [],
   "source": [
    "def print_one_shot(tokens):\n",
    "    print(\"<prompt>\")\n",
    "    print_line(tokens.prompt,3)\n",
    "    print(\"</prompt>\")\n",
    "    print(\"<reasoning>\")\n",
    "    print_line(tokens.reasoning,5)\n",
    "    print(\"</reasoning>\")\n",
    "    print(\"<plan>\")\n",
    "    print_line(tokens.plan,3)\n",
    "    print(\"</plan>\")"
   ]
  },
  {
   "cell_type": "code",
   "execution_count": null,
   "metadata": {},
   "outputs": [],
   "source": [
    "print_one_shot(maze_tokenizer.tokenize(trace=MazeTrace.from_dict(maze_trace_list[5])))"
   ]
  },
  {
   "cell_type": "code",
   "execution_count": 2,
   "metadata": {},
   "outputs": [
    {
     "name": "stdout",
     "output_type": "stream",
     "text": [
      "pygame 2.6.1 (SDL 2.28.4, Python 3.10.0)\n",
      "Hello from the pygame community. https://www.pygame.org/contribute.html\n"
     ]
    }
   ],
   "source": [
    "from searchformer.sokoban import SokobanTrace,SokobanRenderer,SimpleSokobanTokenizer,sokoban_state_to_pretty_string,Sokoban,WithBoxSokobanTokenizer\n",
    "import pygame"
   ]
  },
  {
   "cell_type": "code",
   "execution_count": 12,
   "metadata": {},
   "outputs": [
    {
     "name": "stdout",
     "output_type": "stream",
     "text": [
      "root state:\n",
      "#####\n",
      "##. #\n",
      "# $ #\n",
      "#  @#\n",
      "#####\n",
      "node_id: \n",
      "cost: 1.0\n",
      "heap: []\n",
      "currently min heap is empty. Pushing root state to the heap\n",
      "Action: push_heap(start_state)\n",
      "observation: done\n",
      "Action: push_open(node_id='')\n",
      "observation: done\n",
      "heap: [(1.0, '')]\n",
      "initializing search\n",
      "selecting the node from the heap with lowest cost\n",
      "Action: fetch_node(node_id=)\n",
      "observation:\n",
      "current state:\n",
      "#####\n",
      "##. #\n",
      "# $ #\n",
      "#  @#\n",
      "#####\n",
      "node_id: \n",
      "cost: 1.0\n",
      "pushing node to the closed list\n",
      "Action: push_closed(node_id=)\n",
      "observation: done\n",
      "exploring child nodes\n",
      "current child:\n",
      "node_id: D\n",
      "cost: 2.0\n",
      "checks:\n",
      "Action: check_open(node_id=D)\n",
      "child is not in the open_dict\n",
      "Action: check_closed(node_id=D)\n",
      "observation: child is in the closed_dict\n",
      "the cost of the child in closed_dict is less than the child itself so continuing\n",
      "current child:\n",
      "node_id: L\n",
      "cost: 2.0\n",
      "checks:\n",
      "Action: check_open(node_id=L)\n",
      "child is not in the open_dict\n",
      "Action: check_closed(node_id=L)\n",
      "observation: child is not in the open_dict and not in the closed dict.\n",
      "adding child node to the heap\n",
      "Action: push_heap(node_id=L)\n",
      "observation: done\n",
      "current child:\n",
      "node_id: U\n",
      "cost: 2.0\n",
      "checks:\n",
      "Action: check_open(node_id=U)\n",
      "child is not in the open_dict\n",
      "Action: check_closed(node_id=U)\n",
      "observation: child is not in the open_dict and not in the closed dict.\n",
      "adding child node to the heap\n",
      "Action: push_heap(node_id=U)\n",
      "observation: done\n",
      "current child:\n",
      "node_id: R\n",
      "cost: 2.0\n",
      "checks:\n",
      "Action: check_open(node_id=R)\n",
      "child is not in the open_dict\n",
      "Action: check_closed(node_id=R)\n",
      "observation: child is in the closed_dict\n",
      "the cost of the child in closed_dict is less than the child itself so continuing\n",
      "heap: [(2.0, 'L'), (2.0, 'U')]\n",
      "selecting the node from the heap with lowest cost\n",
      "Action: fetch_node(node_id=L)\n",
      "observation:\n",
      "current state:\n",
      "#####\n",
      "##. #\n",
      "# $ #\n",
      "# @ #\n",
      "#####\n",
      "node_id: L\n",
      "cost: 2.0\n",
      "pushing node to the closed list\n",
      "Action: push_closed(node_id=L)\n",
      "observation: done\n",
      "exploring child nodes\n",
      "current child:\n",
      "node_id: LD\n",
      "cost: 3.0\n",
      "checks:\n",
      "Action: check_open(node_id=LD)\n",
      "child is not in the open_dict\n",
      "Action: check_closed(node_id=LD)\n",
      "observation: child is in the closed_dict\n",
      "the cost of the child in closed_dict is less than the child itself so continuing\n",
      "current child:\n",
      "node_id: LU\n",
      "cost: 2.0\n",
      "checks:\n",
      "Action: check_open(node_id=LU)\n",
      "child is not in the open_dict\n",
      "Action: check_closed(node_id=LU)\n",
      "observation: child is not in the open_dict and not in the closed dict.\n",
      "adding child node to the heap\n",
      "Action: push_heap(node_id=LU)\n",
      "observation: done\n",
      "current child:\n",
      "node_id: LL\n",
      "cost: 3.0\n",
      "checks:\n",
      "Action: check_open(node_id=LL)\n",
      "child is not in the open_dict\n",
      "Action: check_closed(node_id=LL)\n",
      "observation: child is not in the open_dict and not in the closed dict.\n",
      "adding child node to the heap\n",
      "Action: push_heap(node_id=LL)\n",
      "observation: done\n",
      "current child:\n",
      "node_id: LR\n",
      "cost: 3.0\n",
      "checks:\n",
      "Action: check_open(node_id=LR)\n",
      "child is not in the open_dict\n",
      "Action: check_closed(node_id=LR)\n",
      "observation: child is in the closed_dict\n",
      "the cost of the child in closed_dict is less than the child itself so continuing\n",
      "heap: [(2.0, 'LU'), (2.0, 'U'), (3.0, 'LL')]\n",
      "selecting the node from the heap with lowest cost\n",
      "Action: fetch_node(node_id=U)\n",
      "observation:\n",
      "current state:\n",
      "#####\n",
      "##. #\n",
      "# $@#\n",
      "#   #\n",
      "#####\n",
      "node_id: U\n",
      "cost: 2.0\n",
      "pushing node to the closed list\n",
      "Action: push_closed(node_id=U)\n",
      "observation: done\n",
      "exploring child nodes\n",
      "current child:\n",
      "node_id: UR\n",
      "cost: 3.0\n",
      "checks:\n",
      "Action: check_open(node_id=UR)\n",
      "child is not in the open_dict\n",
      "Action: check_closed(node_id=UR)\n",
      "observation: child is in the closed_dict\n",
      "the cost of the child in closed_dict is less than the child itself so continuing\n",
      "current child:\n",
      "node_id: UD\n",
      "cost: 3.0\n",
      "checks:\n",
      "Action: check_open(node_id=UD)\n",
      "child is not in the open_dict\n",
      "Action: check_closed(node_id=UD)\n",
      "observation: child is in the closed_dict\n",
      "the cost of the child in closed_dict is less than the child itself so continuing\n",
      "current child:\n",
      "node_id: UU\n",
      "cost: 3.0\n",
      "checks:\n",
      "Action: check_open(node_id=UU)\n",
      "child is not in the open_dict\n",
      "Action: check_closed(node_id=UU)\n",
      "observation: child is not in the open_dict and not in the closed dict.\n",
      "adding child node to the heap\n",
      "Action: push_heap(node_id=UU)\n",
      "observation: done\n",
      "heap: [(2.0, 'U'), (3.0, 'LL'), (3.0, 'UU')]\n",
      "selecting the node from the heap with lowest cost\n",
      "Action: fetch_node(node_id=LU)\n",
      "observation:\n",
      "current state:\n",
      "#####\n",
      "##* #\n",
      "# @ #\n",
      "#   #\n",
      "#####\n",
      "node_id: LU\n",
      "cost: 2.0\n",
      "pushing node to the closed list\n",
      "Action: push_closed(node_id=LU)\n",
      "observation: done\n",
      "current node is the goal\n",
      "goal reached\n"
     ]
    }
   ],
   "source": [
    "sokoban_trace=SokobanTrace.generate(width=5,height=5,num_boxes=1,num_walls=1)\n",
    "# print(sokoban_trace.to_dict())"
   ]
  },
  {
   "cell_type": "code",
   "execution_count": 13,
   "metadata": {},
   "outputs": [
    {
     "name": "stdout",
     "output_type": "stream",
     "text": [
      "{'sokoban_start': [['#', '#', '#', '#', '#'], ['#', '#', '.', ' ', '#'], ['#', ' ', '$', ' ', '#'], ['#', ' ', ' ', '@', '#'], ['#', '#', '#', '#', '#']], 'trace': [{'action': 'create', 'state': {'state': [['#', '#', '#', '#', '#'], ['#', '#', '.', ' ', '#'], ['#', ' ', '$', ' ', '#'], ['#', ' ', ' ', '@', '#'], ['#', '#', '#', '#', '#']]}, 'cost_from_start': 0.0, 'heuristic': 1.0, 'path': ''}, {'action': 'close', 'state': {'state': [['#', '#', '#', '#', '#'], ['#', '#', '.', ' ', '#'], ['#', ' ', '$', ' ', '#'], ['#', ' ', ' ', '@', '#'], ['#', '#', '#', '#', '#']]}, 'cost_from_start': 0.0, 'heuristic': 1.0, 'path': ''}, {'action': 'create', 'state': {'state': [['#', '#', '#', '#', '#'], ['#', '#', '.', ' ', '#'], ['#', ' ', '$', ' ', '#'], ['#', ' ', '@', ' ', '#'], ['#', '#', '#', '#', '#']]}, 'cost_from_start': 1.0, 'heuristic': 1.0, 'path': 'L'}, {'action': 'create', 'state': {'state': [['#', '#', '#', '#', '#'], ['#', '#', '.', ' ', '#'], ['#', ' ', '$', '@', '#'], ['#', ' ', ' ', ' ', '#'], ['#', '#', '#', '#', '#']]}, 'cost_from_start': 1.0, 'heuristic': 1.0, 'path': 'U'}, {'action': 'close', 'state': {'state': [['#', '#', '#', '#', '#'], ['#', '#', '.', ' ', '#'], ['#', ' ', '$', ' ', '#'], ['#', ' ', '@', ' ', '#'], ['#', '#', '#', '#', '#']]}, 'cost_from_start': 1.0, 'heuristic': 1.0, 'path': 'L'}, {'action': 'create', 'state': {'state': [['#', '#', '#', '#', '#'], ['#', '#', '*', ' ', '#'], ['#', ' ', '@', ' ', '#'], ['#', ' ', ' ', ' ', '#'], ['#', '#', '#', '#', '#']]}, 'cost_from_start': 2.0, 'heuristic': 0, 'path': 'LU'}, {'action': 'create', 'state': {'state': [['#', '#', '#', '#', '#'], ['#', '#', '.', ' ', '#'], ['#', ' ', '$', ' ', '#'], ['#', '@', ' ', ' ', '#'], ['#', '#', '#', '#', '#']]}, 'cost_from_start': 2.0, 'heuristic': 1.0, 'path': 'LL'}, {'action': 'close', 'state': {'state': [['#', '#', '#', '#', '#'], ['#', '#', '.', ' ', '#'], ['#', ' ', '$', '@', '#'], ['#', ' ', ' ', ' ', '#'], ['#', '#', '#', '#', '#']]}, 'cost_from_start': 1.0, 'heuristic': 1.0, 'path': 'U'}, {'action': 'create', 'state': {'state': [['#', '#', '#', '#', '#'], ['#', '#', '.', '@', '#'], ['#', ' ', '$', ' ', '#'], ['#', ' ', ' ', ' ', '#'], ['#', '#', '#', '#', '#']]}, 'cost_from_start': 2.0, 'heuristic': 1.0, 'path': 'UU'}, {'action': 'close', 'state': {'state': [['#', '#', '#', '#', '#'], ['#', '#', '*', ' ', '#'], ['#', ' ', '@', ' ', '#'], ['#', ' ', ' ', ' ', '#'], ['#', '#', '#', '#', '#']]}, 'cost_from_start': 2.0, 'heuristic': 0, 'path': 'LU'}, {'action': 'plan', 'state': {'state': [['#', '#', '#', '#', '#'], ['#', '#', '.', ' ', '#'], ['#', ' ', '$', ' ', '#'], ['#', ' ', ' ', '@', '#'], ['#', '#', '#', '#', '#']]}, 'cost_from_start': 0.0, 'heuristic': 1.0, 'path': ''}, {'action': 'plan', 'state': {'state': [['#', '#', '#', '#', '#'], ['#', '#', '.', ' ', '#'], ['#', ' ', '$', ' ', '#'], ['#', ' ', '@', ' ', '#'], ['#', '#', '#', '#', '#']]}, 'cost_from_start': 1.0, 'heuristic': 1.0, 'path': 'L'}, {'action': 'plan', 'state': {'state': [['#', '#', '#', '#', '#'], ['#', '#', '*', ' ', '#'], ['#', ' ', '@', ' ', '#'], ['#', ' ', ' ', ' ', '#'], ['#', '#', '#', '#', '#']]}, 'cost_from_start': 2.0, 'heuristic': 0, 'path': 'LU'}]}\n"
     ]
    }
   ],
   "source": [
    "print(sokoban_trace.to_dict())"
   ]
  },
  {
   "cell_type": "code",
   "execution_count": 23,
   "metadata": {},
   "outputs": [
    {
     "name": "stdout",
     "output_type": "stream",
     "text": [
      "######\n",
      "### ##\n",
      "# $..#\n",
      "# $$ #\n",
      "#.@  #\n",
      "######\n"
     ]
    }
   ],
   "source": [
    "print(sokoban_state_to_pretty_string(state=sokoban_trace.to_dict()['sokoban_start']))"
   ]
  },
  {
   "cell_type": "code",
   "execution_count": 9,
   "metadata": {},
   "outputs": [],
   "source": [
    "renderer=SokobanRenderer(width=6,height=6,record_dir=\"D:\\\\work\\\\searchformer\\\\record_dir\",assets_dir=\"D:\\\\work\\\\searchformer\\\\sokoban\")\n",
    "pygame.init()\n",
    "clock = pygame.time.Clock()\n",
    "running = True\n",
    "\n",
    "while running:\n",
    "    for event in pygame.event.get():\n",
    "        if event.type == pygame.QUIT:\n",
    "            running = False\n",
    "\n",
    "    renderer.render(game_state=sokoban_trace.to_dict()['sokoban_start'])\n",
    "    # renderer.img_to_file()\n",
    "    pygame.display.flip()\n",
    "    clock.tick(1)  # Optional: limit to 30 FPS\n",
    "\n",
    "pygame.quit()"
   ]
  },
  {
   "cell_type": "code",
   "execution_count": 24,
   "metadata": {},
   "outputs": [],
   "source": [
    "sokoban_tokenizer=SimpleSokobanTokenizer(width=6,height=6)"
   ]
  },
  {
   "cell_type": "code",
   "execution_count": 25,
   "metadata": {},
   "outputs": [],
   "source": [
    "sokoban_tokens=sokoban_tokenizer.tokenize(sokoban_trace)"
   ]
  },
  {
   "cell_type": "code",
   "execution_count": 26,
   "metadata": {},
   "outputs": [
    {
     "name": "stdout",
     "output_type": "stream",
     "text": [
      "worker 2 4\n",
      "box 2 2\n",
      "box 2 3\n",
      "box 3 3\n",
      "dock 1 4\n",
      "dock 3 2\n",
      "dock 4 2\n",
      "wall 0 0\n",
      "wall 0 1\n",
      "wall 0 2\n",
      "wall 0 3\n",
      "wall 0 4\n",
      "wall 0 5\n",
      "wall 1 0\n",
      "wall 1 1\n",
      "wall 1 5\n",
      "wall 2 0\n",
      "wall 2 1\n",
      "wall 2 5\n",
      "wall 3 0\n",
      "wall 3 5\n",
      "wall 4 0\n",
      "wall 4 1\n",
      "wall 4 5\n",
      "wall 5 0\n",
      "wall 5 1\n",
      "wall 5 2\n",
      "wall 5 3\n",
      "wall 5 4\n",
      "wall 5 5\n"
     ]
    }
   ],
   "source": [
    "print_line(sokoban_tokens.prompt,3)"
   ]
  },
  {
   "cell_type": "code",
   "execution_count": 27,
   "metadata": {},
   "outputs": [
    {
     "name": "stdout",
     "output_type": "stream",
     "text": [
      "create 2 4 c0 c4\n",
      "close 2 4 c0 c4\n",
      "create 1 4 c1 c4\n",
      "create 3 4 c1 c4\n",
      "close 1 4 c1 c4\n",
      "create 1 3 c2 c4\n",
      "close 3 4 c1 c4\n",
      "create 3 3 c2 c4\n",
      "create 4 4 c2 c4\n",
      "close 4 4 c2 c4\n",
      "create 4 3 c3 c4\n",
      "close 1 3 c2 c4\n",
      "create 1 2 c3 c4\n",
      "close 3 3 c2 c4\n",
      "create 2 3 c3 c3\n",
      "create 4 3 c3 c4\n",
      "create 3 4 c3 c4\n",
      "close 2 3 c3 c3\n",
      "create 3 3 c4 c3\n",
      "create 2 4 c4 c3\n",
      "close 3 4 c3 c4\n",
      "create 4 4 c4 c4\n",
      "create 2 4 c4 c4\n",
      "close 3 3 c4 c3\n",
      "create 4 3 c5 c3\n",
      "create 3 4 c5 c3\n",
      "close 2 4 c4 c3\n",
      "create 1 4 c5 c3\n",
      "close 1 2 c3 c4\n",
      "create 2 2 c4 c4\n",
      "close 4 3 c3 c4\n",
      "create 4 2 c4 c4\n",
      "close 4 3 c3 c4\n",
      "create 4 2 c4 c4\n",
      "close 4 2 c4 c4\n",
      "create 3 2 c5 c4\n",
      "close 4 2 c4 c4\n",
      "close 1 4 c5 c3\n",
      "close 2 2 c4 c4\n",
      "create 1 2 c5 c4\n",
      "create 3 2 c5 c3\n",
      "create 2 3 c5 c3\n",
      "close 3 4 c5 c3\n",
      "create 4 4 c6 c3\n",
      "close 3 2 c5 c3\n",
      "create 2 2 c6 c3\n",
      "create 3 1 c6 c3\n",
      "create 3 3 c6 c4\n",
      "close 2 3 c5 c3\n",
      "create 3 3 c6 c2\n",
      "create 1 3 c6 c3\n",
      "create 2 2 c6 c3\n",
      "close 4 4 c4 c4\n",
      "close 2 4 c4 c4\n",
      "create 1 4 c5 c4\n",
      "close 4 3 c5 c3\n",
      "create 4 2 c6 c3\n",
      "close 3 3 c6 c2\n",
      "create 3 4 c7 c2\n",
      "create 2 3 c7 c2\n",
      "close 3 4 c7 c2\n",
      "create 2 4 c8 c1\n",
      "create 4 4 c8 c2\n",
      "close 2 2 c6 c3\n",
      "create 1 2 c7 c3\n",
      "create 3 2 c7 c2\n",
      "close 3 2 c7 c2\n",
      "create 3 3 c8 c3\n",
      "create 2 2 c8 c2\n",
      "create 3 1 c8 c2\n",
      "close 3 2 c5 c4\n",
      "create 3 3 c6 c5\n",
      "create 3 1 c6 c4\n",
      "close 1 4 c5 c4\n",
      "create 1 3 c6 c4\n",
      "close 4 4 c6 c3\n",
      "close 3 1 c6 c3\n",
      "close 1 3 c6 c3\n",
      "create 1 4 c7 c3\n",
      "close 4 2 c6 c3\n",
      "close 2 3 c7 c2\n",
      "create 1 3 c8 c2\n",
      "create 2 2 c8 c2\n",
      "close 2 2 c6 c3\n",
      "create 2 3 c7 c2\n",
      "create 1 2 c7 c3\n",
      "close 1 2 c5 c4\n",
      "create 1 3 c6 c4\n",
      "close 2 4 c8 c1\n",
      "create 3 4 c9 c1\n",
      "create 2 3 c9 c1\n",
      "close 2 3 c7 c2\n",
      "create 1 3 c8 c2\n",
      "create 3 3 c8 c3\n",
      "close 2 3 c9 c1\n",
      "create 3 3 c10 c1\n",
      "create 1 3 c10 c1\n",
      "create 2 2 c10 c1\n",
      "close 1 3 c6 c4\n",
      "create 1 2 c7 c4\n",
      "create 2 3 c7 c4\n",
      "close 3 3 c6 c4\n",
      "create 4 3 c7 c4\n",
      "create 2 3 c7 c3\n",
      "create 3 2 c7 c4\n",
      "close 2 3 c7 c3\n",
      "create 3 3 c8 c3\n",
      "create 2 2 c8 c3\n",
      "create 2 4 c8 c3\n",
      "close 4 4 c8 c2\n",
      "create 4 3 c9 c1\n",
      "close 2 2 c8 c2\n",
      "create 1 2 c9 c2\n",
      "close 3 1 c8 c2\n",
      "close 1 3 c8 c2\n",
      "create 1 4 c9 c2\n",
      "close 1 3 c6 c4\n",
      "create 1 4 c7 c4\n",
      "close 1 2 c7 c3\n",
      "close 3 4 c9 c1\n",
      "create 4 4 c10 c1\n",
      "close 1 4 c7 c3\n",
      "create 2 4 c8 c4\n",
      "close 1 2 c7 c3\n",
      "create 1 3 c8 c3\n",
      "close 2 2 c8 c2\n",
      "create 1 2 c9 c2\n",
      "create 3 2 c9 c3\n",
      "close 4 3 c9 c1\n",
      "create 4 4 c10 c1\n",
      "create 3 3 c10 c1\n",
      "close 3 1 c6 c4\n",
      "close 1 3 c8 c2\n",
      "create 1 4 c9 c2\n",
      "close 1 2 c9 c2\n",
      "close 1 4 c9 c2\n",
      "create 2 4 c10 c3\n",
      "close 1 3 c8 c3\n",
      "create 1 4 c9 c3\n",
      "close 3 3 c10 c1\n",
      "close 3 3 c10 c1\n",
      "create 3 4 c11 c1\n",
      "create 2 3 c11 c1\n",
      "close 3 3 c8 c3\n",
      "create 4 3 c9 c3\n",
      "create 3 2 c9 c3\n",
      "close 3 3 c8 c3\n",
      "create 2 3 c9 c3\n",
      "create 3 4 c9 c3\n",
      "close 1 4 c9 c2\n",
      "create 2 4 c10 c3\n",
      "close 2 2 c8 c3\n",
      "create 1 2 c9 c3\n",
      "close 1 4 c7 c4\n",
      "create 2 4 c8 c4\n",
      "close 4 4 c10 c1\n",
      "close 3 3 c6 c5\n",
      "create 3 2 c7 c5\n",
      "create 4 3 c7 c5\n",
      "create 2 3 c7 c4\n",
      "close 3 3 c8 c3\n",
      "create 2 3 c9 c3\n",
      "create 3 2 c9 c3\n",
      "create 4 3 c9 c3\n",
      "close 2 3 c7 c4\n",
      "create 2 4 c8 c4\n",
      "create 3 3 c8 c4\n",
      "close 1 2 c9 c2\n",
      "close 4 4 c10 c1\n",
      "create 4 3 c11 c0\n",
      "close 2 3 c7 c4\n",
      "create 3 3 c8 c3\n",
      "create 1 3 c8 c4\n",
      "create 2 4 c8 c4\n",
      "close 4 3 c11 c0\n"
     ]
    }
   ],
   "source": [
    "print_line(sokoban_tokens.reasoning,5)"
   ]
  },
  {
   "cell_type": "code",
   "execution_count": 28,
   "metadata": {},
   "outputs": [
    {
     "name": "stdout",
     "output_type": "stream",
     "text": [
      "plan 2 4\n",
      "plan 1 4\n",
      "plan 1 3\n",
      "plan 1 2\n",
      "plan 2 2\n",
      "plan 2 3\n",
      "plan 3 3\n",
      "plan 3 4\n",
      "plan 2 4\n",
      "plan 3 4\n",
      "plan 4 4\n",
      "plan 4 3\n"
     ]
    }
   ],
   "source": [
    "print_line(sokoban_tokens.plan,3)"
   ]
  },
  {
   "cell_type": "code",
   "execution_count": 4,
   "metadata": {},
   "outputs": [],
   "source": [
    "sk=Sokoban(state=[['#', '#', '#', '#', '#', '#'], ['#', ' ', ' ', ' ', '.', '#'], ['#', ' ', '$', '$', '.', '#'], ['#', ' ', ' ', '#', ' ', '#'], ['#', '#', '#', '@', ' ', '#'], ['#', '#', '#', '#', '#', '#']])"
   ]
  },
  {
   "cell_type": "code",
   "execution_count": 5,
   "metadata": {},
   "outputs": [],
   "source": [
    "final_sk=sk.final_state_from_path(path=\"RUUULLLDDRURLLURR\")"
   ]
  },
  {
   "cell_type": "code",
   "execution_count": 6,
   "metadata": {},
   "outputs": [
    {
     "data": {
      "text/plain": [
       "[['#', '#', '#', '#', '#', '#'],\n",
       " ['#', ' ', ' ', '@', '*', '#'],\n",
       " ['#', ' ', ' ', ' ', '*', '#'],\n",
       " ['#', ' ', ' ', '#', ' ', '#'],\n",
       " ['#', '#', '#', ' ', ' ', '#'],\n",
       " ['#', '#', '#', '#', '#', '#']]"
      ]
     },
     "execution_count": 6,
     "metadata": {},
     "output_type": "execute_result"
    }
   ],
   "source": [
    "final_sk"
   ]
  },
  {
   "cell_type": "code",
   "execution_count": 7,
   "metadata": {},
   "outputs": [],
   "source": [
    "import pickle"
   ]
  },
  {
   "cell_type": "code",
   "execution_count": 8,
   "metadata": {},
   "outputs": [],
   "source": [
    "logs=pickle.load(open(\"/mnt/d/work/searchformer/log.pkl\",'rb'))"
   ]
  },
  {
   "cell_type": "code",
   "execution_count": 9,
   "metadata": {},
   "outputs": [
    {
     "name": "stdout",
     "output_type": "stream",
     "text": [
      "[CreateStep(action='create', state={'state': [['#', '#', '#', '#', '#', '#'], ['#', '#', ' ', '.', ' ', '#'], ['#', ' ', ' ', '$', '#', '#'], ['#', '@', '#', '$', ' ', '#'], ['#', '.', ' ', ' ', ' ', '#'], ['#', '#', '#', '#', '#', '#']]}, cost_from_start=0.0, heuristic=3.0, path=''), CloseStep(action='close', state={'state': [['#', '#', '#', '#', '#', '#'], ['#', '#', ' ', '.', ' ', '#'], ['#', ' ', ' ', '$', '#', '#'], ['#', '@', '#', '$', ' ', '#'], ['#', '.', ' ', ' ', ' ', '#'], ['#', '#', '#', '#', '#', '#']]}, cost_from_start=0.0, heuristic=3.0, path=''), CreateStep(action='create', state={'state': [['#', '#', '#', '#', '#', '#'], ['#', '#', ' ', '.', ' ', '#'], ['#', ' ', ' ', '$', '#', '#'], ['#', ' ', '#', '$', ' ', '#'], ['#', '+', ' ', ' ', ' ', '#'], ['#', '#', '#', '#', '#', '#']]}, cost_from_start=1.0, heuristic=3.0, path='D'), CreateStep(action='create', state={'state': [['#', '#', '#', '#', '#', '#'], ['#', '#', ' ', '.', ' ', '#'], ['#', '@', ' ', '$', '#', '#'], ['#', ' ', '#', '$', ' ', '#'], ['#', '.', ' ', ' ', ' ', '#'], ['#', '#', '#', '#', '#', '#']]}, cost_from_start=1.0, heuristic=3.0, path='U'), CloseStep(action='close', state={'state': [['#', '#', '#', '#', '#', '#'], ['#', '#', ' ', '.', ' ', '#'], ['#', '@', ' ', '$', '#', '#'], ['#', ' ', '#', '$', ' ', '#'], ['#', '.', ' ', ' ', ' ', '#'], ['#', '#', '#', '#', '#', '#']]}, cost_from_start=1.0, heuristic=3.0, path='U'), CreateStep(action='create', state={'state': [['#', '#', '#', '#', '#', '#'], ['#', '#', ' ', '.', ' ', '#'], ['#', ' ', '@', '$', '#', '#'], ['#', ' ', '#', '$', ' ', '#'], ['#', '.', ' ', ' ', ' ', '#'], ['#', '#', '#', '#', '#', '#']]}, cost_from_start=2.0, heuristic=3.0, path='UR'), CloseStep(action='close', state={'state': [['#', '#', '#', '#', '#', '#'], ['#', '#', ' ', '.', ' ', '#'], ['#', ' ', ' ', '$', '#', '#'], ['#', ' ', '#', '$', ' ', '#'], ['#', '+', ' ', ' ', ' ', '#'], ['#', '#', '#', '#', '#', '#']]}, cost_from_start=1.0, heuristic=3.0, path='D'), CreateStep(action='create', state={'state': [['#', '#', '#', '#', '#', '#'], ['#', '#', ' ', '.', ' ', '#'], ['#', ' ', ' ', '$', '#', '#'], ['#', ' ', '#', '$', ' ', '#'], ['#', '.', '@', ' ', ' ', '#'], ['#', '#', '#', '#', '#', '#']]}, cost_from_start=2.0, heuristic=3.0, path='DR'), CloseStep(action='close', state={'state': [['#', '#', '#', '#', '#', '#'], ['#', '#', ' ', '.', ' ', '#'], ['#', ' ', ' ', '$', '#', '#'], ['#', ' ', '#', '$', ' ', '#'], ['#', '.', '@', ' ', ' ', '#'], ['#', '#', '#', '#', '#', '#']]}, cost_from_start=2.0, heuristic=3.0, path='DR'), CreateStep(action='create', state={'state': [['#', '#', '#', '#', '#', '#'], ['#', '#', ' ', '.', ' ', '#'], ['#', ' ', ' ', '$', '#', '#'], ['#', ' ', '#', '$', ' ', '#'], ['#', '.', ' ', '@', ' ', '#'], ['#', '#', '#', '#', '#', '#']]}, cost_from_start=3.0, heuristic=3.0, path='DRR'), CloseStep(action='close', state={'state': [['#', '#', '#', '#', '#', '#'], ['#', '#', ' ', '.', ' ', '#'], ['#', ' ', '@', '$', '#', '#'], ['#', ' ', '#', '$', ' ', '#'], ['#', '.', ' ', ' ', ' ', '#'], ['#', '#', '#', '#', '#', '#']]}, cost_from_start=2.0, heuristic=3.0, path='UR'), CreateStep(action='create', state={'state': [['#', '#', '#', '#', '#', '#'], ['#', '#', '@', '.', ' ', '#'], ['#', ' ', ' ', '$', '#', '#'], ['#', ' ', '#', '$', ' ', '#'], ['#', '.', ' ', ' ', ' ', '#'], ['#', '#', '#', '#', '#', '#']]}, cost_from_start=3.0, heuristic=3.0, path='URU'), CloseStep(action='close', state={'state': [['#', '#', '#', '#', '#', '#'], ['#', '#', '@', '.', ' ', '#'], ['#', ' ', ' ', '$', '#', '#'], ['#', ' ', '#', '$', ' ', '#'], ['#', '.', ' ', ' ', ' ', '#'], ['#', '#', '#', '#', '#', '#']]}, cost_from_start=3.0, heuristic=3.0, path='URU'), CreateStep(action='create', state={'state': [['#', '#', '#', '#', '#', '#'], ['#', '#', ' ', '+', ' ', '#'], ['#', ' ', ' ', '$', '#', '#'], ['#', ' ', '#', '$', ' ', '#'], ['#', '.', ' ', ' ', ' ', '#'], ['#', '#', '#', '#', '#', '#']]}, cost_from_start=4.0, heuristic=3.0, path='URUR'), CloseStep(action='close', state={'state': [['#', '#', '#', '#', '#', '#'], ['#', '#', ' ', '.', ' ', '#'], ['#', ' ', ' ', '$', '#', '#'], ['#', ' ', '#', '$', ' ', '#'], ['#', '.', ' ', '@', ' ', '#'], ['#', '#', '#', '#', '#', '#']]}, cost_from_start=3.0, heuristic=3.0, path='DRR'), CreateStep(action='create', state={'state': [['#', '#', '#', '#', '#', '#'], ['#', '#', ' ', '.', ' ', '#'], ['#', ' ', ' ', '$', '#', '#'], ['#', ' ', '#', '$', ' ', '#'], ['#', '.', ' ', ' ', '@', '#'], ['#', '#', '#', '#', '#', '#']]}, cost_from_start=4.0, heuristic=3.0, path='DRRR'), CloseStep(action='close', state={'state': [['#', '#', '#', '#', '#', '#'], ['#', '#', ' ', '.', ' ', '#'], ['#', ' ', ' ', '$', '#', '#'], ['#', ' ', '#', '$', ' ', '#'], ['#', '.', ' ', ' ', '@', '#'], ['#', '#', '#', '#', '#', '#']]}, cost_from_start=4.0, heuristic=3.0, path='DRRR'), CreateStep(action='create', state={'state': [['#', '#', '#', '#', '#', '#'], ['#', '#', ' ', '.', ' ', '#'], ['#', ' ', ' ', '$', '#', '#'], ['#', ' ', '#', '$', '@', '#'], ['#', '.', ' ', ' ', ' ', '#'], ['#', '#', '#', '#', '#', '#']]}, cost_from_start=5.0, heuristic=3.0, path='DRRRU'), CloseStep(action='close', state={'state': [['#', '#', '#', '#', '#', '#'], ['#', '#', ' ', '+', ' ', '#'], ['#', ' ', ' ', '$', '#', '#'], ['#', ' ', '#', '$', ' ', '#'], ['#', '.', ' ', ' ', ' ', '#'], ['#', '#', '#', '#', '#', '#']]}, cost_from_start=4.0, heuristic=3.0, path='URUR'), CreateStep(action='create', state={'state': [['#', '#', '#', '#', '#', '#'], ['#', '#', ' ', '.', '@', '#'], ['#', ' ', ' ', '$', '#', '#'], ['#', ' ', '#', '$', ' ', '#'], ['#', '.', ' ', ' ', ' ', '#'], ['#', '#', '#', '#', '#', '#']]}, cost_from_start=5.0, heuristic=3.0, path='URURR'), CloseStep(action='close', state={'state': [['#', '#', '#', '#', '#', '#'], ['#', '#', ' ', '.', ' ', '#'], ['#', ' ', ' ', '$', '#', '#'], ['#', ' ', '#', '$', '@', '#'], ['#', '.', ' ', ' ', ' ', '#'], ['#', '#', '#', '#', '#', '#']]}, cost_from_start=5.0, heuristic=3.0, path='DRRRU'), CloseStep(action='close', state={'state': [['#', '#', '#', '#', '#', '#'], ['#', '#', ' ', '.', '@', '#'], ['#', ' ', ' ', '$', '#', '#'], ['#', ' ', '#', '$', ' ', '#'], ['#', '.', ' ', ' ', ' ', '#'], ['#', '#', '#', '#', '#', '#']]}, cost_from_start=5.0, heuristic=3.0, path='URURR')]\n"
     ]
    }
   ],
   "source": [
    "print(logs)"
   ]
  },
  {
   "cell_type": "code",
   "execution_count": 10,
   "metadata": {},
   "outputs": [],
   "source": [
    "log_steps=[]\n",
    "for step in logs:\n",
    "    log_steps.append(step.to_dict())"
   ]
  },
  {
   "cell_type": "code",
   "execution_count": 11,
   "metadata": {},
   "outputs": [
    {
     "name": "stdout",
     "output_type": "stream",
     "text": [
      "[{'action': 'create', 'state': {'state': [['#', '#', '#', '#', '#', '#'], ['#', '#', ' ', '.', ' ', '#'], ['#', ' ', ' ', '$', '#', '#'], ['#', '@', '#', '$', ' ', '#'], ['#', '.', ' ', ' ', ' ', '#'], ['#', '#', '#', '#', '#', '#']]}, 'cost_from_start': 0.0, 'heuristic': 3.0, 'path': ''}, {'action': 'close', 'state': {'state': [['#', '#', '#', '#', '#', '#'], ['#', '#', ' ', '.', ' ', '#'], ['#', ' ', ' ', '$', '#', '#'], ['#', '@', '#', '$', ' ', '#'], ['#', '.', ' ', ' ', ' ', '#'], ['#', '#', '#', '#', '#', '#']]}, 'cost_from_start': 0.0, 'heuristic': 3.0, 'path': ''}, {'action': 'create', 'state': {'state': [['#', '#', '#', '#', '#', '#'], ['#', '#', ' ', '.', ' ', '#'], ['#', ' ', ' ', '$', '#', '#'], ['#', ' ', '#', '$', ' ', '#'], ['#', '+', ' ', ' ', ' ', '#'], ['#', '#', '#', '#', '#', '#']]}, 'cost_from_start': 1.0, 'heuristic': 3.0, 'path': 'D'}, {'action': 'create', 'state': {'state': [['#', '#', '#', '#', '#', '#'], ['#', '#', ' ', '.', ' ', '#'], ['#', '@', ' ', '$', '#', '#'], ['#', ' ', '#', '$', ' ', '#'], ['#', '.', ' ', ' ', ' ', '#'], ['#', '#', '#', '#', '#', '#']]}, 'cost_from_start': 1.0, 'heuristic': 3.0, 'path': 'U'}, {'action': 'close', 'state': {'state': [['#', '#', '#', '#', '#', '#'], ['#', '#', ' ', '.', ' ', '#'], ['#', '@', ' ', '$', '#', '#'], ['#', ' ', '#', '$', ' ', '#'], ['#', '.', ' ', ' ', ' ', '#'], ['#', '#', '#', '#', '#', '#']]}, 'cost_from_start': 1.0, 'heuristic': 3.0, 'path': 'U'}, {'action': 'create', 'state': {'state': [['#', '#', '#', '#', '#', '#'], ['#', '#', ' ', '.', ' ', '#'], ['#', ' ', '@', '$', '#', '#'], ['#', ' ', '#', '$', ' ', '#'], ['#', '.', ' ', ' ', ' ', '#'], ['#', '#', '#', '#', '#', '#']]}, 'cost_from_start': 2.0, 'heuristic': 3.0, 'path': 'UR'}, {'action': 'close', 'state': {'state': [['#', '#', '#', '#', '#', '#'], ['#', '#', ' ', '.', ' ', '#'], ['#', ' ', ' ', '$', '#', '#'], ['#', ' ', '#', '$', ' ', '#'], ['#', '+', ' ', ' ', ' ', '#'], ['#', '#', '#', '#', '#', '#']]}, 'cost_from_start': 1.0, 'heuristic': 3.0, 'path': 'D'}, {'action': 'create', 'state': {'state': [['#', '#', '#', '#', '#', '#'], ['#', '#', ' ', '.', ' ', '#'], ['#', ' ', ' ', '$', '#', '#'], ['#', ' ', '#', '$', ' ', '#'], ['#', '.', '@', ' ', ' ', '#'], ['#', '#', '#', '#', '#', '#']]}, 'cost_from_start': 2.0, 'heuristic': 3.0, 'path': 'DR'}, {'action': 'close', 'state': {'state': [['#', '#', '#', '#', '#', '#'], ['#', '#', ' ', '.', ' ', '#'], ['#', ' ', ' ', '$', '#', '#'], ['#', ' ', '#', '$', ' ', '#'], ['#', '.', '@', ' ', ' ', '#'], ['#', '#', '#', '#', '#', '#']]}, 'cost_from_start': 2.0, 'heuristic': 3.0, 'path': 'DR'}, {'action': 'create', 'state': {'state': [['#', '#', '#', '#', '#', '#'], ['#', '#', ' ', '.', ' ', '#'], ['#', ' ', ' ', '$', '#', '#'], ['#', ' ', '#', '$', ' ', '#'], ['#', '.', ' ', '@', ' ', '#'], ['#', '#', '#', '#', '#', '#']]}, 'cost_from_start': 3.0, 'heuristic': 3.0, 'path': 'DRR'}, {'action': 'close', 'state': {'state': [['#', '#', '#', '#', '#', '#'], ['#', '#', ' ', '.', ' ', '#'], ['#', ' ', '@', '$', '#', '#'], ['#', ' ', '#', '$', ' ', '#'], ['#', '.', ' ', ' ', ' ', '#'], ['#', '#', '#', '#', '#', '#']]}, 'cost_from_start': 2.0, 'heuristic': 3.0, 'path': 'UR'}, {'action': 'create', 'state': {'state': [['#', '#', '#', '#', '#', '#'], ['#', '#', '@', '.', ' ', '#'], ['#', ' ', ' ', '$', '#', '#'], ['#', ' ', '#', '$', ' ', '#'], ['#', '.', ' ', ' ', ' ', '#'], ['#', '#', '#', '#', '#', '#']]}, 'cost_from_start': 3.0, 'heuristic': 3.0, 'path': 'URU'}, {'action': 'close', 'state': {'state': [['#', '#', '#', '#', '#', '#'], ['#', '#', '@', '.', ' ', '#'], ['#', ' ', ' ', '$', '#', '#'], ['#', ' ', '#', '$', ' ', '#'], ['#', '.', ' ', ' ', ' ', '#'], ['#', '#', '#', '#', '#', '#']]}, 'cost_from_start': 3.0, 'heuristic': 3.0, 'path': 'URU'}, {'action': 'create', 'state': {'state': [['#', '#', '#', '#', '#', '#'], ['#', '#', ' ', '+', ' ', '#'], ['#', ' ', ' ', '$', '#', '#'], ['#', ' ', '#', '$', ' ', '#'], ['#', '.', ' ', ' ', ' ', '#'], ['#', '#', '#', '#', '#', '#']]}, 'cost_from_start': 4.0, 'heuristic': 3.0, 'path': 'URUR'}, {'action': 'close', 'state': {'state': [['#', '#', '#', '#', '#', '#'], ['#', '#', ' ', '.', ' ', '#'], ['#', ' ', ' ', '$', '#', '#'], ['#', ' ', '#', '$', ' ', '#'], ['#', '.', ' ', '@', ' ', '#'], ['#', '#', '#', '#', '#', '#']]}, 'cost_from_start': 3.0, 'heuristic': 3.0, 'path': 'DRR'}, {'action': 'create', 'state': {'state': [['#', '#', '#', '#', '#', '#'], ['#', '#', ' ', '.', ' ', '#'], ['#', ' ', ' ', '$', '#', '#'], ['#', ' ', '#', '$', ' ', '#'], ['#', '.', ' ', ' ', '@', '#'], ['#', '#', '#', '#', '#', '#']]}, 'cost_from_start': 4.0, 'heuristic': 3.0, 'path': 'DRRR'}, {'action': 'close', 'state': {'state': [['#', '#', '#', '#', '#', '#'], ['#', '#', ' ', '.', ' ', '#'], ['#', ' ', ' ', '$', '#', '#'], ['#', ' ', '#', '$', ' ', '#'], ['#', '.', ' ', ' ', '@', '#'], ['#', '#', '#', '#', '#', '#']]}, 'cost_from_start': 4.0, 'heuristic': 3.0, 'path': 'DRRR'}, {'action': 'create', 'state': {'state': [['#', '#', '#', '#', '#', '#'], ['#', '#', ' ', '.', ' ', '#'], ['#', ' ', ' ', '$', '#', '#'], ['#', ' ', '#', '$', '@', '#'], ['#', '.', ' ', ' ', ' ', '#'], ['#', '#', '#', '#', '#', '#']]}, 'cost_from_start': 5.0, 'heuristic': 3.0, 'path': 'DRRRU'}, {'action': 'close', 'state': {'state': [['#', '#', '#', '#', '#', '#'], ['#', '#', ' ', '+', ' ', '#'], ['#', ' ', ' ', '$', '#', '#'], ['#', ' ', '#', '$', ' ', '#'], ['#', '.', ' ', ' ', ' ', '#'], ['#', '#', '#', '#', '#', '#']]}, 'cost_from_start': 4.0, 'heuristic': 3.0, 'path': 'URUR'}, {'action': 'create', 'state': {'state': [['#', '#', '#', '#', '#', '#'], ['#', '#', ' ', '.', '@', '#'], ['#', ' ', ' ', '$', '#', '#'], ['#', ' ', '#', '$', ' ', '#'], ['#', '.', ' ', ' ', ' ', '#'], ['#', '#', '#', '#', '#', '#']]}, 'cost_from_start': 5.0, 'heuristic': 3.0, 'path': 'URURR'}, {'action': 'close', 'state': {'state': [['#', '#', '#', '#', '#', '#'], ['#', '#', ' ', '.', ' ', '#'], ['#', ' ', ' ', '$', '#', '#'], ['#', ' ', '#', '$', '@', '#'], ['#', '.', ' ', ' ', ' ', '#'], ['#', '#', '#', '#', '#', '#']]}, 'cost_from_start': 5.0, 'heuristic': 3.0, 'path': 'DRRRU'}, {'action': 'close', 'state': {'state': [['#', '#', '#', '#', '#', '#'], ['#', '#', ' ', '.', '@', '#'], ['#', ' ', ' ', '$', '#', '#'], ['#', ' ', '#', '$', ' ', '#'], ['#', '.', ' ', ' ', ' ', '#'], ['#', '#', '#', '#', '#', '#']]}, 'cost_from_start': 5.0, 'heuristic': 3.0, 'path': 'URURR'}]\n"
     ]
    }
   ],
   "source": [
    "print(log_steps)"
   ]
  },
  {
   "cell_type": "code",
   "execution_count": 4,
   "metadata": {},
   "outputs": [],
   "source": [
    "with_box_sokoban_tokenizer=WithBoxSokobanTokenizer(width=6,height=6)"
   ]
  },
  {
   "cell_type": "code",
   "execution_count": 5,
   "metadata": {},
   "outputs": [],
   "source": [
    "import os   \n",
    "import json"
   ]
  },
  {
   "cell_type": "code",
   "execution_count": 6,
   "metadata": {},
   "outputs": [
    {
     "name": "stdout",
     "output_type": "stream",
     "text": [
      "['message.txt', 'message10.txt', 'message2.txt', 'message3.txt', 'message4.txt', 'message5.txt', 'message6.txt', 'message7.txt', 'message8.txt', 'message9.txt']\n"
     ]
    }
   ],
   "source": [
    "files=os.listdir(\"/mnt/d/work/searchformer/sokoban_traces_6x6\")\n",
    "print(files)"
   ]
  },
  {
   "cell_type": "code",
   "execution_count": 8,
   "metadata": {},
   "outputs": [
    {
     "name": "stdout",
     "output_type": "stream",
     "text": [
      "{'sokoban_start': [['#', '#', '#', '#', '#', '#'], ['#', '#', '#', ' ', ' ', '#'], ['#', '.', '$', ' ', '@', '#'], ['#', ' ', '$', ' ', ' ', '#'], ['#', ' ', '.', ' ', ' ', '#'], ['#', '#', '#', '#', '#', '#']], 'trace': [{'action': 'create', 'state': {'state': [['#', '#', '#', '#', '#', '#'], ['#', '#', '#', ' ', ' ', '#'], ['#', '.', '$', ' ', '@', '#'], ['#', ' ', '$', ' ', ' ', '#'], ['#', ' ', '.', ' ', ' ', '#'], ['#', '#', '#', '#', '#', '#']]}, 'cost_from_start': 0.0, 'heuristic': 2.0, 'path': ''}, {'action': 'close', 'state': {'state': [['#', '#', '#', '#', '#', '#'], ['#', '#', '#', ' ', ' ', '#'], ['#', '.', '$', ' ', '@', '#'], ['#', ' ', '$', ' ', ' ', '#'], ['#', ' ', '.', ' ', ' ', '#'], ['#', '#', '#', '#', '#', '#']]}, 'cost_from_start': 0.0, 'heuristic': 2.0, 'path': ''}, {'action': 'create', 'state': {'state': [['#', '#', '#', '#', '#', '#'], ['#', '#', '#', ' ', '@', '#'], ['#', '.', '$', ' ', ' ', '#'], ['#', ' ', '$', ' ', ' ', '#'], ['#', ' ', '.', ' ', ' ', '#'], ['#', '#', '#', '#', '#', '#']]}, 'cost_from_start': 1.0, 'heuristic': 2.0, 'path': 'U'}, {'action': 'create', 'state': {'state': [['#', '#', '#', '#', '#', '#'], ['#', '#', '#', ' ', ' ', '#'], ['#', '.', '$', ' ', ' ', '#'], ['#', ' ', '$', ' ', '@', '#'], ['#', ' ', '.', ' ', ' ', '#'], ['#', '#', '#', '#', '#', '#']]}, 'cost_from_start': 1.0, 'heuristic': 2.0, 'path': 'D'}, {'action': 'create', 'state': {'state': [['#', '#', '#', '#', '#', '#'], ['#', '#', '#', ' ', ' ', '#'], ['#', '.', '$', '@', ' ', '#'], ['#', ' ', '$', ' ', ' ', '#'], ['#', ' ', '.', ' ', ' ', '#'], ['#', '#', '#', '#', '#', '#']]}, 'cost_from_start': 1.0, 'heuristic': 2.0, 'path': 'L'}, {'action': 'close', 'state': {'state': [['#', '#', '#', '#', '#', '#'], ['#', '#', '#', ' ', '@', '#'], ['#', '.', '$', ' ', ' ', '#'], ['#', ' ', '$', ' ', ' ', '#'], ['#', ' ', '.', ' ', ' ', '#'], ['#', '#', '#', '#', '#', '#']]}, 'cost_from_start': 1.0, 'heuristic': 2.0, 'path': 'U'}, {'action': 'create', 'state': {'state': [['#', '#', '#', '#', '#', '#'], ['#', '#', '#', '@', ' ', '#'], ['#', '.', '$', ' ', ' ', '#'], ['#', ' ', '$', ' ', ' ', '#'], ['#', ' ', '.', ' ', ' ', '#'], ['#', '#', '#', '#', '#', '#']]}, 'cost_from_start': 2.0, 'heuristic': 2.0, 'path': 'UL'}, {'action': 'close', 'state': {'state': [['#', '#', '#', '#', '#', '#'], ['#', '#', '#', ' ', ' ', '#'], ['#', '.', '$', '@', ' ', '#'], ['#', ' ', '$', ' ', ' ', '#'], ['#', ' ', '.', ' ', ' ', '#'], ['#', '#', '#', '#', '#', '#']]}, 'cost_from_start': 1.0, 'heuristic': 2.0, 'path': 'L'}, {'action': 'create', 'state': {'state': [['#', '#', '#', '#', '#', '#'], ['#', '#', '#', ' ', ' ', '#'], ['#', '.', '$', ' ', ' ', '#'], ['#', ' ', '$', '@', ' ', '#'], ['#', ' ', '.', ' ', ' ', '#'], ['#', '#', '#', '#', '#', '#']]}, 'cost_from_start': 2.0, 'heuristic': 2.0, 'path': 'LD'}, {'action': 'create', 'state': {'state': [['#', '#', '#', '#', '#', '#'], ['#', '#', '#', ' ', ' ', '#'], ['#', '*', '@', ' ', ' ', '#'], ['#', ' ', '$', ' ', ' ', '#'], ['#', ' ', '.', ' ', ' ', '#'], ['#', '#', '#', '#', '#', '#']]}, 'cost_from_start': 2.0, 'heuristic': 1.0, 'path': 'LL'}, {'action': 'close', 'state': {'state': [['#', '#', '#', '#', '#', '#'], ['#', '#', '#', ' ', ' ', '#'], ['#', '.', '$', ' ', ' ', '#'], ['#', ' ', '$', ' ', '@', '#'], ['#', ' ', '.', ' ', ' ', '#'], ['#', '#', '#', '#', '#', '#']]}, 'cost_from_start': 1.0, 'heuristic': 2.0, 'path': 'D'}, {'action': 'create', 'state': {'state': [['#', '#', '#', '#', '#', '#'], ['#', '#', '#', ' ', ' ', '#'], ['#', '.', '$', ' ', ' ', '#'], ['#', ' ', '$', ' ', ' ', '#'], ['#', ' ', '.', ' ', '@', '#'], ['#', '#', '#', '#', '#', '#']]}, 'cost_from_start': 2.0, 'heuristic': 2.0, 'path': 'DD'}, {'action': 'close', 'state': {'state': [['#', '#', '#', '#', '#', '#'], ['#', '#', '#', ' ', ' ', '#'], ['#', '*', '@', ' ', ' ', '#'], ['#', ' ', '$', ' ', ' ', '#'], ['#', ' ', '.', ' ', ' ', '#'], ['#', '#', '#', '#', '#', '#']]}, 'cost_from_start': 2.0, 'heuristic': 1.0, 'path': 'LL'}, {'action': 'create', 'state': {'state': [['#', '#', '#', '#', '#', '#'], ['#', '#', '#', ' ', ' ', '#'], ['#', '*', ' ', '@', ' ', '#'], ['#', ' ', '$', ' ', ' ', '#'], ['#', ' ', '.', ' ', ' ', '#'], ['#', '#', '#', '#', '#', '#']]}, 'cost_from_start': 3.0, 'heuristic': 1.0, 'path': 'LLR'}, {'action': 'create', 'state': {'state': [['#', '#', '#', '#', '#', '#'], ['#', '#', '#', ' ', ' ', '#'], ['#', '*', ' ', ' ', ' ', '#'], ['#', ' ', '@', ' ', ' ', '#'], ['#', ' ', '*', ' ', ' ', '#'], ['#', '#', '#', '#', '#', '#']]}, 'cost_from_start': 3.0, 'heuristic': 0, 'path': 'LLD'}, {'action': 'close', 'state': {'state': [['#', '#', '#', '#', '#', '#'], ['#', '#', '#', ' ', ' ', '#'], ['#', '*', ' ', ' ', ' ', '#'], ['#', ' ', '@', ' ', ' ', '#'], ['#', ' ', '*', ' ', ' ', '#'], ['#', '#', '#', '#', '#', '#']]}, 'cost_from_start': 3.0, 'heuristic': 0, 'path': 'LLD'}, {'action': 'plan', 'state': {'state': [['#', '#', '#', '#', '#', '#'], ['#', '#', '#', ' ', ' ', '#'], ['#', '.', '$', ' ', '@', '#'], ['#', ' ', '$', ' ', ' ', '#'], ['#', ' ', '.', ' ', ' ', '#'], ['#', '#', '#', '#', '#', '#']]}, 'cost_from_start': 0.0, 'heuristic': 2.0, 'path': ''}, {'action': 'plan', 'state': {'state': [['#', '#', '#', '#', '#', '#'], ['#', '#', '#', ' ', ' ', '#'], ['#', '.', '$', '@', ' ', '#'], ['#', ' ', '$', ' ', ' ', '#'], ['#', ' ', '.', ' ', ' ', '#'], ['#', '#', '#', '#', '#', '#']]}, 'cost_from_start': 1.0, 'heuristic': 2.0, 'path': 'L'}, {'action': 'plan', 'state': {'state': [['#', '#', '#', '#', '#', '#'], ['#', '#', '#', ' ', ' ', '#'], ['#', '*', '@', ' ', ' ', '#'], ['#', ' ', '$', ' ', ' ', '#'], ['#', ' ', '.', ' ', ' ', '#'], ['#', '#', '#', '#', '#', '#']]}, 'cost_from_start': 2.0, 'heuristic': 1.0, 'path': 'LL'}, {'action': 'plan', 'state': {'state': [['#', '#', '#', '#', '#', '#'], ['#', '#', '#', ' ', ' ', '#'], ['#', '*', ' ', ' ', ' ', '#'], ['#', ' ', '@', ' ', ' ', '#'], ['#', ' ', '*', ' ', ' ', '#'], ['#', '#', '#', '#', '#', '#']]}, 'cost_from_start': 3.0, 'heuristic': 0, 'path': 'LLD'}]}\n"
     ]
    }
   ],
   "source": [
    "with open(f\"/mnt/d/work/searchformer/sokoban_traces_6x6/{files[0]}\",'r') as f:\n",
    "    trace1=json.loads(f.read().replace(\"'\",'\"'))\n",
    "print(trace1)"
   ]
  },
  {
   "cell_type": "code",
   "execution_count": null,
   "metadata": {},
   "outputs": [],
   "source": [
    "tokens=with_box_sokoban_tokenizer.tokenize(trace=)"
   ]
  }
 ],
 "metadata": {
  "kernelspec": {
   "display_name": "Python 3",
   "language": "python",
   "name": "python3"
  },
  "language_info": {
   "codemirror_mode": {
    "name": "ipython",
    "version": 3
   },
   "file_extension": ".py",
   "mimetype": "text/x-python",
   "name": "python",
   "nbconvert_exporter": "python",
   "pygments_lexer": "ipython3",
   "version": "3.10.0"
  }
 },
 "nbformat": 4,
 "nbformat_minor": 2
}
