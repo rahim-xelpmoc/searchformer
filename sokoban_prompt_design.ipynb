{
 "cells": [
  {
   "cell_type": "code",
   "execution_count": 1,
   "id": "8acb355b",
   "metadata": {},
   "outputs": [],
   "source": [
    "import sys\n",
    "sys.path.append(\"/mnt/d/work/searchformer/searchformer/\")"
   ]
  },
  {
   "cell_type": "code",
   "execution_count": 2,
   "id": "5754b175",
   "metadata": {},
   "outputs": [],
   "source": [
    "messages=[]"
   ]
  },
  {
   "cell_type": "code",
   "execution_count": 3,
   "id": "20923370",
   "metadata": {},
   "outputs": [],
   "source": [
    "initial_board=\"\"\"\n",
    "######\n",
    "##.  #\n",
    "#.$$ #\n",
    "# @# #\n",
    "##   #\n",
    "######\n",
    "path: \n",
    "cost from start: 0.0\n",
    "heuristic: 3.0\"\"\""
   ]
  },
  {
   "cell_type": "code",
   "execution_count": 4,
   "id": "6a1f1c88",
   "metadata": {},
   "outputs": [],
   "source": [
    "messages.append({\"role\":\"user\",\"content\":initial_board})"
   ]
  },
  {
   "cell_type": "code",
   "execution_count": 5,
   "id": "75330692",
   "metadata": {},
   "outputs": [],
   "source": [
    "asst_msg1=\"\"\"currently min heap is empty\n",
    "current state:\n",
    "######\n",
    "##.  #\n",
    "#.$$ #\n",
    "# @# #\n",
    "##   #\n",
    "######\n",
    "path: \n",
    "cost from start: 0.0\n",
    "heuristic: 3.0\n",
    "pushing root state to the heap\n",
    "Action: push_heap(path='')\n",
    "\"\"\"\n",
    "user_msg1=\"\"\"\n",
    "root node added to the min heap.\n",
    "\"\"\""
   ]
  },
  {
   "cell_type": "code",
   "execution_count": 6,
   "id": "2b395319",
   "metadata": {},
   "outputs": [],
   "source": [
    "messages.append({\"role\":\"assistant\",\"content\":asst_msg1})\n",
    "messages.append({\"role\":\"user\",\"content\":user_msg1})"
   ]
  },
  {
   "cell_type": "code",
   "execution_count": 7,
   "id": "ed4e426a",
   "metadata": {},
   "outputs": [],
   "source": [
    "asst_msg2=\"\"\"initializing search\n",
    "fetch node from the min heap\n",
    "Action: fetch_node()\n",
    "\"\"\"\n",
    "user_msg2=\"\"\"current state:\n",
    "######\n",
    "##.  #\n",
    "#.$$ #\n",
    "# @# #\n",
    "##   #\n",
    "######\n",
    "path: \n",
    "cost from start: 0.0\n",
    "heuristic: 3.0\"\"\""
   ]
  },
  {
   "cell_type": "code",
   "execution_count": 8,
   "id": "1e61cdac",
   "metadata": {},
   "outputs": [],
   "source": [
    "messages.append({\"role\":\"assistant\",\"content\":asst_msg2})\n",
    "messages.append({\"role\":\"user\",\"content\":user_msg2})"
   ]
  },
  {
   "cell_type": "code",
   "execution_count": 9,
   "id": "3734feb7",
   "metadata": {},
   "outputs": [],
   "source": [
    "asst_msg3=\"\"\"exploring child nodes\n",
    "current child:\n",
    "path: U\n",
    "Action : push_heap(path='U')\n",
    "\"\"\"\n",
    "user_msg3=\"\"\"cost from start: 1.0\n",
    "heuristic: 2.0\n",
    "adding child node to the heap\"\"\""
   ]
  },
  {
   "cell_type": "code",
   "execution_count": 10,
   "id": "f54f6e54",
   "metadata": {},
   "outputs": [],
   "source": [
    "messages.append({\"role\":\"assistent\",\"content\":asst_msg3})\n",
    "messages.append({\"role\":\"user\",\"content\":user_msg3})"
   ]
  },
  {
   "cell_type": "code",
   "execution_count": 11,
   "id": "b4294164",
   "metadata": {},
   "outputs": [],
   "source": [
    "asst_msg4=\"\"\"\"current child:\n",
    "path: D\n",
    "Action : push_heap(path='D')\n",
    "\"\"\"\n",
    "user_msg4=\"\"\"cost from start: 1.0\n",
    "heuristic: 3.0\n",
    "adding child node to the heap\"\"\""
   ]
  },
  {
   "cell_type": "code",
   "execution_count": 12,
   "id": "f06f2ec0",
   "metadata": {},
   "outputs": [],
   "source": [
    "messages.append({\"role\":\"assistent\",\"content\":asst_msg4})\n",
    "messages.append({\"role\":\"user\",\"content\":user_msg4})"
   ]
  },
  {
   "cell_type": "code",
   "execution_count": 13,
   "id": "5f9b2a73",
   "metadata": {},
   "outputs": [],
   "source": [
    "asst_msg5=\"\"\"current child:\n",
    "path: L\n",
    "Action : push_heap(path='L')\"\"\"\n",
    "user_msg5=\"\"\"cost from start: 1.0\n",
    "heuristic: 3.0\n",
    "adding child node to the heap\"\"\""
   ]
  },
  {
   "cell_type": "code",
   "execution_count": 14,
   "id": "26536d5a",
   "metadata": {},
   "outputs": [],
   "source": [
    "messages.append({\"role\":\"assistent\",\"content\":asst_msg5})\n",
    "messages.append({\"role\":\"user\",\"content\":user_msg5})"
   ]
  },
  {
   "cell_type": "code",
   "execution_count": 15,
   "id": "94490490",
   "metadata": {},
   "outputs": [],
   "source": [
    "asst_msg6=\"\"\"fetch node from the min heap\n",
    "Action: fetch_node()\"\"\"\n",
    "user_msg6=\"\"\"current state:\n",
    "######\n",
    "##*  #\n",
    "#.@$ #\n",
    "#  # #\n",
    "##   #\n",
    "######\n",
    "path: U\n",
    "cost from start: 1.0\n",
    "heuristic: 2.0\"\"\""
   ]
  },
  {
   "cell_type": "code",
   "execution_count": 16,
   "id": "871070dd",
   "metadata": {},
   "outputs": [],
   "source": [
    "messages.append({\"role\":\"assistant\",\"content\":asst_msg6})\n",
    "messages.append({\"role\":\"user\",\"content\":user_msg6})"
   ]
  },
  {
   "cell_type": "code",
   "execution_count": 17,
   "id": "feb5483c",
   "metadata": {},
   "outputs": [],
   "source": [
    "asst_msg7=\"\"\"exploring child nodes\n",
    "current child:\n",
    "path: UD\n",
    "Action : push_heap(path='UD')\n",
    "\"\"\"\n",
    "user_msg7=\"\"\"cost from start: 2.0\n",
    "heuristic: 2.0\n",
    "adding child node to the heap\"\"\""
   ]
  },
  {
   "cell_type": "code",
   "execution_count": 18,
   "id": "d1c0ac68",
   "metadata": {},
   "outputs": [],
   "source": [
    "messages.append({\"role\":\"assistant\",\"content\":asst_msg7})\n",
    "messages.append({\"role\":\"user\",\"content\":user_msg7})"
   ]
  },
  {
   "cell_type": "code",
   "execution_count": 19,
   "id": "c93701b8",
   "metadata": {},
   "outputs": [],
   "source": [
    "asst_msg8=\"\"\"current child:\n",
    "path: UL\n",
    "Action: push_heap(path='UL')\n",
    "\"\"\"\n",
    "user_msg8=\"\"\"cost from start: 2.0\n",
    "heuristic: 2.0\n",
    "adding child node to the heap\n",
    "\"\"\""
   ]
  },
  {
   "cell_type": "code",
   "execution_count": 20,
   "id": "29e29a3e",
   "metadata": {},
   "outputs": [],
   "source": [
    "messages.append({\"role\":\"assistant\",\"content\":asst_msg8})\n",
    "messages.append({\"role\":\"user\",\"content\":user_msg8})"
   ]
  },
  {
   "cell_type": "code",
   "execution_count": 21,
   "id": "f69be97a",
   "metadata": {},
   "outputs": [],
   "source": [
    "asst_msg9=\"\"\"current child:\n",
    "path: UR\n",
    "Action: push_heap(path='UR')\n",
    "\"\"\"\n",
    "user_msg9=\"\"\"cost from start: 2.0\n",
    "heuristic: 3.0\n",
    "adding child node to the heap\"\"\""
   ]
  },
  {
   "cell_type": "code",
   "execution_count": 22,
   "id": "99028579",
   "metadata": {},
   "outputs": [],
   "source": [
    "messages.append({\"role\":\"assistant\",\"content\":asst_msg9})\n",
    "messages.append({\"role\":\"user\",\"content\":user_msg9})"
   ]
  },
  {
   "cell_type": "code",
   "execution_count": 23,
   "id": "e0e110be",
   "metadata": {},
   "outputs": [],
   "source": [
    "asst_msg10=\"\"\"fetch node from the min heap\n",
    "Action: fetch_node()\"\"\"\n",
    "user_msg10=\"\"\"current state:\n",
    "######\n",
    "##*  #\n",
    "#. $ #\n",
    "# @# #\n",
    "##   #\n",
    "######\n",
    "path: UD\n",
    "cost from start: 2.0\n",
    "heuristic: 2.0\"\"\""
   ]
  },
  {
   "cell_type": "code",
   "execution_count": 24,
   "id": "4412681f",
   "metadata": {},
   "outputs": [],
   "source": [
    "messages.append({\"role\":\"assistant\",\"content\":asst_msg10})\n",
    "messages.append({\"role\":\"user\",\"content\":user_msg10})"
   ]
  },
  {
   "cell_type": "code",
   "execution_count": 25,
   "id": "eb098628",
   "metadata": {},
   "outputs": [],
   "source": [
    "asst_msg11=\"\"\"exploring child nodes\n",
    "current child:\n",
    "path: UDD\n",
    "Action: push_heap(path='UUD')\"\"\"\n",
    "user_msg11=\"\"\"cost from start: 3.0\n",
    "heuristic: 2.0\n",
    "adding child node to the heap\"\"\""
   ]
  },
  {
   "cell_type": "code",
   "execution_count": 26,
   "id": "b6bb9095",
   "metadata": {},
   "outputs": [],
   "source": [
    "messages.append({\"role\":\"assistant\",\"content\":asst_msg11})\n",
    "messages.append({\"role\":\"user\",\"content\":user_msg11})"
   ]
  },
  {
   "cell_type": "code",
   "execution_count": 27,
   "id": "293eff74",
   "metadata": {},
   "outputs": [],
   "source": [
    "asst_msg12=\"\"\"current child:\n",
    "path: UDL\n",
    "Action: push_heap(path='UDL')\"\"\"\n",
    "user_msg12=\"\"\"cost from start: 3.0\n",
    "heuristic: 2.0\n",
    "adding child node to the heap\n",
    "\"\"\""
   ]
  },
  {
   "cell_type": "code",
   "execution_count": 28,
   "id": "da9a5234",
   "metadata": {},
   "outputs": [],
   "source": [
    "messages.append({\"role\":\"assistant\",\"content\":asst_msg12})\n",
    "messages.append({\"role\":\"user\",\"content\":user_msg12})"
   ]
  },
  {
   "cell_type": "code",
   "execution_count": 29,
   "id": "3fb8a575",
   "metadata": {},
   "outputs": [],
   "source": [
    "asst_msg13=\"\"\"fetch node from the min heap\n",
    "Action: fetch_node()\"\"\"\n",
    "user_msg13=\"\"\"current state:\n",
    "######\n",
    "##*  #\n",
    "#+ $ #\n",
    "#  # #\n",
    "##   #\n",
    "######\n",
    "path: UL\n",
    "cost from start: 2.0\n",
    "heuristic: 2.0\"\"\""
   ]
  },
  {
   "cell_type": "code",
   "execution_count": null,
   "id": "6d452e26",
   "metadata": {},
   "outputs": [],
   "source": [
    "messages.append({\"role\":\"assistant\",\"content\":asst_msg13})\n",
    "messages.append({\"role\":\"user\",\"content\":})"
   ]
  },
  {
   "cell_type": "code",
   "execution_count": null,
   "id": "57961706",
   "metadata": {},
   "outputs": [],
   "source": []
  },
  {
   "cell_type": "code",
   "execution_count": null,
   "id": "052493e2",
   "metadata": {},
   "outputs": [],
   "source": []
  },
  {
   "cell_type": "code",
   "execution_count": null,
   "id": "424a01ea",
   "metadata": {},
   "outputs": [],
   "source": []
  },
  {
   "cell_type": "code",
   "execution_count": null,
   "id": "d24f67aa",
   "metadata": {},
   "outputs": [],
   "source": []
  },
  {
   "cell_type": "code",
   "execution_count": null,
   "id": "bd7c9bd4",
   "metadata": {},
   "outputs": [],
   "source": []
  },
  {
   "cell_type": "code",
   "execution_count": null,
   "id": "9c38edb1",
   "metadata": {},
   "outputs": [],
   "source": []
  },
  {
   "cell_type": "code",
   "execution_count": null,
   "id": "7fe0824c",
   "metadata": {},
   "outputs": [],
   "source": []
  },
  {
   "cell_type": "code",
   "execution_count": null,
   "id": "30563808",
   "metadata": {},
   "outputs": [],
   "source": []
  },
  {
   "cell_type": "code",
   "execution_count": null,
   "id": "9a972310",
   "metadata": {},
   "outputs": [],
   "source": []
  },
  {
   "cell_type": "code",
   "execution_count": null,
   "id": "ffccabe8",
   "metadata": {},
   "outputs": [],
   "source": []
  },
  {
   "cell_type": "code",
   "execution_count": 19,
   "id": "a17864d6",
   "metadata": {},
   "outputs": [
    {
     "name": "stdout",
     "output_type": "stream",
     "text": [
      "[{'role': 'user', 'content': '\\n######\\n##.  #\\n#.$$ #\\n# @# #\\n##   #\\n######\\npath: \\ncost from start: \\n0.0\\nheuristic: \\n3.0'}, {'role': 'assistant', 'content': \"currently min heap is empty\\ncurrent state:\\n######\\n##.  #\\n#.$$ #\\n# @# #\\n##   #\\n######\\npath: \\ncost from start: \\n0.0\\nheuristic: \\n3.0\\npushing root state to the heap\\nAction: push_heap(path='')\\n\"}, {'role': 'user', 'content': '\\nroot node added to the min heap.\\n'}, {'role': 'assistant', 'content': 'initializing search\\nfetch node from the min heap\\nAction: fetch_node()\\n'}, {'role': 'user', 'content': 'current state:\\n######\\n##.  #\\n#.$$ #\\n# @# #\\n##   #\\n######\\npath: \\ncost from start: \\n0.0\\nheuristic: \\n3.0'}, {'role': 'assistent', 'content': 'exploring child nodes\\ncurrent child:\\npath:\\nU\\ncost from start: \\n'}, {'role': 'user', 'content': '1.0\\nheuristic:\\n2.0\\nadding child node to the heap'}, {'role': 'assistent', 'content': '\"current child:\\npath: \\nD\\ncost from start:\\n'}, {'role': 'user', 'content': '1.0\\nheuristic: \\n3.0\\nadding child node to the heap'}, {'role': 'assistent', 'content': 'current child:\\npath: \\nL\\ncost from start:'}, {'role': 'user', 'content': '1.0\\nheuristic: \\n3.0\\nadding child node to the heap'}, {'role': 'assistant', 'content': 'fetch node from the min heap\\nAction: fetch_node()'}, {'role': 'user', 'content': 'current state:\\n######\\n##*  #\\n#.@$ #\\n#  # #\\n##   #\\n######\\npath: \\nU\\ncost from start: \\n1.0\\nheuristic: \\n2.0'}, {'role': 'assistant', 'content': 'exploring child nodes\\ncurrent child:\\npath: \\nUD\\ncost from start: \\n'}, {'role': 'user', 'content': '2.0\\nheuristic: \\n2.0\\nadding child node to the heap'}]\n"
     ]
    }
   ],
   "source": [
    "print(messages)"
   ]
  },
  {
   "cell_type": "code",
   "execution_count": 39,
   "id": "c2dd6523",
   "metadata": {},
   "outputs": [],
   "source": [
    "from searchformer.sokoban import Sokoban,AStarSokobanState\n",
    "from openai import OpenAI\n",
    "from typing import Dict,List,Optional"
   ]
  },
  {
   "cell_type": "code",
   "execution_count": null,
   "id": "ae4aa627",
   "metadata": {},
   "outputs": [],
   "source": []
  },
  {
   "cell_type": "code",
   "execution_count": 21,
   "id": "1c9acd1f",
   "metadata": {},
   "outputs": [],
   "source": [
    "! export OPENAI_API_KEY=\"API_KEY\""
   ]
  },
  {
   "cell_type": "code",
   "execution_count": 23,
   "id": "a35a81df",
   "metadata": {},
   "outputs": [],
   "source": [
    "client=OpenAI(api_key=\"API_KEY\")"
   ]
  },
  {
   "cell_type": "code",
   "execution_count": 24,
   "id": "628adfda",
   "metadata": {},
   "outputs": [
    {
     "name": "stdout",
     "output_type": "stream",
     "text": [
      "[['#', '#', '#', '#', '#', '#'], ['#', '#', '.', ' ', ' ', '#'], ['#', '.', '$', '$', ' ', '#'], ['#', ' ', '@', '#', ' ', '#'], ['#', '#', ' ', ' ', ' ', '#'], ['#', '#', '#', '#', '#', '#']]\n"
     ]
    }
   ],
   "source": [
    "state=\"\"\"######\n",
    "##.  #\n",
    "#.$$ #\n",
    "# @# #\n",
    "##   #\n",
    "######\"\"\"\n",
    "state=state.split('\\n')\n",
    "state=[list(line) for line in state]\n",
    "print(state)"
   ]
  },
  {
   "cell_type": "code",
   "execution_count": null,
   "id": "159d399f",
   "metadata": {},
   "outputs": [],
   "source": [
    "sokoban=Sokoban(state=state) #type:ignore"
   ]
  },
  {
   "cell_type": "code",
   "execution_count": 26,
   "id": "7d7ed29e",
   "metadata": {},
   "outputs": [
    {
     "data": {
      "text/plain": [
       "[['#', '#', '#', '#', '#', '#'],\n",
       " ['#', '#', '.', ' ', ' ', '#'],\n",
       " ['#', '.', '$', '$', ' ', '#'],\n",
       " ['#', ' ', '@', '#', ' ', '#'],\n",
       " ['#', '#', ' ', ' ', ' ', '#'],\n",
       " ['#', '#', '#', '#', '#', '#']]"
      ]
     },
     "execution_count": 26,
     "metadata": {},
     "output_type": "execute_result"
    }
   ],
   "source": [
    "sokoban.state"
   ]
  },
  {
   "cell_type": "code",
   "execution_count": 27,
   "id": "64322749",
   "metadata": {},
   "outputs": [],
   "source": [
    "astar_sokoban_state=AStarSokobanState(sokoban=sokoban)"
   ]
  },
  {
   "cell_type": "code",
   "execution_count": 28,
   "id": "3ff85391",
   "metadata": {},
   "outputs": [
    {
     "data": {
      "text/plain": [
       "3.0"
      ]
     },
     "execution_count": 28,
     "metadata": {},
     "output_type": "execute_result"
    }
   ],
   "source": [
    "astar_sokoban_state.cost"
   ]
  },
  {
   "cell_type": "code",
   "execution_count": 29,
   "id": "597e35d2",
   "metadata": {},
   "outputs": [
    {
     "data": {
      "text/plain": [
       "3.0"
      ]
     },
     "execution_count": 29,
     "metadata": {},
     "output_type": "execute_result"
    }
   ],
   "source": [
    "astar_sokoban_state.heuristic"
   ]
  },
  {
   "cell_type": "code",
   "execution_count": 30,
   "id": "ccba5c76",
   "metadata": {},
   "outputs": [
    {
     "data": {
      "text/plain": [
       "0.0"
      ]
     },
     "execution_count": 30,
     "metadata": {},
     "output_type": "execute_result"
    }
   ],
   "source": [
    "astar_sokoban_state.cost_from_start"
   ]
  },
  {
   "cell_type": "code",
   "execution_count": 31,
   "id": "4473fd05",
   "metadata": {},
   "outputs": [
    {
     "data": {
      "text/plain": [
       "{'state': [['#', '#', '#', '#', '#', '#'],\n",
       "  ['#', '#', '*', ' ', ' ', '#'],\n",
       "  ['#', '.', '@', '$', ' ', '#'],\n",
       "  ['#', ' ', ' ', '#', ' ', '#'],\n",
       "  ['#', '#', ' ', ' ', ' ', '#'],\n",
       "  ['#', '#', '#', '#', '#', '#']]}"
      ]
     },
     "execution_count": 31,
     "metadata": {},
     "output_type": "execute_result"
    }
   ],
   "source": [
    "astar_sokoban_state.children[0].state"
   ]
  },
  {
   "cell_type": "code",
   "execution_count": 32,
   "id": "5459af8b",
   "metadata": {},
   "outputs": [
    {
     "data": {
      "text/plain": [
       "3.0"
      ]
     },
     "execution_count": 32,
     "metadata": {},
     "output_type": "execute_result"
    }
   ],
   "source": [
    "astar_sokoban_state.children[0].cost"
   ]
  },
  {
   "cell_type": "code",
   "execution_count": 33,
   "id": "5782f0a0",
   "metadata": {},
   "outputs": [
    {
     "data": {
      "text/plain": [
       "'U'"
      ]
     },
     "execution_count": 33,
     "metadata": {},
     "output_type": "execute_result"
    }
   ],
   "source": [
    "astar_sokoban_state.children[0].path"
   ]
  },
  {
   "cell_type": "code",
   "execution_count": 34,
   "id": "6916f099",
   "metadata": {},
   "outputs": [],
   "source": [
    "astar_sokoban_state.sokoban.move_up()"
   ]
  },
  {
   "cell_type": "code",
   "execution_count": 35,
   "id": "b3f90dd5",
   "metadata": {},
   "outputs": [
    {
     "data": {
      "text/plain": [
       "{'state': [['#', '#', '#', '#', '#', '#'],\n",
       "  ['#', '#', '*', ' ', ' ', '#'],\n",
       "  ['#', '.', '@', '$', ' ', '#'],\n",
       "  ['#', ' ', ' ', '#', ' ', '#'],\n",
       "  ['#', '#', ' ', ' ', ' ', '#'],\n",
       "  ['#', '#', '#', '#', '#', '#']]}"
      ]
     },
     "execution_count": 35,
     "metadata": {},
     "output_type": "execute_result"
    }
   ],
   "source": [
    "astar_sokoban_state.state"
   ]
  },
  {
   "cell_type": "code",
   "execution_count": null,
   "id": "600b70d3",
   "metadata": {},
   "outputs": [],
   "source": [
    "class FewShotSokoban:\n",
    "    def __init__(self,\n",
    "                 client:OpenAI,\n",
    "                 model:str,\n",
    "                 messages:List[Dict],\n",
    "                 stop_string=\"cost_from_start\"\n",
    "                 ):\n",
    "        self.messages=messages\n",
    "        self.client=client\n",
    "        self.model=model\n",
    "        self.initial_state=None\n",
    "        self.sokoban=None \n",
    "        self.astar_sokoban_state=None\n",
    "        self.stop_string=stop_string\n",
    "    \n",
    "    def chat_completion(\n",
    "            self,\n",
    "            messages: List[dict],\n",
    "            model: str,\n",
    "            temperature: float = 0.2,\n",
    "            max_tokens: int = 4096,\n",
    "            **kwargs\n",
    "            ) -> str:\n",
    "        response = self.client.chat.completions.create(\n",
    "            messages=messages, #type:ignore\n",
    "            model=model,\n",
    "            temperature=temperature,\n",
    "            max_tokens=max_tokens,\n",
    "            stop=self.stop_string,\n",
    "            **kwargs\n",
    "        )   #type:ignore\n",
    "        return response.choices[0].message.content\n",
    "    def react_loop(self,initial_state:List[List[str]],step_limit:Optional[int]=None):\n",
    "        self.initial_state=initial_state\n",
    "        self.sokoban=Sokoban(state=initial_state)\n",
    "        self.astar_sokoban_state=AStarSokobanState(sokoban=self.sokoban)\n",
    "        "
   ]
  },
  {
   "cell_type": "code",
   "execution_count": null,
   "id": "9b8b1032",
   "metadata": {},
   "outputs": [],
   "source": []
  }
 ],
 "metadata": {
  "kernelspec": {
   "display_name": "env",
   "language": "python",
   "name": "python3"
  },
  "language_info": {
   "codemirror_mode": {
    "name": "ipython",
    "version": 3
   },
   "file_extension": ".py",
   "mimetype": "text/x-python",
   "name": "python",
   "nbconvert_exporter": "python",
   "pygments_lexer": "ipython3",
   "version": "3.12.0"
  }
 },
 "nbformat": 4,
 "nbformat_minor": 5
}
